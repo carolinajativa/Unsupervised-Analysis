{
 "cells": [
  {
   "cell_type": "markdown",
   "metadata": {},
   "source": [
    "\n",
    "<hr style=\"height:.9px;border:none;color:#333;background-color:#333;\" />\n",
    "<hr style=\"height:.9px;border:none;color:#333;background-color:#333;\" />\n",
    "\n",
    "<span style=\"font-size:28px\"><b>Unsupervised Analysis Project </b></span><br><br>\n",
    "<br>\n",
    "<span style=\"font-size:24px\"><b>Team 16</b></span><br>\n",
    "<br>\n",
    "<span style=\"font-size:14px\">29/01/2021</span><br>\n",
    "<br>\n",
    "\n",
    "<br>\n",
    "<span style=\"font-size:14px\">Carolina Játiva, David Fakunle, Fabiola Farrera Fonseca, Kamakshi Madhok, William Molo <span><br>\n",
    " \n",
    "<hr style=\"height:.9px;border:none;color:#333;background-color:#333;\" />\n",
    "<hr style=\"height:.9px;border:none;color:#333;background-color:#333;\" />\n",
    "   "
   ]
  },
  {
   "cell_type": "markdown",
   "metadata": {},
   "source": [
    "<h2> Introduction</h2><br>\n",
    "The following analysis has the objective to find aspects of consumer buying behavior in Hult Students when buying a laptop. The goal of the analysis is to interpret an unsupervised machine learning algorithm to obtain key insights for Apple, based on a survey done to 137 Hult Students. The survey covers 78 questions about Hult's Students personality, Hult DNA and demographics."
   ]
  },
  {
   "cell_type": "markdown",
   "metadata": {},
   "source": [
    "<h2>Part I: Data Preparation</h2><br>\n",
    "Importing necessary packages, loading data, and setting display options. "
   ]
  },
  {
   "cell_type": "code",
   "execution_count": 1,
   "metadata": {},
   "outputs": [],
   "source": [
    "########################################\n",
    "# importing packages\n",
    "########################################\n",
    "import numpy             as np                   # mathematical essentials\n",
    "import pandas            as pd                   # data science essentials\n",
    "import matplotlib.pyplot as plt                  # fundamental data visualization\n",
    "import seaborn           as sns                  # enhanced visualization\n",
    "from sklearn.preprocessing import StandardScaler # standard scaler\n",
    "from sklearn.decomposition import PCA            # pca \n",
    "from sklearn.cluster         import KMeans  #new reduces dimensionality - groups them - PCAs\n",
    "from scipy.cluster.hierarchy import dendrogram, linkage # dendrograms\n",
    "#new reduces dimensionality - groups them - PCAs\n",
    "\n",
    "\n",
    "########################################\n",
    "# loading data and setting display options\n",
    "########################################\n",
    "# loading data\n",
    "survey= pd.read_excel('./survey_data.xlsx')\n",
    "\n",
    "\n",
    "# setting print options\n",
    "pd.set_option('display.max_rows', 500)\n",
    "pd.set_option('display.max_columns', 500)\n",
    "pd.set_option('display.width', 1000)\n",
    "pd.set_option('display.max_colwidth', 100)"
   ]
  },
  {
   "cell_type": "markdown",
   "metadata": {},
   "source": [
    "<hr style=\"height:.9px;border:none;color:#333;background-color:#333;\" /><br>\n",
    "\n",
    "<strong>User-Defined Functions</strong><br>\n",
    "\n",
    "The following User-Defined Functions will be needed for this analysis. \n",
    "The Scree Plot will be used to show the number of PCAs that will be selected. \n",
    "The Inertia Plot will be used to show the number of KMeans Clusters that will be used."
   ]
  },
  {
   "cell_type": "code",
   "execution_count": 2,
   "metadata": {},
   "outputs": [],
   "source": [
    "########################################\n",
    "# scree_plot\n",
    "########################################\n",
    "def scree_plot(pca_object, export = False):\n",
    "    # building a scree plot\n",
    "\n",
    "    # setting plot size\n",
    "    fig, ax = plt.subplots(figsize=(10, 8))\n",
    "    features = range(pca_object.n_components_)\n",
    "\n",
    "\n",
    "    # developing a scree plot\n",
    "    plt.plot(features,\n",
    "             pca_object.explained_variance_ratio_,\n",
    "             linewidth = 2,\n",
    "             marker = 'o',\n",
    "             markersize = 10,\n",
    "             markeredgecolor = 'black',\n",
    "             markerfacecolor = 'grey')\n",
    "\n",
    "\n",
    "    # setting more plot options\n",
    "    plt.title('Scree Plot')\n",
    "    plt.xlabel('PCA feature')\n",
    "    plt.ylabel('Explained Variance')\n",
    "    plt.xticks(features)\n",
    "\n",
    "    if export == True:\n",
    "    \n",
    "        # exporting the plot\n",
    "        plt.savefig('./analysis_images/survey_scree_plot.png')\n",
    "        \n",
    "    # displaying the plot\n",
    "    plt.show()"
   ]
  },
  {
   "cell_type": "code",
   "execution_count": 3,
   "metadata": {},
   "outputs": [],
   "source": [
    "########################################\n",
    "# inertia\n",
    "########################################\n",
    "def interia_plot(data, max_clust = 50):\n",
    "    \"\"\"\n",
    "PARAMETERS\n",
    "----------\n",
    "data      : DataFrame, data from which to build clusters. Dataset should be scaled\n",
    "max_clust : int, maximum of range for how many clusters to check interia, default 50\n",
    "    \"\"\"\n",
    "\n",
    "    ks = range(1, max_clust)\n",
    "    inertias = []\n",
    "\n",
    "\n",
    "    for k in ks:\n",
    "        # INSTANTIATING a kmeans object\n",
    "        model = KMeans(n_clusters = k)\n",
    "\n",
    "\n",
    "        # FITTING to the data\n",
    "        model.fit(data)\n",
    "\n",
    "\n",
    "        # append each inertia to the list of inertias\n",
    "        inertias.append(model.inertia_)\n",
    "\n",
    "\n",
    "\n",
    "    # plotting ks vs inertias\n",
    "    fig, ax = plt.subplots(figsize = (12, 8))\n",
    "    plt.plot(ks, inertias, '-o')\n",
    "\n",
    "\n",
    "    # labeling and displaying the plot\n",
    "    plt.xlabel('number of clusters, k')\n",
    "    plt.ylabel('inertia')\n",
    "    plt.xticks(ks)\n",
    "    plt.show()\n"
   ]
  },
  {
   "cell_type": "markdown",
   "metadata": {},
   "source": [
    "<hr style=\"height:.9px;border:none;color:#333;background-color:#333;\" /><br>\n",
    "\n",
    "<strong>Data Exploration</strong><br>\n"
   ]
  },
  {
   "cell_type": "code",
   "execution_count": 4,
   "metadata": {},
   "outputs": [],
   "source": [
    "#Checking the information of the dataset\n",
    "#print(survey.info())"
   ]
  },
  {
   "cell_type": "code",
   "execution_count": 5,
   "metadata": {},
   "outputs": [],
   "source": [
    "#Checking missing values\n",
    "#survey.isnull().sum(axis=0).any()\n",
    "#There are no missing values in the dataset"
   ]
  },
  {
   "cell_type": "code",
   "execution_count": 6,
   "metadata": {},
   "outputs": [],
   "source": [
    "# summary of decriptive statistics\n",
    "#survey.describe(include = 'number').round(decimals=2)"
   ]
  },
  {
   "cell_type": "markdown",
   "metadata": {},
   "source": [
    "<strong>Insights:</strong><br>\n",
    "\n",
    "Low Mean Answers to Questions:\n",
    " - Insult people:1.90. \n",
    " - Do not have a good imagination:  2.30\n",
    " - Get upset easily: 2.30\n",
    "\n",
    "High Mean Answers to Questions:\n",
    " - Drive for results: 4.4\n",
    " - Seek and use feedback from others:4.30\n",
    "\n"
   ]
  },
  {
   "cell_type": "code",
   "execution_count": 7,
   "metadata": {},
   "outputs": [],
   "source": [
    "# displaying first ten rows of the dataset\n",
    "#survey.head(n=10)"
   ]
  },
  {
   "cell_type": "code",
   "execution_count": 8,
   "metadata": {},
   "outputs": [
    {
     "data": {
      "text/plain": [
       "(137, 79)"
      ]
     },
     "execution_count": 8,
     "metadata": {},
     "output_type": "execute_result"
    }
   ],
   "source": [
    "#Checking the number of columns and rows in the dataset\n",
    "survey.shape"
   ]
  },
  {
   "cell_type": "code",
   "execution_count": 9,
   "metadata": {},
   "outputs": [
    {
     "data": {
      "text/plain": [
       "Macbook           69\n",
       "Windows laptop    68\n",
       "Name: What laptop do you currently have?, dtype: int64"
      ]
     },
     "execution_count": 9,
     "metadata": {},
     "output_type": "execute_result"
    }
   ],
   "source": [
    "#Distribution of laptop type that students currently have\n",
    "survey['What laptop do you currently have?'].value_counts()\n",
    "#Windows laptop is winning"
   ]
  },
  {
   "cell_type": "code",
   "execution_count": 10,
   "metadata": {},
   "outputs": [
    {
     "data": {
      "text/plain": [
       "Macbook           77\n",
       "Windows laptop    56\n",
       "Chromebook         4\n",
       "Name: What laptop would you buy in next assuming if all laptops cost the same?, dtype: int64"
      ]
     },
     "execution_count": 10,
     "metadata": {},
     "output_type": "execute_result"
    }
   ],
   "source": [
    "#Distribution of laptop type that students would buy\n",
    "survey['What laptop would you buy in next assuming if all laptops cost the same?'].value_counts()\n",
    "#Macbook latop is winning"
   ]
  },
  {
   "cell_type": "code",
   "execution_count": 11,
   "metadata": {},
   "outputs": [],
   "source": [
    "# Distribution of age\n",
    "#survey['What is your age?'].value_counts()\n",
    "#most students range around the 20s"
   ]
  },
  {
   "cell_type": "code",
   "execution_count": 12,
   "metadata": {},
   "outputs": [],
   "source": [
    "#Distribution of ethnicity\n",
    "#survey['What is your ethnicity?'].value_counts()"
   ]
  },
  {
   "cell_type": "markdown",
   "metadata": {},
   "source": [
    "<hr style=\"height:.9px;border:none;color:#333;background-color:#333;\" /><br>\n",
    "\n",
    "<strong>Feature Treatment and Engineering</strong><br>"
   ]
  },
  {
   "cell_type": "markdown",
   "metadata": {},
   "source": [
    "<strong>Fixing Letter Casing in the column 'What is your nationality'?</strong><br>\n",
    "Some students answered to this questions in different ways for some of the same nationalities,\n",
    "so we standardized this by creating a dictionary that contained the errors that needed to be fixed"
   ]
  },
  {
   "cell_type": "code",
   "execution_count": 13,
   "metadata": {},
   "outputs": [],
   "source": [
    "#Capitalizing all nationalities\n",
    "survey['What is your nationality? '] = survey['What is your nationality? '].str.capitalize()"
   ]
  },
  {
   "cell_type": "code",
   "execution_count": 14,
   "metadata": {},
   "outputs": [],
   "source": [
    "#Fixing the letter casing of nationalities \n",
    "#Creating a dictionary to be able to fix it\n",
    "replaceable_names = {\"Ecuador\"             : \"Ecuadorian\",\n",
    "                     \"India\"               : \"Indian\",\n",
    "                     \"Indian.\"             : \"Indian\",\n",
    "                     \"China\"               : \"Chinese\",\n",
    "                     \"Japan\"               : \"Japanese\",\n",
    "                     \"Costarrican\"         : \"Costa Rican\",\n",
    "                     \"Usa\"                 : \"American\",\n",
    "                     \"Philippines\"         : \"Filipino\",\n",
    "                     \"Indonesia\"           : \"Indonesian\",\n",
    "                     \"Germany\"             : \"German\",\n",
    "                     \"Mauritius\"           : \"Mauritian\",\n",
    "                     \"South korea\"         : \"South Korean\",\n",
    "                     \"Korea\"               : \"South Korean\",\n",
    "                     \"Republic of korea\"   : \"South Korean\",\n",
    "                     \"German/american\"     : \"Multi-ethnic\",\n",
    "                     \"Peru\"                : \"Peruvian\",\n",
    "                     \"Brazil\"              : \"Brazilian\",\n",
    "                     \"Russia\"              : \"Russian\",\n",
    "                     \"Italian and spanish\" : \"Multi-ethnic\",\n",
    "                     \"Colombia\"            : \"Colombian\",\n",
    "                     \"Taiwan\"              : \"Taiwanese\",\n",
    "                     \"British, indian\"     : \"Multi-ethnic\",              \n",
    "                     \"Belarus\"             : \"Belarusian\",\n",
    "                     \"Nigeria\"             : \"Nigerian\",\n",
    "                     \"Panama\"              : \"Panamanian\",\n",
    "                     \"Spain\"               : \"Spanish\",\n",
    "                     \"Canada\"              : \"Canadian\",\n",
    "                     \"Congolese (dr congo)\": \"Congolese\",\n",
    "                     \"Czech republic\"      : \"Czech\"\n",
    "                    }"
   ]
  },
  {
   "cell_type": "code",
   "execution_count": 15,
   "metadata": {},
   "outputs": [],
   "source": [
    "#Replacing the strings in the nationality column\n",
    "survey['What is your nationality? '].replace(replaceable_names, inplace = True)"
   ]
  },
  {
   "cell_type": "code",
   "execution_count": 16,
   "metadata": {},
   "outputs": [],
   "source": [
    "#Confirming the changes made\n",
    "#survey['What is your nationality? '].value_counts()"
   ]
  },
  {
   "cell_type": "markdown",
   "metadata": {},
   "source": [
    "<strong>Fixing Duplicate Columns in the Dataset</strong><br>\n",
    "The columns 'Encourage direct and open discussions', \"Take initiative even when circumstances,\n",
    "objectives, or rules aren't clear\", 'Respond effectively to multiple priorities' were duplicated \n",
    "in the dataset. It was found that in some columns, some students responded inconsistently to the \n",
    "same questions. Therefore, if the difference was greater or equal to 2, that observation/row was \n",
    "dropped. For the rows, in which the difference was lower than 2, an average of both were calculated \n",
    "and then the duplicated column was dropped. "
   ]
  },
  {
   "cell_type": "code",
   "execution_count": 17,
   "metadata": {},
   "outputs": [],
   "source": [
    "#Getting rid of the rows were the difference of the duplicate questions is greater or equal than 2\n",
    "for index, row in survey.iterrows():\n",
    "    if row['Encourage direct and open discussions'] - row['Encourage direct and open discussions.1'] >= 2:\n",
    "        survey.drop(index, inplace = True)\n",
    "        \n",
    "for index, row in survey.iterrows():\n",
    "    if row['Encourage direct and open discussions.1'] - row['Encourage direct and open discussions'] >= 2:\n",
    "        survey.drop(index, inplace = True)\n"
   ]
  },
  {
   "cell_type": "code",
   "execution_count": 18,
   "metadata": {},
   "outputs": [],
   "source": [
    "#Getting rid of the rows were the difference of the duplicate questions is greater or equal than 2\n",
    "for index, row in survey.iterrows():\n",
    "    if row[\"Take initiative even when circumstances, objectives, or rules aren't clear\"] - row[\"Take initiative even when circumstances, objectives, or rules aren't clear.1\"] >= 2:\n",
    "        survey.drop(index, inplace = True)\n",
    "        \n",
    "for index, row in survey.iterrows():\n",
    "    if row[\"Take initiative even when circumstances, objectives, or rules aren't clear.1\"] - row[\"Take initiative even when circumstances, objectives, or rules aren't clear\"] >= 2:\n",
    "        survey.drop(index, inplace = True)"
   ]
  },
  {
   "cell_type": "code",
   "execution_count": 19,
   "metadata": {},
   "outputs": [],
   "source": [
    "#Getting rid of the rows were the difference of the duplicate questions is greater or equal than 2\n",
    "for index, row in survey.iterrows():\n",
    "    if row['Respond effectively to multiple priorities'] - row['Respond effectively to multiple priorities.1'] >= 2:\n",
    "        survey.drop(index, inplace = True)\n",
    "\n",
    "for index, row in survey.iterrows():\n",
    "    if row['Respond effectively to multiple priorities.1'] - row['Respond effectively to multiple priorities'] >= 2:\n",
    "        survey.drop(index, inplace = True)"
   ]
  },
  {
   "cell_type": "code",
   "execution_count": 20,
   "metadata": {},
   "outputs": [],
   "source": [
    "# Taking the average of the duplicated columns were the difference was less than 2\n",
    "survey['Respond effectively to multiple priorities']\\\n",
    "= ((survey['Respond effectively to multiple priorities']\\\n",
    "+ survey['Respond effectively to multiple priorities.1'])/2).round(decimals=0)\n",
    "\n",
    "survey[\"Take initiative even when circumstances, objectives, or rules aren't clear\"]\\\n",
    "= ((survey[\"Take initiative even when circumstances, objectives, or rules aren't clear\"]\\\n",
    "+ survey[\"Take initiative even when circumstances, objectives, or rules aren't clear.1\"])/2).round(decimals=0)\n",
    "\n",
    "\n",
    "survey[\"Encourage direct and open discussions\"]\\\n",
    "= ((survey[\"Encourage direct and open discussions\"]\\\n",
    "+ survey[\"Encourage direct and open discussions.1\"])/2).round(decimals=0)"
   ]
  },
  {
   "cell_type": "code",
   "execution_count": 21,
   "metadata": {},
   "outputs": [
    {
     "data": {
      "text/plain": [
       "(129, 76)"
      ]
     },
     "execution_count": 21,
     "metadata": {},
     "output_type": "execute_result"
    }
   ],
   "source": [
    "#Dropping duplicated columns\n",
    "survey = survey.drop(['Respond effectively to multiple priorities.1',\n",
    "                      \"Take initiative even when circumstances, objectives, or rules aren't clear.1\",\n",
    "                      \"Encourage direct and open discussions.1\"],\n",
    "                           axis = 1)\n",
    "#Confirming that the rows and columns were dropped\n",
    "survey.shape"
   ]
  },
  {
   "cell_type": "code",
   "execution_count": 22,
   "metadata": {},
   "outputs": [],
   "source": [
    "#Storing demographic questions in a list\n",
    "demographics = ['surveyID',\n",
    "                'What laptop do you currently have?',\n",
    "                'What laptop would you buy in next assuming if all laptops cost the same?',\n",
    "                'What program are you in?',\n",
    "                'What is your age?',\n",
    "                'Gender',\n",
    "                'What is your nationality? ',\n",
    "                'What is your ethnicity?']\n",
    "\n",
    "#Dropping demographic questions and saving in a new dataframe\n",
    "survey_df= survey.drop(demographics, axis = 1)"
   ]
  },
  {
   "cell_type": "code",
   "execution_count": 23,
   "metadata": {},
   "outputs": [],
   "source": [
    "#checking the new dataset\n",
    "#survey_df.info()"
   ]
  },
  {
   "cell_type": "markdown",
   "metadata": {},
   "source": [
    "<hr style=\"height:.9px;border:none;color:#333;background-color:#333;\" /><br>\n",
    "\n",
    "<h2>Part III: Principal Component Analysis</h2><br>"
   ]
  },
  {
   "cell_type": "markdown",
   "metadata": {},
   "source": [
    "<strong>PCA and Scaling</strong><br>"
   ]
  },
  {
   "cell_type": "markdown",
   "metadata": {},
   "source": [
    "Next, out dataset that contains the explanatory variables will be scaled before developing a principal component analysis algorithm."
   ]
  },
  {
   "cell_type": "code",
   "execution_count": 24,
   "metadata": {},
   "outputs": [
    {
     "name": "stdout",
     "output_type": "stream",
     "text": [
      "Am the life of the party                                                      1.263506\n",
      "Don't talk a lot                                                              1.123250\n",
      "Feel comfortable around people                                                0.971336\n",
      "Keep in the background                                                        0.857521\n",
      "Start conversations                                                           0.975783\n",
      "Have little to say                                                            1.053302\n",
      "Talk to a lot of different people at parties                                  1.153536\n",
      "Don't like to draw attention to myself                                        1.288024\n",
      "Don't mind being the center of attention                                      1.329487\n",
      "Am quiet around strangers                                                     1.128298\n",
      "Feel little concern for others                                                1.709753\n",
      "Am interested in people                                                       0.937203\n",
      "Insult people                                                                 0.886726\n",
      "Sympathize with others' feelings                                              0.729163\n",
      "Am not interested in other people's problems                                  1.210865\n",
      "Have a soft heart                                                             1.118803\n",
      "Am not really interested in others                                            1.035635\n",
      "Take time out for others                                                      0.927108\n",
      "Feel others' emotions                                                         1.032991\n",
      "Make people feel at ease                                                      0.596118\n",
      "Am always prepared                                                            0.802716\n",
      "Leave my belongings around                                                    1.768524\n",
      "Pay attention to details                                                      0.647197\n",
      "Make a mess of things                                                         1.165795\n",
      "Get chores done right away                                                    0.979749\n",
      "Often forget to put things back in their proper place                         1.330209\n",
      "Like order                                                                    0.983715\n",
      "Shirk my duties                                                               0.917733\n",
      "Follow a schedule                                                             0.906196\n",
      "Am exacting in my work                                                        0.812091\n",
      "Get stressed out easily                                                       1.413737\n",
      "Am relaxed most of the time                                                   1.170723\n",
      "Worry about things                                                            1.350039\n",
      "Seldom feel blue                                                              1.005589\n",
      "Am easily disturbed                                                           1.204615\n",
      "Get upset easily                                                              1.350039\n",
      "Change my mood a lot                                                          1.236464\n",
      "Have frequent mood swings                                                     1.501472\n",
      "Get irritated easily                                                          1.341386\n",
      "Often feel blue                                                               1.111592\n",
      "Have a rich vocabulary                                                        0.886726\n",
      "Have difficulty understanding abstract ideas                                  1.119284\n",
      "Have a vivid imagination                                                      0.910883\n",
      "Am not interested in abstract ideas                                           1.091160\n",
      "Have excellent ideas                                                          0.502975\n",
      "Do not have a good imagination                                                1.199688\n",
      "Am quick to understand things                                                 0.765940\n",
      "Use difficult words                                                           0.982633\n",
      "Spend time reflecting on things                                               0.853194\n",
      "Am full of ideas                                                              0.729884\n",
      "See underlying patterns in complex situations                                 0.588186\n",
      "Don't  generate ideas that are new and different                              1.139475\n",
      "Demonstrate an awareness of personal strengths and limitations                0.555976\n",
      "Display a growth mindset                                                      0.544559\n",
      "Respond effectively to multiple priorities                                    0.471366\n",
      "Take initiative even when circumstances, objectives, or rules aren't clear    0.688420\n",
      "Encourage direct and open discussions                                         0.510666\n",
      "Listen carefully to others                                                    0.658374\n",
      "Don't persuasively sell a vision or idea                                      1.003906\n",
      "Build cooperative relationships                                               0.515354\n",
      "Work well with people from diverse cultural backgrounds                       0.460069\n",
      "Effectively negotiate interests, resources, and roles                         0.524728\n",
      "Can't rally people on the team around a common goal                           1.147407\n",
      "Translate ideas into plans that are organized and realistic                   0.616309\n",
      "Resolve conflicts constructively                                              0.487471\n",
      "Seek and use feedback from teammates                                          0.600805\n",
      "Coach teammates for performance and growth                                    0.685896\n",
      "Drive for results                                                             0.621357\n",
      "dtype: float64 \n",
      "\n",
      "\n",
      "Am the life of the party                                                      1.0\n",
      "Don't talk a lot                                                              1.0\n",
      "Feel comfortable around people                                                1.0\n",
      "Keep in the background                                                        1.0\n",
      "Start conversations                                                           1.0\n",
      "Have little to say                                                            1.0\n",
      "Talk to a lot of different people at parties                                  1.0\n",
      "Don't like to draw attention to myself                                        1.0\n",
      "Don't mind being the center of attention                                      1.0\n",
      "Am quiet around strangers                                                     1.0\n",
      "Feel little concern for others                                                1.0\n",
      "Am interested in people                                                       1.0\n",
      "Insult people                                                                 1.0\n",
      "Sympathize with others' feelings                                              1.0\n",
      "Am not interested in other people's problems                                  1.0\n",
      "Have a soft heart                                                             1.0\n",
      "Am not really interested in others                                            1.0\n",
      "Take time out for others                                                      1.0\n",
      "Feel others' emotions                                                         1.0\n",
      "Make people feel at ease                                                      1.0\n",
      "Am always prepared                                                            1.0\n",
      "Leave my belongings around                                                    1.0\n",
      "Pay attention to details                                                      1.0\n",
      "Make a mess of things                                                         1.0\n",
      "Get chores done right away                                                    1.0\n",
      "Often forget to put things back in their proper place                         1.0\n",
      "Like order                                                                    1.0\n",
      "Shirk my duties                                                               1.0\n",
      "Follow a schedule                                                             1.0\n",
      "Am exacting in my work                                                        1.0\n",
      "Get stressed out easily                                                       1.0\n",
      "Am relaxed most of the time                                                   1.0\n",
      "Worry about things                                                            1.0\n",
      "Seldom feel blue                                                              1.0\n",
      "Am easily disturbed                                                           1.0\n",
      "Get upset easily                                                              1.0\n",
      "Change my mood a lot                                                          1.0\n",
      "Have frequent mood swings                                                     1.0\n",
      "Get irritated easily                                                          1.0\n",
      "Often feel blue                                                               1.0\n",
      "Have a rich vocabulary                                                        1.0\n",
      "Have difficulty understanding abstract ideas                                  1.0\n",
      "Have a vivid imagination                                                      1.0\n",
      "Am not interested in abstract ideas                                           1.0\n",
      "Have excellent ideas                                                          1.0\n",
      "Do not have a good imagination                                                1.0\n",
      "Am quick to understand things                                                 1.0\n",
      "Use difficult words                                                           1.0\n",
      "Spend time reflecting on things                                               1.0\n",
      "Am full of ideas                                                              1.0\n",
      "See underlying patterns in complex situations                                 1.0\n",
      "Don't  generate ideas that are new and different                              1.0\n",
      "Demonstrate an awareness of personal strengths and limitations                1.0\n",
      "Display a growth mindset                                                      1.0\n",
      "Respond effectively to multiple priorities                                    1.0\n",
      "Take initiative even when circumstances, objectives, or rules aren't clear    1.0\n",
      "Encourage direct and open discussions                                         1.0\n",
      "Listen carefully to others                                                    1.0\n",
      "Don't persuasively sell a vision or idea                                      1.0\n",
      "Build cooperative relationships                                               1.0\n",
      "Work well with people from diverse cultural backgrounds                       1.0\n",
      "Effectively negotiate interests, resources, and roles                         1.0\n",
      "Can't rally people on the team around a common goal                           1.0\n",
      "Translate ideas into plans that are organized and realistic                   1.0\n",
      "Resolve conflicts constructively                                              1.0\n",
      "Seek and use feedback from teammates                                          1.0\n",
      "Coach teammates for performance and growth                                    1.0\n",
      "Drive for results                                                             1.0\n",
      "dtype: float64\n"
     ]
    },
    {
     "name": "stderr",
     "output_type": "stream",
     "text": [
      "<ipython-input-24-94a74a25e750>:21: FutureWarning: The pandas.np module is deprecated and will be removed from pandas in a future version. Import numpy directly instead\n",
      "  print(pd.np.var(survey_df), '\\n\\n')\n",
      "<ipython-input-24-94a74a25e750>:22: FutureWarning: The pandas.np module is deprecated and will be removed from pandas in a future version. Import numpy directly instead\n",
      "  print(pd.np.var(survey_scaled))\n"
     ]
    }
   ],
   "source": [
    "# INSTANTIATING a StandardScaler() object\n",
    "scaler = StandardScaler()\n",
    "\n",
    "\n",
    "# FITTING the scaler with the data\n",
    "scaler.fit(survey_df)\n",
    "\n",
    "# TRANSFORMING our data after fit\n",
    "X_scaled = scaler.transform(survey_df)\n",
    "\n",
    "\n",
    "# converting scaled data into a DataFrame\n",
    "survey_scaled = pd.DataFrame(X_scaled)\n",
    "\n",
    "\n",
    "# reattaching column names\n",
    "survey_scaled.columns = survey_df.columns\n",
    "\n",
    "\n",
    "# checking pre- and post-scaling variance\n",
    "print(pd.np.var(survey_df), '\\n\\n')\n",
    "print(pd.np.var(survey_scaled))\n"
   ]
  },
  {
   "cell_type": "markdown",
   "metadata": {},
   "source": [
    "Our dataset of explanatory variables, will be splitted into the Big 5 Personality Test and the Hult DNA. In that way, we will do 2 analysis for both sets."
   ]
  },
  {
   "cell_type": "markdown",
   "metadata": {},
   "source": [
    "<hr style=\"height:.9px;border:none;color:#333;background-color:#333;\" /><br>\n",
    "<strong>Big 5 Personality Test</strong><br>\n",
    "The Big 5 Personality test was created to determine if a person exhibits the following types of personalities:\n",
    "\n",
    "1. Extraversion: is the personality trait of seeking fulfillment from sources outside the self or in community. High scorers tend to be very social while low scorers prefer to work on their projects alone.\n",
    "\n",
    "2. Agreeableness: reflects much individuals adjust their behavior to suit others. High scorers are typically polite and like people. Low scorers tend to 'tell it like it is'.\n",
    "\n",
    "3. Conscientiousness: is the personality trait of being honest and hardworking. High scorers tend to follow rules and prefer clean homes. Low scorers may be messy and cheat others.\n",
    "\n",
    "4. Neuroticism: is the personality trait of being emotional.\n",
    "\n",
    "5. Openess: is the personality trait of seeking new experience and intellectual\n",
    "\n",
    "The Big Five Personality Test. (n.d.)\n"
   ]
  },
  {
   "cell_type": "code",
   "execution_count": 63,
   "metadata": {},
   "outputs": [],
   "source": [
    "#Splitting the dataset for the Big 5 Personality \n",
    "personality = survey_df.iloc[:, 0:50]\n",
    "\n",
    "#Checking the chosen columns\n",
    "#personality.head()"
   ]
  },
  {
   "cell_type": "code",
   "execution_count": 26,
   "metadata": {},
   "outputs": [
    {
     "name": "stdout",
     "output_type": "stream",
     "text": [
      "Am the life of the party                                 1.263506\n",
      "Don't talk a lot                                         1.123250\n",
      "Feel comfortable around people                           0.971336\n",
      "Keep in the background                                   0.857521\n",
      "Start conversations                                      0.975783\n",
      "Have little to say                                       1.053302\n",
      "Talk to a lot of different people at parties             1.153536\n",
      "Don't like to draw attention to myself                   1.288024\n",
      "Don't mind being the center of attention                 1.329487\n",
      "Am quiet around strangers                                1.128298\n",
      "Feel little concern for others                           1.709753\n",
      "Am interested in people                                  0.937203\n",
      "Insult people                                            0.886726\n",
      "Sympathize with others' feelings                         0.729163\n",
      "Am not interested in other people's problems             1.210865\n",
      "Have a soft heart                                        1.118803\n",
      "Am not really interested in others                       1.035635\n",
      "Take time out for others                                 0.927108\n",
      "Feel others' emotions                                    1.032991\n",
      "Make people feel at ease                                 0.596118\n",
      "Am always prepared                                       0.802716\n",
      "Leave my belongings around                               1.768524\n",
      "Pay attention to details                                 0.647197\n",
      "Make a mess of things                                    1.165795\n",
      "Get chores done right away                               0.979749\n",
      "Often forget to put things back in their proper place    1.330209\n",
      "Like order                                               0.983715\n",
      "Shirk my duties                                          0.917733\n",
      "Follow a schedule                                        0.906196\n",
      "Am exacting in my work                                   0.812091\n",
      "Get stressed out easily                                  1.413737\n",
      "Am relaxed most of the time                              1.170723\n",
      "Worry about things                                       1.350039\n",
      "Seldom feel blue                                         1.005589\n",
      "Am easily disturbed                                      1.204615\n",
      "Get upset easily                                         1.350039\n",
      "Change my mood a lot                                     1.236464\n",
      "Have frequent mood swings                                1.501472\n",
      "Get irritated easily                                     1.341386\n",
      "Often feel blue                                          1.111592\n",
      "Have a rich vocabulary                                   0.886726\n",
      "Have difficulty understanding abstract ideas             1.119284\n",
      "Have a vivid imagination                                 0.910883\n",
      "Am not interested in abstract ideas                      1.091160\n",
      "Have excellent ideas                                     0.502975\n",
      "Do not have a good imagination                           1.199688\n",
      "Am quick to understand things                            0.765940\n",
      "Use difficult words                                      0.982633\n",
      "Spend time reflecting on things                          0.853194\n",
      "Am full of ideas                                         0.729884\n",
      "dtype: float64 \n",
      "\n",
      "\n",
      "Am the life of the party                                 1.0\n",
      "Don't talk a lot                                         1.0\n",
      "Feel comfortable around people                           1.0\n",
      "Keep in the background                                   1.0\n",
      "Start conversations                                      1.0\n",
      "Have little to say                                       1.0\n",
      "Talk to a lot of different people at parties             1.0\n",
      "Don't like to draw attention to myself                   1.0\n",
      "Don't mind being the center of attention                 1.0\n",
      "Am quiet around strangers                                1.0\n",
      "Feel little concern for others                           1.0\n",
      "Am interested in people                                  1.0\n",
      "Insult people                                            1.0\n",
      "Sympathize with others' feelings                         1.0\n",
      "Am not interested in other people's problems             1.0\n",
      "Have a soft heart                                        1.0\n",
      "Am not really interested in others                       1.0\n",
      "Take time out for others                                 1.0\n",
      "Feel others' emotions                                    1.0\n",
      "Make people feel at ease                                 1.0\n",
      "Am always prepared                                       1.0\n",
      "Leave my belongings around                               1.0\n",
      "Pay attention to details                                 1.0\n",
      "Make a mess of things                                    1.0\n",
      "Get chores done right away                               1.0\n",
      "Often forget to put things back in their proper place    1.0\n",
      "Like order                                               1.0\n",
      "Shirk my duties                                          1.0\n",
      "Follow a schedule                                        1.0\n",
      "Am exacting in my work                                   1.0\n",
      "Get stressed out easily                                  1.0\n",
      "Am relaxed most of the time                              1.0\n",
      "Worry about things                                       1.0\n",
      "Seldom feel blue                                         1.0\n",
      "Am easily disturbed                                      1.0\n",
      "Get upset easily                                         1.0\n",
      "Change my mood a lot                                     1.0\n",
      "Have frequent mood swings                                1.0\n",
      "Get irritated easily                                     1.0\n",
      "Often feel blue                                          1.0\n",
      "Have a rich vocabulary                                   1.0\n",
      "Have difficulty understanding abstract ideas             1.0\n",
      "Have a vivid imagination                                 1.0\n",
      "Am not interested in abstract ideas                      1.0\n",
      "Have excellent ideas                                     1.0\n",
      "Do not have a good imagination                           1.0\n",
      "Am quick to understand things                            1.0\n",
      "Use difficult words                                      1.0\n",
      "Spend time reflecting on things                          1.0\n",
      "Am full of ideas                                         1.0\n",
      "dtype: float64\n"
     ]
    }
   ],
   "source": [
    "# INSTANTIATING a StandardScaler() object\n",
    "scaler = StandardScaler()\n",
    "\n",
    "\n",
    "# FITTING the scaler with the data\n",
    "scaler.fit(personality)\n",
    "\n",
    "\n",
    "# TRANSFORMING our data after fit\n",
    "X_scaled = scaler.transform(personality)\n",
    "\n",
    "\n",
    "# converting scaled data into a DataFrame\n",
    "personality_scaled = pd.DataFrame(X_scaled)\n",
    "\n",
    "\n",
    "# reattaching column names\n",
    "personality_scaled.columns = personality.columns\n",
    "\n",
    "\n",
    "# checking pre- and post-scaling variance\n",
    "print(np.var(personality), '\\n\\n')\n",
    "print(np.var(personality_scaled))"
   ]
  },
  {
   "cell_type": "markdown",
   "metadata": {},
   "source": [
    "<hr style=\"height:.9px;border:none;color:#333;background-color:#333;\" /><br>\n",
    "<strong>Hult DNA</strong><br>\n",
    "The Hult DNA is a set of aspirations for the professional development of Hult students around the world, and a tool to assist the alignment of their skills with future employer needs. The Hult DNA framework unites students around the common identity of savvy, mission driven, globally aware, and results- driven professionals. The Leadership Skills Model consists of the following 3 critical competencies that comprise the Hult DNA:\n",
    "\n",
    "1. Thinking\n",
    "- Shows Self Awareness\n",
    "- Embraces Change\n",
    "- Demonstrates Dynamic Thinking\n",
    "\n",
    "2. Communicating\n",
    "- Speaks and Listens Skillfully\n",
    "- Speaks and Listens Skillfully\n",
    "- Presents Ideas Effectively \n",
    "\n",
    "3. Team Building\n",
    "- Builds collaborative Relationships\n",
    "- Inspires and Motivates\n",
    "- Resolves Conflicts Constructively\n",
    "\n",
    "Hult DNA Development Guide 2020-2021. (n.d.). Hult International Business School."
   ]
  },
  {
   "cell_type": "code",
   "execution_count": 64,
   "metadata": {},
   "outputs": [],
   "source": [
    "#Splitting for Hult DNA Skills\n",
    "hult = survey_df.iloc[:, 50:68]\n",
    "\n",
    "#Checking the chosen columns\n",
    "#hult.head()"
   ]
  },
  {
   "cell_type": "code",
   "execution_count": 28,
   "metadata": {},
   "outputs": [
    {
     "name": "stdout",
     "output_type": "stream",
     "text": [
      "See underlying patterns in complex situations                                 0.588186\n",
      "Don't  generate ideas that are new and different                              1.139475\n",
      "Demonstrate an awareness of personal strengths and limitations                0.555976\n",
      "Display a growth mindset                                                      0.544559\n",
      "Respond effectively to multiple priorities                                    0.471366\n",
      "Take initiative even when circumstances, objectives, or rules aren't clear    0.688420\n",
      "Encourage direct and open discussions                                         0.510666\n",
      "Listen carefully to others                                                    0.658374\n",
      "Don't persuasively sell a vision or idea                                      1.003906\n",
      "Build cooperative relationships                                               0.515354\n",
      "Work well with people from diverse cultural backgrounds                       0.460069\n",
      "Effectively negotiate interests, resources, and roles                         0.524728\n",
      "Can't rally people on the team around a common goal                           1.147407\n",
      "Translate ideas into plans that are organized and realistic                   0.616309\n",
      "Resolve conflicts constructively                                              0.487471\n",
      "Seek and use feedback from teammates                                          0.600805\n",
      "Coach teammates for performance and growth                                    0.685896\n",
      "Drive for results                                                             0.621357\n",
      "dtype: float64 \n",
      "\n",
      "\n",
      "See underlying patterns in complex situations                                 1.0\n",
      "Don't  generate ideas that are new and different                              1.0\n",
      "Demonstrate an awareness of personal strengths and limitations                1.0\n",
      "Display a growth mindset                                                      1.0\n",
      "Respond effectively to multiple priorities                                    1.0\n",
      "Take initiative even when circumstances, objectives, or rules aren't clear    1.0\n",
      "Encourage direct and open discussions                                         1.0\n",
      "Listen carefully to others                                                    1.0\n",
      "Don't persuasively sell a vision or idea                                      1.0\n",
      "Build cooperative relationships                                               1.0\n",
      "Work well with people from diverse cultural backgrounds                       1.0\n",
      "Effectively negotiate interests, resources, and roles                         1.0\n",
      "Can't rally people on the team around a common goal                           1.0\n",
      "Translate ideas into plans that are organized and realistic                   1.0\n",
      "Resolve conflicts constructively                                              1.0\n",
      "Seek and use feedback from teammates                                          1.0\n",
      "Coach teammates for performance and growth                                    1.0\n",
      "Drive for results                                                             1.0\n",
      "dtype: float64\n"
     ]
    }
   ],
   "source": [
    "# INSTANTIATING a StandardScaler() object\n",
    "scaler = StandardScaler()\n",
    "\n",
    "\n",
    "# FITTING the scaler with the data\n",
    "scaler.fit(hult)\n",
    "\n",
    "\n",
    "# TRANSFORMING our data after fit\n",
    "X_scaled = scaler.transform(hult)\n",
    "\n",
    "\n",
    "# converting scaled data into a DataFrame\n",
    "hult_scaled = pd.DataFrame(X_scaled)\n",
    "\n",
    "\n",
    "# reattaching column names\n",
    "hult_scaled.columns = hult.columns\n",
    "\n",
    "\n",
    "# checking pre- and post-scaling variance\n",
    "print(np.var(hult), '\\n\\n')\n",
    "print(np.var(hult_scaled))"
   ]
  },
  {
   "cell_type": "markdown",
   "metadata": {},
   "source": [
    "<hr style=\"height:.9px;border:none;color:#333;background-color:#333;\" /><br>\n",
    "\n",
    "<h2>Part IV: Evaluating PCA Algorithms</h2><br>"
   ]
  },
  {
   "cell_type": "markdown",
   "metadata": {},
   "source": [
    "<hr style=\"height:.9px;border:none;color:#333;background-color:#333;\" /><br>\n",
    "<strong>Big 5 Personality Test</strong><br>"
   ]
  },
  {
   "cell_type": "markdown",
   "metadata": {},
   "source": [
    "Now, we developed a PCA model for the Big 5 Personality Test with no limit to principal components. Next, we will decide how many components to retain to build a new model with a limited number of principal components and interpret the results."
   ]
  },
  {
   "cell_type": "code",
   "execution_count": 29,
   "metadata": {},
   "outputs": [
    {
     "name": "stdout",
     "output_type": "stream",
     "text": [
      "Original shape: (129, 50)\n",
      "PCA shape     : (129, 50)\n"
     ]
    }
   ],
   "source": [
    "# INSTANTIATING a PCA object with no limit to principal components\n",
    "#Develop a PCA object with no limit to principal components and analyze its scree plot\n",
    "\n",
    "big5_pca = PCA(n_components = None,\n",
    "            random_state = 219)\n",
    "\n",
    "\n",
    "# FITTING and TRANSFORMING the scaled data\n",
    "personality_pca = big5_pca.fit_transform(personality_scaled)\n",
    "\n",
    "# comparing dimensions of each DataFrame\n",
    "print(\"Original shape:\", personality.shape)\n",
    "print(\"PCA shape     :\",  personality_pca.shape)\n"
   ]
  },
  {
   "cell_type": "markdown",
   "metadata": {},
   "source": [
    "<strong>Scree Plot</strong><br>"
   ]
  },
  {
   "cell_type": "code",
   "execution_count": 30,
   "metadata": {},
   "outputs": [
    {
     "data": {
      "image/png": "[encoded data removed]",
      "text/plain": [
       "<Figure size 720x576 with 1 Axes>"
      ]
     },
     "metadata": {
      "needs_background": "light"
     },
     "output_type": "display_data"
    }
   ],
   "source": [
    "#calling the scree_plot function\n",
    "scree_plot(pca_object = big5_pca)"
   ]
  },
  {
   "cell_type": "markdown",
   "metadata": {},
   "source": [
    "Based on the scree plot above, we can see an elbow where the PCA features equals to 5. Therefore, we will proceed to run the code with a reduced number of 5 principal components. "
   ]
  },
  {
   "cell_type": "code",
   "execution_count": 31,
   "metadata": {},
   "outputs": [],
   "source": [
    "# INSTANTIATING a new model using the first five principal components\n",
    "pca_5 = PCA(n_components = 5,\n",
    "            random_state = 219)\n",
    "\n",
    "\n",
    "# FITTING and TRANSFORMING the purchases_scaled\n",
    "big5_pca5 = pca_5.fit_transform(personality_scaled)"
   ]
  },
  {
   "cell_type": "markdown",
   "metadata": {},
   "source": [
    "The following code is to show that the explained variance for each principal component does not change after dropping smaller PCs."
   ]
  },
  {
   "cell_type": "code",
   "execution_count": 32,
   "metadata": {},
   "outputs": [
    {
     "name": "stdout",
     "output_type": "stream",
     "text": [
      "\n",
      "MAX Components Factor Loadings\n",
      "------------------------------\n",
      "                                                         0     1     2     3     4     5     6     7     8     9     10    11    12    13    14    15    16    17    18    19    20    21    22    23    24    25    26    27    28    29    30    31    32    33    34    35    36    37    38    39    40    41    42    43    44    45    46    47    48    49\n",
      "Am the life of the party                              -0.01  0.27 -0.15 -0.07  0.04  0.09 -0.19 -0.07 -0.09  0.11 -0.09 -0.27  0.14  0.04 -0.06 -0.30  0.23 -0.15  0.02 -0.03 -0.05 -0.17 -0.07 -0.12 -0.13 -0.09 -0.04 -0.17  0.03 -0.07  0.07 -0.07  0.19  0.23  0.22 -0.00  0.21  0.23  0.12 -0.03 -0.04 -0.14 -0.23 -0.10  0.18  0.17 -0.18  0.04 -0.06  0.01\n",
      "Don't talk a lot                                       0.12 -0.13  0.16  0.06  0.27  0.09  0.12 -0.12  0.01  0.07 -0.14 -0.20 -0.07 -0.08 -0.06  0.12  0.12 -0.16 -0.09 -0.09 -0.33  0.23 -0.15 -0.08 -0.04  0.01 -0.10  0.19 -0.13  0.19  0.27  0.19  0.05 -0.14 -0.05 -0.14  0.01 -0.18  0.01 -0.01 -0.20 -0.08 -0.27  0.10  0.07  0.10  0.16  0.01 -0.17  0.06\n",
      "Feel comfortable around people                        -0.21  0.10 -0.20 -0.21  0.07 -0.03 -0.06  0.06 -0.03 -0.03 -0.03  0.07 -0.07 -0.03  0.07  0.20 -0.10  0.00  0.07  0.14 -0.39  0.12 -0.09 -0.08 -0.04 -0.00  0.11  0.01 -0.05  0.11  0.15 -0.09  0.26 -0.14  0.16  0.19 -0.01  0.21 -0.03 -0.05  0.10 -0.06 -0.03  0.10  0.06 -0.29  0.05 -0.30  0.31 -0.16\n",
      "Keep in the background                                 0.14 -0.09  0.20 -0.07  0.28  0.07 -0.01 -0.14  0.04 -0.02  0.04 -0.02 -0.15 -0.14  0.05 -0.08  0.09 -0.11  0.21 -0.22  0.27  0.10  0.01  0.11 -0.17  0.06  0.34  0.13 -0.08  0.03 -0.08 -0.16  0.07  0.01  0.19  0.17 -0.11  0.12  0.12  0.08 -0.15  0.24  0.12  0.29  0.16  0.02 -0.15 -0.03  0.12  0.05\n",
      "Start conversations                                   -0.16  0.26 -0.20 -0.07 -0.02  0.07  0.03  0.06  0.09 -0.09  0.11  0.06  0.03  0.12  0.09  0.07 -0.08 -0.15 -0.06 -0.17  0.16  0.08  0.21  0.06 -0.19  0.08 -0.03 -0.09 -0.28  0.22  0.11  0.02  0.04 -0.01 -0.06 -0.08 -0.20 -0.24  0.01 -0.29  0.01 -0.05  0.06 -0.02  0.38 -0.18 -0.11  0.21 -0.17 -0.04\n",
      "Have little to say                                     0.17 -0.06  0.07 -0.17  0.24  0.13  0.10 -0.03 -0.07  0.10 -0.22 -0.21 -0.12 -0.00  0.07  0.10  0.06  0.21 -0.20 -0.01 -0.11 -0.24 -0.03  0.14 -0.00  0.15 -0.12 -0.18 -0.21 -0.07  0.03 -0.31  0.02  0.02 -0.00 -0.08 -0.13  0.07  0.09 -0.04  0.19 -0.21  0.26  0.02 -0.19 -0.21 -0.08  0.19 -0.02  0.11\n",
      "Talk to a lot of different people at parties          -0.05  0.27 -0.19 -0.05  0.13  0.10 -0.03 -0.04  0.04  0.12 -0.14 -0.02 -0.18  0.25 -0.04  0.08  0.15 -0.05 -0.02  0.08  0.10  0.38  0.11 -0.05  0.00 -0.01  0.02 -0.23  0.08 -0.10 -0.02 -0.25 -0.13  0.03 -0.05  0.18  0.06 -0.13 -0.17  0.08 -0.37  0.10  0.04 -0.02 -0.31 -0.05  0.12 -0.06 -0.13  0.01\n",
      "Don't like to draw attention to myself                 0.07 -0.13  0.11  0.09  0.22 -0.17 -0.33  0.09  0.08 -0.12  0.19  0.14 -0.03  0.19 -0.05 -0.18 -0.03  0.20 -0.01  0.02 -0.17  0.09 -0.07  0.08 -0.05  0.06  0.05 -0.25  0.03 -0.01  0.23  0.01  0.04 -0.09  0.04 -0.42  0.16  0.00 -0.01 -0.04 -0.22  0.11  0.22 -0.06  0.02 -0.02 -0.23 -0.07 -0.03 -0.13\n",
      "Don't mind being the center of attention              -0.07  0.25 -0.17 -0.00 -0.09  0.23  0.07  0.04  0.02  0.10  0.08 -0.21 -0.05 -0.09 -0.26  0.12  0.06  0.10 -0.29  0.23  0.06  0.04 -0.13  0.01  0.18  0.06  0.18  0.17 -0.09 -0.00 -0.02  0.13  0.06 -0.11  0.05 -0.24 -0.09  0.11 -0.17  0.26  0.01  0.17  0.26  0.08  0.15  0.21 -0.11  0.05  0.02 -0.10\n",
      "Am quiet around strangers                              0.14 -0.20  0.22  0.13  0.21  0.04  0.05  0.04 -0.07  0.02  0.00  0.02  0.02  0.14 -0.01 -0.09 -0.03 -0.13 -0.18  0.07  0.11  0.24  0.13 -0.25  0.21  0.11  0.00  0.03  0.08 -0.13 -0.02  0.08  0.11  0.17  0.13  0.21 -0.13  0.11 -0.41 -0.11  0.12 -0.24  0.07 -0.19  0.19 -0.10 -0.13 -0.00 -0.00 -0.15\n",
      "Feel little concern for others                         0.13  0.02 -0.14  0.10  0.06 -0.04 -0.07 -0.35 -0.04 -0.09 -0.10 -0.27  0.22 -0.02  0.11 -0.03 -0.46 -0.13  0.04  0.15  0.05 -0.12  0.03 -0.03 -0.11  0.10  0.07  0.06 -0.27  0.02  0.02 -0.03 -0.16  0.14  0.02 -0.06  0.19 -0.14 -0.24 -0.09  0.02  0.06  0.11  0.09 -0.12  0.07  0.01 -0.26  0.03 -0.06\n",
      "Am interested in people                               -0.14  0.13  0.01 -0.22  0.14 -0.13 -0.03 -0.03 -0.24 -0.10 -0.15  0.00 -0.03 -0.02  0.07  0.07 -0.00  0.39  0.23 -0.22  0.04  0.22  0.27  0.10  0.14  0.25 -0.21  0.05 -0.06 -0.05  0.05  0.05 -0.10  0.02  0.09 -0.07  0.06  0.05 -0.08  0.15  0.19 -0.02 -0.09 -0.04  0.14  0.32 -0.00 -0.14 -0.08  0.01\n",
      "Insult people                                          0.17  0.07 -0.12  0.05 -0.04 -0.18 -0.21  0.07 -0.33 -0.04  0.10  0.08 -0.16 -0.19  0.10 -0.03  0.07 -0.15 -0.14  0.23 -0.01  0.03  0.09  0.19 -0.14  0.27  0.12  0.18  0.20 -0.00  0.22 -0.22  0.05  0.09 -0.16 -0.08 -0.00  0.09 -0.17 -0.11  0.05  0.06 -0.11  0.02  0.03  0.06  0.22  0.23  0.04  0.18\n",
      "Sympathize with others' feelings                      -0.15  0.13  0.22 -0.17  0.18  0.07  0.02 -0.07 -0.10 -0.20 -0.08  0.14  0.10 -0.11  0.06 -0.19  0.08 -0.11  0.02  0.13 -0.12 -0.10  0.02  0.01  0.09  0.01  0.32 -0.16 -0.09  0.11 -0.17  0.17 -0.04 -0.18  0.11  0.05  0.14  0.01  0.00 -0.06  0.07  0.04  0.20 -0.21 -0.03  0.05  0.42  0.19 -0.20 -0.08\n",
      "Am not interested in other people's problems           0.16 -0.04 -0.21  0.19  0.12  0.09  0.01 -0.14  0.26 -0.21  0.12  0.12  0.07 -0.07 -0.09  0.21  0.14 -0.03  0.03 -0.05 -0.05  0.03 -0.07  0.15 -0.19  0.02  0.15 -0.04  0.06  0.06  0.03 -0.18 -0.10 -0.01  0.24 -0.00 -0.14 -0.13 -0.03  0.27  0.26 -0.13 -0.14 -0.43 -0.07  0.11 -0.02 -0.04  0.01 -0.05\n",
      "Have a soft heart                                     -0.11  0.08  0.15 -0.16  0.18 -0.21  0.07 -0.01  0.17  0.12  0.16  0.03  0.11 -0.26 -0.05  0.25 -0.06  0.03 -0.29 -0.06  0.23 -0.08 -0.31 -0.01  0.06  0.04 -0.18 -0.07  0.06 -0.05  0.20 -0.12 -0.18  0.14  0.11  0.12  0.14  0.10  0.02 -0.19 -0.03  0.28 -0.07 -0.12  0.10 -0.03  0.12 -0.06 -0.08 -0.10\n",
      "Am not really interested in others                     0.17 -0.08 -0.13  0.20  0.04  0.21  0.04  0.14  0.17 -0.05  0.18  0.06  0.02 -0.05 -0.02  0.11  0.00 -0.11  0.02 -0.11 -0.18 -0.06  0.17  0.13  0.33  0.16 -0.07 -0.38 -0.22  0.10 -0.04  0.03  0.12  0.08 -0.15  0.18  0.17  0.23 -0.07 -0.06  0.02  0.19 -0.07  0.13  0.02  0.18  0.04 -0.03  0.04  0.18\n",
      "Take time out for others                              -0.12  0.09  0.06 -0.02  0.11 -0.13 -0.17 -0.18  0.11  0.10  0.29 -0.10 -0.45  0.20  0.01 -0.16 -0.05 -0.19  0.01  0.11  0.13  0.03 -0.25  0.23  0.09  0.02 -0.22  0.02 -0.17  0.05 -0.10  0.07 -0.03 -0.13 -0.11  0.15  0.04 -0.01  0.06  0.02  0.15 -0.26  0.04 -0.07  0.01  0.18  0.06 -0.03  0.17  0.01\n",
      "Feel others' emotions                                 -0.16  0.18  0.22 -0.14  0.08 -0.17 -0.13 -0.05  0.03  0.02 -0.00 -0.00  0.17 -0.03 -0.13 -0.10  0.02 -0.04 -0.18  0.02 -0.28 -0.17  0.17  0.13  0.18  0.06  0.09  0.03 -0.03  0.13 -0.05  0.03 -0.16  0.05 -0.02  0.14 -0.32 -0.20 -0.11  0.03 -0.19  0.08 -0.21 -0.07 -0.12  0.02 -0.33  0.02  0.25  0.19\n",
      "Make people feel at ease                              -0.18  0.10  0.00 -0.01  0.24  0.07 -0.04 -0.04  0.20  0.19  0.02  0.13  0.03  0.10 -0.07  0.15 -0.12 -0.31  0.19 -0.12 -0.26 -0.22  0.10  0.09 -0.05  0.10 -0.14  0.14  0.33 -0.34 -0.10  0.01  0.02  0.06  0.04 -0.16 -0.00 -0.05 -0.13  0.05  0.10  0.02  0.12  0.24  0.04  0.03  0.06  0.15 -0.08 -0.11\n",
      "Am always prepared                                    -0.09 -0.00 -0.01  0.17 -0.02  0.16 -0.26 -0.13 -0.29  0.06  0.03  0.09  0.16 -0.26 -0.40  0.02 -0.10  0.04  0.24 -0.14  0.02  0.09 -0.11  0.15  0.11 -0.18 -0.02  0.00 -0.20 -0.23  0.22 -0.06 -0.08 -0.13 -0.14  0.20  0.00  0.02 -0.06 -0.01 -0.05 -0.13  0.06 -0.04  0.02 -0.17 -0.04  0.19 -0.02 -0.04\n",
      "Leave my belongings around                             0.10  0.08 -0.13 -0.06  0.25 -0.01  0.21 -0.10 -0.37 -0.08  0.08  0.08  0.07  0.09  0.04  0.15  0.19 -0.20  0.15 -0.03  0.02  0.05 -0.15  0.05  0.23 -0.18 -0.09  0.12  0.05  0.15 -0.24  0.00 -0.03  0.13 -0.17 -0.29  0.16 -0.01  0.03 -0.09  0.03  0.15  0.02 -0.17 -0.01 -0.20 -0.20 -0.03  0.19  0.01\n",
      "Pay attention to details                              -0.15 -0.06  0.23  0.06  0.04  0.18 -0.13  0.12  0.02  0.37 -0.20 -0.08  0.02  0.07  0.11  0.08 -0.24 -0.01 -0.02 -0.09  0.09  0.05  0.04 -0.05 -0.13  0.03  0.19 -0.09  0.06  0.19 -0.04 -0.14  0.01 -0.12 -0.29 -0.09  0.26  0.01 -0.04  0.22  0.18  0.14 -0.17 -0.26  0.13 -0.04 -0.04  0.11  0.20 -0.00\n",
      "Make a mess of things                                  0.18  0.20 -0.05 -0.05  0.27  0.03  0.08  0.16 -0.08  0.12  0.12 -0.03 -0.08  0.05 -0.09 -0.18 -0.24  0.09 -0.02 -0.03 -0.03 -0.00 -0.02  0.07 -0.13 -0.26  0.19 -0.02  0.07 -0.10  0.03  0.17  0.01 -0.04 -0.21  0.05 -0.26  0.12  0.01 -0.08  0.29  0.16 -0.16 -0.02 -0.10 -0.03 -0.03 -0.27 -0.35  0.12\n",
      "Get chores done right away                            -0.10  0.05  0.05  0.02 -0.00  0.32 -0.20 -0.15 -0.06 -0.13  0.28  0.13 -0.18 -0.01  0.13 -0.11  0.20  0.19 -0.22 -0.28 -0.06 -0.26  0.07 -0.28 -0.09 -0.06 -0.10  0.23 -0.08  0.10 -0.01 -0.08 -0.05  0.04 -0.09  0.04  0.14 -0.01 -0.26  0.10  0.04  0.06 -0.05  0.08 -0.10 -0.15  0.03 -0.13 -0.08 -0.06\n",
      "Often forget to put things back in their proper place  0.15  0.14 -0.18 -0.01  0.16 -0.04  0.15  0.24 -0.11 -0.08 -0.05  0.16  0.07  0.00  0.06 -0.17 -0.22  0.06 -0.24 -0.32 -0.01 -0.10 -0.23 -0.02  0.13  0.01  0.15 -0.01  0.09 -0.07 -0.04 -0.15  0.03 -0.00 -0.12  0.09  0.07 -0.25  0.04  0.18 -0.20 -0.31  0.05  0.10  0.18  0.16  0.14 -0.05  0.18 -0.06\n",
      "Like order                                            -0.11 -0.07  0.15  0.07  0.05  0.18 -0.21  0.05 -0.18 -0.27 -0.13 -0.08 -0.25  0.05  0.17  0.37 -0.04  0.02  0.01  0.15  0.00 -0.17 -0.07  0.02 -0.04 -0.36  0.03 -0.22  0.09 -0.08  0.06  0.10 -0.08  0.28 -0.03  0.04 -0.19 -0.10 -0.01 -0.03 -0.09  0.03  0.03  0.03  0.22  0.22  0.03 -0.03  0.07  0.01\n",
      "Shirk my duties                                        0.21  0.10 -0.01 -0.08  0.15 -0.07 -0.15 -0.09 -0.06 -0.10  0.26 -0.13  0.06 -0.13 -0.06  0.04 -0.14  0.00  0.10  0.15  0.02  0.05  0.09 -0.55  0.09 -0.00 -0.19 -0.22  0.16  0.10 -0.04 -0.09 -0.01 -0.19 -0.03  0.03 -0.13 -0.16  0.19  0.19  0.15  0.08  0.00  0.16  0.03  0.01  0.01  0.23  0.05  0.01\n",
      "Follow a schedule                                     -0.17  0.02  0.13  0.01 -0.02  0.38 -0.14 -0.13 -0.09 -0.02 -0.02  0.24  0.11 -0.05 -0.06 -0.01 -0.20 -0.11 -0.24  0.01  0.16  0.20  0.03  0.05  0.13  0.07 -0.07  0.03  0.17  0.10  0.01 -0.11  0.24  0.03  0.15 -0.18 -0.05 -0.06  0.31 -0.18  0.08 -0.10  0.02  0.06 -0.23  0.14 -0.01 -0.23 -0.01  0.19\n",
      "Am exacting in my work                                -0.11  0.01  0.06  0.14  0.17  0.13 -0.01  0.23 -0.17  0.14  0.11  0.20  0.30  0.10  0.12  0.03  0.06  0.13  0.18  0.31  0.03 -0.02 -0.33 -0.02 -0.27  0.30 -0.17  0.04 -0.19  0.12 -0.15  0.03  0.04  0.15 -0.03  0.14 -0.14 -0.02 -0.01  0.15 -0.10 -0.01 -0.03  0.08 -0.05  0.06 -0.03  0.00 -0.13  0.02\n",
      "Get stressed out easily                                0.11  0.21  0.21 -0.07 -0.14  0.10  0.12  0.19 -0.09 -0.12  0.09  0.01  0.07  0.20  0.02  0.02  0.04 -0.20 -0.07 -0.12 -0.09  0.17 -0.01 -0.06 -0.19  0.06  0.00  0.03 -0.11 -0.19  0.37  0.23 -0.20  0.15  0.05  0.12  0.15 -0.02  0.16  0.13  0.21  0.09  0.18  0.02 -0.21  0.02 -0.05  0.09  0.27  0.04\n",
      "Am relaxed most of the time                           -0.02 -0.07 -0.16  0.04  0.31 -0.15 -0.05 -0.10  0.01 -0.06 -0.15  0.13  0.13  0.15 -0.25  0.20  0.14  0.06 -0.19  0.03  0.26 -0.22  0.26 -0.11 -0.25 -0.03 -0.03  0.09 -0.05 -0.04  0.06  0.25  0.20 -0.20 -0.20  0.11  0.07  0.12  0.09 -0.05 -0.07 -0.03  0.07 -0.04 -0.07  0.13  0.06 -0.02  0.20  0.08\n",
      "Worry about things                                     0.04  0.10  0.30 -0.08 -0.13  0.04  0.09  0.07 -0.09 -0.05  0.34 -0.24  0.17  0.00  0.04  0.20  0.08 -0.07  0.07 -0.05  0.01 -0.02  0.11 -0.01 -0.13  0.07  0.05 -0.06 -0.10 -0.34 -0.17 -0.20  0.13 -0.27 -0.13 -0.18 -0.10  0.05 -0.05 -0.13 -0.19 -0.14 -0.10 -0.15 -0.00  0.10  0.13 -0.24  0.08 -0.07\n",
      "Seldom feel blue                                      -0.00 -0.02 -0.14  0.10  0.08 -0.08 -0.22 -0.13  0.11  0.18  0.07  0.03  0.30  0.05  0.59  0.06  0.09  0.03 -0.17 -0.00 -0.11  0.20  0.06  0.01  0.18 -0.26  0.07  0.18 -0.13 -0.20  0.02 -0.02 -0.08 -0.10 -0.04  0.04 -0.09  0.15  0.17  0.05  0.01  0.01  0.09  0.00  0.04  0.09 -0.01  0.10 -0.07  0.06\n",
      "Am easily disturbed                                    0.23  0.10  0.10  0.09 -0.08 -0.01  0.01 -0.04 -0.12 -0.02 -0.06  0.14  0.00  0.38 -0.16  0.00 -0.24  0.12 -0.13 -0.03 -0.10  0.03  0.01  0.09 -0.08 -0.23 -0.20  0.11 -0.16  0.07 -0.19 -0.19 -0.00 -0.11  0.35 -0.01 -0.07  0.17 -0.06 -0.07 -0.05  0.21 -0.19  0.04  0.06  0.08  0.19  0.25  0.10 -0.08\n",
      "Get upset easily                                       0.20  0.22  0.13  0.13 -0.14 -0.08 -0.09 -0.02  0.00  0.02 -0.05 -0.05 -0.09  0.05 -0.01  0.22 -0.03  0.12  0.07 -0.04 -0.21 -0.06 -0.05 -0.02  0.02  0.09  0.02  0.25  0.14  0.08 -0.09 -0.06  0.26 -0.06 -0.03  0.35  0.20 -0.20  0.10 -0.18 -0.01  0.09  0.30 -0.23  0.07  0.11 -0.22 -0.03 -0.23  0.08\n",
      "Change my mood a lot                                   0.18  0.28  0.07  0.09 -0.06 -0.09 -0.18 -0.01  0.13  0.18 -0.11  0.13 -0.02 -0.06  0.07  0.07  0.07  0.07  0.16 -0.12  0.14 -0.05 -0.18 -0.15  0.06 -0.01  0.02 -0.10 -0.09 -0.06 -0.01  0.22  0.13  0.01  0.21 -0.22 -0.09 -0.08 -0.25 -0.00  0.03 -0.04  0.05 -0.03  0.03 -0.19  0.22 -0.08  0.16  0.48\n",
      "Have frequent mood swings                              0.22  0.25  0.14  0.02 -0.06 -0.06 -0.05 -0.03  0.07  0.12 -0.15  0.18 -0.01 -0.15  0.15  0.07  0.11 -0.01  0.09 -0.06  0.14 -0.05 -0.03  0.03  0.07 -0.07  0.03 -0.09 -0.04  0.18  0.12  0.06  0.17  0.02 -0.13 -0.06 -0.11  0.02 -0.12 -0.11  0.07 -0.09 -0.10  0.15 -0.32  0.20 -0.12  0.08  0.04 -0.57\n",
      "Get irritated easily                                   0.18  0.22  0.12  0.16 -0.10 -0.02 -0.10 -0.15 -0.03 -0.09 -0.19  0.18 -0.10  0.08 -0.02  0.12 -0.04 -0.16 -0.10  0.08  0.01 -0.12  0.03 -0.02  0.10  0.28  0.03 -0.03 -0.02 -0.04 -0.04  0.08 -0.28 -0.06 -0.10 -0.04 -0.04  0.28  0.30  0.23 -0.11 -0.10 -0.13  0.03  0.21 -0.28 -0.05 -0.21 -0.19 -0.11\n",
      "Often feel blue                                        0.18  0.15  0.14  0.03  0.10  0.17  0.07  0.19  0.14  0.11  0.01  0.03  0.13 -0.11 -0.02 -0.08  0.13  0.05  0.10  0.29  0.04 -0.05  0.27  0.18 -0.03 -0.27 -0.19  0.10  0.14  0.23  0.13 -0.13 -0.30 -0.14  0.05  0.03  0.18 -0.01 -0.06 -0.05  0.00 -0.22  0.16  0.11  0.20 -0.01  0.02 -0.20  0.09  0.06\n",
      "Have a rich vocabulary                                -0.15  0.05  0.01  0.20  0.01 -0.15 -0.17  0.23  0.08 -0.26 -0.28 -0.09  0.06 -0.10 -0.10 -0.03  0.15 -0.15 -0.10 -0.19 -0.06  0.19 -0.22 -0.14 -0.15  0.00 -0.07 -0.02  0.01  0.05 -0.27 -0.16 -0.25 -0.17 -0.12 -0.04 -0.07  0.17 -0.12 -0.22  0.21 -0.00  0.12  0.17 -0.03  0.13 -0.10 -0.06 -0.00  0.07\n",
      "Have difficulty understanding abstract ideas           0.11  0.08  0.06 -0.32 -0.02  0.07 -0.12 -0.05  0.27 -0.28  0.04 -0.11  0.16 -0.04 -0.02  0.06 -0.22  0.08  0.04 -0.06 -0.01  0.18 -0.07  0.11 -0.10 -0.06 -0.09  0.12  0.16  0.18 -0.10  0.12  0.10  0.24 -0.24 -0.01 -0.01  0.35 -0.10  0.15 -0.20 -0.19  0.08 -0.08 -0.07 -0.09  0.07  0.17 -0.03  0.09\n",
      "Have a vivid imagination                              -0.05  0.17  0.11  0.19  0.06 -0.08  0.19 -0.19  0.12 -0.00 -0.02  0.16 -0.13 -0.34 -0.05 -0.11 -0.00  0.19 -0.15  0.17 -0.19  0.25  0.13 -0.00 -0.23 -0.10 -0.06 -0.09 -0.16 -0.24 -0.26  0.01  0.14  0.29 -0.15 -0.07  0.14 -0.11  0.11  0.01  0.06  0.00 -0.03  0.03  0.13 -0.05 -0.03  0.02  0.14 -0.03\n",
      "Am not interested in abstract ideas                    0.19 -0.07 -0.01 -0.19 -0.02  0.15 -0.29 -0.04  0.09 -0.09 -0.05 -0.14  0.21  0.18 -0.08  0.01  0.24  0.17 -0.10  0.07  0.07  0.10 -0.12  0.24  0.07  0.12  0.08 -0.02  0.10 -0.15 -0.16  0.13  0.03 -0.01 -0.07  0.10  0.12 -0.31  0.02 -0.13  0.23  0.09 -0.22  0.24  0.13 -0.19  0.11 -0.03  0.07 -0.14\n",
      "Have excellent ideas                                  -0.14  0.17 -0.01  0.28  0.13  0.08  0.18 -0.07 -0.03 -0.12  0.15 -0.13 -0.06 -0.01  0.18  0.13 -0.12  0.23 -0.00  0.01  0.08  0.01 -0.05  0.06 -0.01  0.09  0.17 -0.05  0.24 -0.03 -0.03  0.20 -0.12 -0.21  0.19  0.04  0.22  0.11 -0.05 -0.19 -0.07 -0.20 -0.24  0.16 -0.15 -0.09 -0.22  0.26  0.05  0.10\n",
      "Do not have a good imagination                         0.10 -0.04 -0.11 -0.17  0.14  0.15 -0.20  0.34  0.20  0.00 -0.02  0.10 -0.20 -0.07 -0.09  0.07 -0.09  0.04  0.15  0.12  0.01 -0.02  0.05 -0.26  0.13  0.05  0.16  0.32 -0.26 -0.15 -0.11 -0.03 -0.20  0.12  0.05 -0.11  0.10 -0.02  0.18 -0.26 -0.08 -0.10 -0.18 -0.14 -0.10  0.08 -0.04  0.11  0.04 -0.03\n",
      "Am quick to understand things                         -0.11  0.03  0.06  0.25  0.06 -0.26 -0.13  0.13 -0.10  0.17  0.21 -0.25  0.06  0.09 -0.21  0.18  0.06  0.07 -0.04 -0.16 -0.02  0.04  0.19  0.03  0.06 -0.06  0.23  0.03 -0.04  0.27 -0.10 -0.01 -0.02  0.36  0.11 -0.05  0.02  0.00  0.18  0.05  0.07 -0.20  0.08  0.13 -0.11 -0.11  0.26 -0.04 -0.06 -0.11\n",
      "Use difficult words                                   -0.02  0.10 -0.04  0.23  0.16  0.03 -0.14  0.34 -0.00 -0.19 -0.11 -0.27 -0.05 -0.23  0.16 -0.12 -0.07 -0.12 -0.06 -0.03  0.12 -0.04  0.12  0.20  0.06 -0.00 -0.31  0.12 -0.03 -0.08 -0.04  0.11  0.22 -0.09  0.16  0.03 -0.03 -0.09  0.08  0.19 -0.10  0.19 -0.04 -0.17 -0.15 -0.24  0.06 -0.02  0.03 -0.16\n",
      "Spend time reflecting on things                       -0.17  0.09  0.21  0.03  0.05 -0.18  0.12  0.07  0.17 -0.32 -0.06  0.03  0.06  0.19 -0.04  0.03  0.02 -0.06  0.08  0.19  0.15 -0.07 -0.04 -0.02  0.22 -0.16  0.11  0.13 -0.18 -0.08  0.21 -0.32  0.26  0.02 -0.09 -0.04  0.16 -0.05 -0.08  0.21  0.15 -0.03 -0.17  0.17 -0.02 -0.05 -0.08  0.06 -0.21  0.16\n",
      "Am full of ideas                                      -0.11  0.15  0.00  0.29  0.08  0.15  0.14 -0.14  0.17 -0.09 -0.07 -0.15  0.05  0.17 -0.01 -0.24  0.06  0.23  0.22 -0.01 -0.02 -0.04 -0.06 -0.10  0.16  0.16  0.01  0.12  0.13  0.01  0.24 -0.12 -0.03  0.11 -0.21 -0.02 -0.27  0.09  0.15 -0.22 -0.00  0.16  0.05 -0.13  0.06 -0.00  0.26  0.01  0.24 -0.08\n",
      "\n",
      "\n",
      "5 Components Factor Loadings\n",
      "------------------------------\n",
      "                                                          0     1     2     3     4\n",
      "Am the life of the party                              -0.01  0.27 -0.15 -0.07  0.04\n",
      "Don't talk a lot                                       0.12 -0.13  0.16  0.06  0.27\n",
      "Feel comfortable around people                        -0.21  0.10 -0.20 -0.21  0.07\n",
      "Keep in the background                                 0.14 -0.09  0.20 -0.07  0.28\n",
      "Start conversations                                   -0.16  0.26 -0.20 -0.07 -0.02\n",
      "Have little to say                                     0.17 -0.06  0.07 -0.17  0.24\n",
      "Talk to a lot of different people at parties          -0.05  0.27 -0.19 -0.05  0.13\n",
      "Don't like to draw attention to myself                 0.07 -0.13  0.11  0.09  0.22\n",
      "Don't mind being the center of attention              -0.07  0.25 -0.17 -0.00 -0.09\n",
      "Am quiet around strangers                              0.14 -0.20  0.22  0.13  0.21\n",
      "Feel little concern for others                         0.13  0.02 -0.14  0.10  0.06\n",
      "Am interested in people                               -0.14  0.13  0.01 -0.22  0.14\n",
      "Insult people                                          0.17  0.07 -0.12  0.05 -0.04\n",
      "Sympathize with others' feelings                      -0.15  0.13  0.22 -0.17  0.18\n",
      "Am not interested in other people's problems           0.16 -0.04 -0.21  0.19  0.12\n",
      "Have a soft heart                                     -0.11  0.08  0.15 -0.16  0.18\n",
      "Am not really interested in others                     0.17 -0.08 -0.13  0.20  0.04\n",
      "Take time out for others                              -0.12  0.09  0.06 -0.02  0.11\n",
      "Feel others' emotions                                 -0.16  0.18  0.22 -0.14  0.08\n",
      "Make people feel at ease                              -0.18  0.10  0.00 -0.01  0.24\n",
      "Am always prepared                                    -0.09 -0.00 -0.01  0.17 -0.02\n",
      "Leave my belongings around                             0.10  0.08 -0.13 -0.06  0.25\n",
      "Pay attention to details                              -0.15 -0.06  0.23  0.06  0.04\n",
      "Make a mess of things                                  0.18  0.20 -0.05 -0.05  0.27\n",
      "Get chores done right away                            -0.10  0.05  0.05  0.02 -0.00\n",
      "Often forget to put things back in their proper place  0.15  0.14 -0.18 -0.01  0.16\n",
      "Like order                                            -0.11 -0.07  0.15  0.07  0.05\n",
      "Shirk my duties                                        0.21  0.10 -0.01 -0.08  0.15\n",
      "Follow a schedule                                     -0.17  0.02  0.13  0.01 -0.02\n",
      "Am exacting in my work                                -0.11  0.01  0.06  0.14  0.17\n",
      "Get stressed out easily                                0.11  0.21  0.21 -0.07 -0.14\n",
      "Am relaxed most of the time                           -0.02 -0.07 -0.16  0.04  0.31\n",
      "Worry about things                                     0.04  0.10  0.30 -0.08 -0.13\n",
      "Seldom feel blue                                      -0.00 -0.02 -0.14  0.10  0.08\n",
      "Am easily disturbed                                    0.23  0.10  0.10  0.09 -0.08\n",
      "Get upset easily                                       0.20  0.22  0.13  0.13 -0.14\n",
      "Change my mood a lot                                   0.18  0.28  0.07  0.09 -0.06\n",
      "Have frequent mood swings                              0.22  0.25  0.14  0.02 -0.06\n",
      "Get irritated easily                                   0.18  0.22  0.12  0.16 -0.10\n",
      "Often feel blue                                        0.18  0.15  0.14  0.03  0.10\n",
      "Have a rich vocabulary                                -0.15  0.05  0.01  0.20  0.01\n",
      "Have difficulty understanding abstract ideas           0.11  0.08  0.06 -0.32 -0.02\n",
      "Have a vivid imagination                              -0.05  0.17  0.11  0.19  0.06\n",
      "Am not interested in abstract ideas                    0.19 -0.07 -0.01 -0.19 -0.02\n",
      "Have excellent ideas                                  -0.14  0.17 -0.01  0.28  0.13\n",
      "Do not have a good imagination                         0.10 -0.04 -0.11 -0.17  0.14\n",
      "Am quick to understand things                         -0.11  0.03  0.06  0.25  0.06\n",
      "Use difficult words                                   -0.02  0.10 -0.04  0.23  0.16\n",
      "Spend time reflecting on things                       -0.17  0.09  0.21  0.03  0.05\n",
      "Am full of ideas                                      -0.11  0.15  0.00  0.29  0.08\n",
      "\n"
     ]
    },
    {
     "name": "stderr",
     "output_type": "stream",
     "text": [
      "<ipython-input-32-19012320e6d0>:6: FutureWarning: The pandas.np module is deprecated and will be removed from pandas in a future version. Import numpy directly instead\n",
      "  factor_loadings = pd.DataFrame(pd.np.transpose(big5_pca.components_))\n",
      "<ipython-input-32-19012320e6d0>:16: FutureWarning: The pandas.np module is deprecated and will be removed from pandas in a future version. Import numpy directly instead\n",
      "  factor_loadings_5 = pd.DataFrame(pd.np.transpose(pca_5.components_))\n"
     ]
    }
   ],
   "source": [
    "#Comparing the variance of the unlimited PCA model with the variance of the reduced PCA model\n",
    "####################\n",
    "### Max PC Model ###\n",
    "####################\n",
    "# transposing pca components (unlimited PCA)\n",
    "factor_loadings = pd.DataFrame(pd.np.transpose(big5_pca.components_))\n",
    "\n",
    "# naming rows as original features\n",
    "factor_loadings = factor_loadings.set_index(personality_scaled.columns)\n",
    "\n",
    "\n",
    "##################\n",
    "### 5 PC Model ###\n",
    "##################\n",
    "# transposing pca components (5 components)\n",
    "factor_loadings_5 = pd.DataFrame(pd.np.transpose(pca_5.components_))\n",
    "\n",
    "\n",
    "# naming rows as original features\n",
    "factor_loadings_5 = factor_loadings_5.set_index(personality_scaled.columns)\n",
    "\n",
    "\n",
    "# checking the results\n",
    "print(f\"\"\"\n",
    "MAX Components Factor Loadings\n",
    "------------------------------\n",
    "{factor_loadings.round(2)}\n",
    "\n",
    "\n",
    "5 Components Factor Loadings\n",
    "------------------------------\n",
    "{factor_loadings_5.round(2)}\n",
    "\"\"\")\n",
    "\n",
    "\n",
    "\n"
   ]
  },
  {
   "cell_type": "code",
   "execution_count": 33,
   "metadata": {},
   "outputs": [
    {
     "name": "stderr",
     "output_type": "stream",
     "text": [
      "<ipython-input-33-09b17250fcf8>:3: FutureWarning: The pandas.np module is deprecated and will be removed from pandas in a future version. Import numpy directly instead\n",
      "  factor_loadings_df_big5 = pd.DataFrame(pd.np.transpose(pca_5.components_))\n"
     ]
    },
    {
     "data": {
      "text/html": [
       "<div>\n",
       "<style scoped>\n",
       "    .dataframe tbody tr th:only-of-type {\n",
       "        vertical-align: middle;\n",
       "    }\n",
       "\n",
       "    .dataframe tbody tr th {\n",
       "        vertical-align: top;\n",
       "    }\n",
       "\n",
       "    .dataframe thead th {\n",
       "        text-align: right;\n",
       "    }\n",
       "</style>\n",
       "<table border=\"1\" class=\"dataframe\">\n",
       "  <thead>\n",
       "    <tr style=\"text-align: right;\">\n",
       "      <th></th>\n",
       "      <th>0</th>\n",
       "      <th>1</th>\n",
       "      <th>2</th>\n",
       "      <th>3</th>\n",
       "      <th>4</th>\n",
       "    </tr>\n",
       "  </thead>\n",
       "  <tbody>\n",
       "    <tr>\n",
       "      <th>Am the life of the party</th>\n",
       "      <td>-0.01</td>\n",
       "      <td>0.27</td>\n",
       "      <td>-0.15</td>\n",
       "      <td>-0.07</td>\n",
       "      <td>0.04</td>\n",
       "    </tr>\n",
       "    <tr>\n",
       "      <th>Don't talk a lot</th>\n",
       "      <td>0.12</td>\n",
       "      <td>-0.13</td>\n",
       "      <td>0.16</td>\n",
       "      <td>0.06</td>\n",
       "      <td>0.27</td>\n",
       "    </tr>\n",
       "    <tr>\n",
       "      <th>Feel comfortable around people</th>\n",
       "      <td>-0.21</td>\n",
       "      <td>0.10</td>\n",
       "      <td>-0.20</td>\n",
       "      <td>-0.21</td>\n",
       "      <td>0.07</td>\n",
       "    </tr>\n",
       "    <tr>\n",
       "      <th>Keep in the background</th>\n",
       "      <td>0.14</td>\n",
       "      <td>-0.09</td>\n",
       "      <td>0.20</td>\n",
       "      <td>-0.07</td>\n",
       "      <td>0.28</td>\n",
       "    </tr>\n",
       "    <tr>\n",
       "      <th>Start conversations</th>\n",
       "      <td>-0.16</td>\n",
       "      <td>0.26</td>\n",
       "      <td>-0.20</td>\n",
       "      <td>-0.07</td>\n",
       "      <td>-0.02</td>\n",
       "    </tr>\n",
       "    <tr>\n",
       "      <th>Have little to say</th>\n",
       "      <td>0.17</td>\n",
       "      <td>-0.06</td>\n",
       "      <td>0.07</td>\n",
       "      <td>-0.17</td>\n",
       "      <td>0.24</td>\n",
       "    </tr>\n",
       "    <tr>\n",
       "      <th>Talk to a lot of different people at parties</th>\n",
       "      <td>-0.05</td>\n",
       "      <td>0.27</td>\n",
       "      <td>-0.19</td>\n",
       "      <td>-0.05</td>\n",
       "      <td>0.13</td>\n",
       "    </tr>\n",
       "    <tr>\n",
       "      <th>Don't like to draw attention to myself</th>\n",
       "      <td>0.07</td>\n",
       "      <td>-0.13</td>\n",
       "      <td>0.11</td>\n",
       "      <td>0.09</td>\n",
       "      <td>0.22</td>\n",
       "    </tr>\n",
       "    <tr>\n",
       "      <th>Don't mind being the center of attention</th>\n",
       "      <td>-0.07</td>\n",
       "      <td>0.25</td>\n",
       "      <td>-0.17</td>\n",
       "      <td>-0.00</td>\n",
       "      <td>-0.09</td>\n",
       "    </tr>\n",
       "    <tr>\n",
       "      <th>Am quiet around strangers</th>\n",
       "      <td>0.14</td>\n",
       "      <td>-0.20</td>\n",
       "      <td>0.22</td>\n",
       "      <td>0.13</td>\n",
       "      <td>0.21</td>\n",
       "    </tr>\n",
       "    <tr>\n",
       "      <th>Feel little concern for others</th>\n",
       "      <td>0.13</td>\n",
       "      <td>0.02</td>\n",
       "      <td>-0.14</td>\n",
       "      <td>0.10</td>\n",
       "      <td>0.06</td>\n",
       "    </tr>\n",
       "    <tr>\n",
       "      <th>Am interested in people</th>\n",
       "      <td>-0.14</td>\n",
       "      <td>0.13</td>\n",
       "      <td>0.01</td>\n",
       "      <td>-0.22</td>\n",
       "      <td>0.14</td>\n",
       "    </tr>\n",
       "    <tr>\n",
       "      <th>Insult people</th>\n",
       "      <td>0.17</td>\n",
       "      <td>0.07</td>\n",
       "      <td>-0.12</td>\n",
       "      <td>0.05</td>\n",
       "      <td>-0.04</td>\n",
       "    </tr>\n",
       "    <tr>\n",
       "      <th>Sympathize with others' feelings</th>\n",
       "      <td>-0.15</td>\n",
       "      <td>0.13</td>\n",
       "      <td>0.22</td>\n",
       "      <td>-0.17</td>\n",
       "      <td>0.18</td>\n",
       "    </tr>\n",
       "    <tr>\n",
       "      <th>Am not interested in other people's problems</th>\n",
       "      <td>0.16</td>\n",
       "      <td>-0.04</td>\n",
       "      <td>-0.21</td>\n",
       "      <td>0.19</td>\n",
       "      <td>0.12</td>\n",
       "    </tr>\n",
       "    <tr>\n",
       "      <th>Have a soft heart</th>\n",
       "      <td>-0.11</td>\n",
       "      <td>0.08</td>\n",
       "      <td>0.15</td>\n",
       "      <td>-0.16</td>\n",
       "      <td>0.18</td>\n",
       "    </tr>\n",
       "    <tr>\n",
       "      <th>Am not really interested in others</th>\n",
       "      <td>0.17</td>\n",
       "      <td>-0.08</td>\n",
       "      <td>-0.13</td>\n",
       "      <td>0.20</td>\n",
       "      <td>0.04</td>\n",
       "    </tr>\n",
       "    <tr>\n",
       "      <th>Take time out for others</th>\n",
       "      <td>-0.12</td>\n",
       "      <td>0.09</td>\n",
       "      <td>0.06</td>\n",
       "      <td>-0.02</td>\n",
       "      <td>0.11</td>\n",
       "    </tr>\n",
       "    <tr>\n",
       "      <th>Feel others' emotions</th>\n",
       "      <td>-0.16</td>\n",
       "      <td>0.18</td>\n",
       "      <td>0.22</td>\n",
       "      <td>-0.14</td>\n",
       "      <td>0.08</td>\n",
       "    </tr>\n",
       "    <tr>\n",
       "      <th>Make people feel at ease</th>\n",
       "      <td>-0.18</td>\n",
       "      <td>0.10</td>\n",
       "      <td>0.00</td>\n",
       "      <td>-0.01</td>\n",
       "      <td>0.24</td>\n",
       "    </tr>\n",
       "    <tr>\n",
       "      <th>Am always prepared</th>\n",
       "      <td>-0.09</td>\n",
       "      <td>-0.00</td>\n",
       "      <td>-0.01</td>\n",
       "      <td>0.17</td>\n",
       "      <td>-0.02</td>\n",
       "    </tr>\n",
       "    <tr>\n",
       "      <th>Leave my belongings around</th>\n",
       "      <td>0.10</td>\n",
       "      <td>0.08</td>\n",
       "      <td>-0.13</td>\n",
       "      <td>-0.06</td>\n",
       "      <td>0.25</td>\n",
       "    </tr>\n",
       "    <tr>\n",
       "      <th>Pay attention to details</th>\n",
       "      <td>-0.15</td>\n",
       "      <td>-0.06</td>\n",
       "      <td>0.23</td>\n",
       "      <td>0.06</td>\n",
       "      <td>0.04</td>\n",
       "    </tr>\n",
       "    <tr>\n",
       "      <th>Make a mess of things</th>\n",
       "      <td>0.18</td>\n",
       "      <td>0.20</td>\n",
       "      <td>-0.05</td>\n",
       "      <td>-0.05</td>\n",
       "      <td>0.27</td>\n",
       "    </tr>\n",
       "    <tr>\n",
       "      <th>Get chores done right away</th>\n",
       "      <td>-0.10</td>\n",
       "      <td>0.05</td>\n",
       "      <td>0.05</td>\n",
       "      <td>0.02</td>\n",
       "      <td>-0.00</td>\n",
       "    </tr>\n",
       "    <tr>\n",
       "      <th>Often forget to put things back in their proper place</th>\n",
       "      <td>0.15</td>\n",
       "      <td>0.14</td>\n",
       "      <td>-0.18</td>\n",
       "      <td>-0.01</td>\n",
       "      <td>0.16</td>\n",
       "    </tr>\n",
       "    <tr>\n",
       "      <th>Like order</th>\n",
       "      <td>-0.11</td>\n",
       "      <td>-0.07</td>\n",
       "      <td>0.15</td>\n",
       "      <td>0.07</td>\n",
       "      <td>0.05</td>\n",
       "    </tr>\n",
       "    <tr>\n",
       "      <th>Shirk my duties</th>\n",
       "      <td>0.21</td>\n",
       "      <td>0.10</td>\n",
       "      <td>-0.01</td>\n",
       "      <td>-0.08</td>\n",
       "      <td>0.15</td>\n",
       "    </tr>\n",
       "    <tr>\n",
       "      <th>Follow a schedule</th>\n",
       "      <td>-0.17</td>\n",
       "      <td>0.02</td>\n",
       "      <td>0.13</td>\n",
       "      <td>0.01</td>\n",
       "      <td>-0.02</td>\n",
       "    </tr>\n",
       "    <tr>\n",
       "      <th>Am exacting in my work</th>\n",
       "      <td>-0.11</td>\n",
       "      <td>0.01</td>\n",
       "      <td>0.06</td>\n",
       "      <td>0.14</td>\n",
       "      <td>0.17</td>\n",
       "    </tr>\n",
       "    <tr>\n",
       "      <th>Get stressed out easily</th>\n",
       "      <td>0.11</td>\n",
       "      <td>0.21</td>\n",
       "      <td>0.21</td>\n",
       "      <td>-0.07</td>\n",
       "      <td>-0.14</td>\n",
       "    </tr>\n",
       "    <tr>\n",
       "      <th>Am relaxed most of the time</th>\n",
       "      <td>-0.02</td>\n",
       "      <td>-0.07</td>\n",
       "      <td>-0.16</td>\n",
       "      <td>0.04</td>\n",
       "      <td>0.31</td>\n",
       "    </tr>\n",
       "    <tr>\n",
       "      <th>Worry about things</th>\n",
       "      <td>0.04</td>\n",
       "      <td>0.10</td>\n",
       "      <td>0.30</td>\n",
       "      <td>-0.08</td>\n",
       "      <td>-0.13</td>\n",
       "    </tr>\n",
       "    <tr>\n",
       "      <th>Seldom feel blue</th>\n",
       "      <td>-0.00</td>\n",
       "      <td>-0.02</td>\n",
       "      <td>-0.14</td>\n",
       "      <td>0.10</td>\n",
       "      <td>0.08</td>\n",
       "    </tr>\n",
       "    <tr>\n",
       "      <th>Am easily disturbed</th>\n",
       "      <td>0.23</td>\n",
       "      <td>0.10</td>\n",
       "      <td>0.10</td>\n",
       "      <td>0.09</td>\n",
       "      <td>-0.08</td>\n",
       "    </tr>\n",
       "    <tr>\n",
       "      <th>Get upset easily</th>\n",
       "      <td>0.20</td>\n",
       "      <td>0.22</td>\n",
       "      <td>0.13</td>\n",
       "      <td>0.13</td>\n",
       "      <td>-0.14</td>\n",
       "    </tr>\n",
       "    <tr>\n",
       "      <th>Change my mood a lot</th>\n",
       "      <td>0.18</td>\n",
       "      <td>0.28</td>\n",
       "      <td>0.07</td>\n",
       "      <td>0.09</td>\n",
       "      <td>-0.06</td>\n",
       "    </tr>\n",
       "    <tr>\n",
       "      <th>Have frequent mood swings</th>\n",
       "      <td>0.22</td>\n",
       "      <td>0.25</td>\n",
       "      <td>0.14</td>\n",
       "      <td>0.02</td>\n",
       "      <td>-0.06</td>\n",
       "    </tr>\n",
       "    <tr>\n",
       "      <th>Get irritated easily</th>\n",
       "      <td>0.18</td>\n",
       "      <td>0.22</td>\n",
       "      <td>0.12</td>\n",
       "      <td>0.16</td>\n",
       "      <td>-0.10</td>\n",
       "    </tr>\n",
       "    <tr>\n",
       "      <th>Often feel blue</th>\n",
       "      <td>0.18</td>\n",
       "      <td>0.15</td>\n",
       "      <td>0.14</td>\n",
       "      <td>0.03</td>\n",
       "      <td>0.10</td>\n",
       "    </tr>\n",
       "    <tr>\n",
       "      <th>Have a rich vocabulary</th>\n",
       "      <td>-0.15</td>\n",
       "      <td>0.05</td>\n",
       "      <td>0.01</td>\n",
       "      <td>0.20</td>\n",
       "      <td>0.01</td>\n",
       "    </tr>\n",
       "    <tr>\n",
       "      <th>Have difficulty understanding abstract ideas</th>\n",
       "      <td>0.11</td>\n",
       "      <td>0.08</td>\n",
       "      <td>0.06</td>\n",
       "      <td>-0.32</td>\n",
       "      <td>-0.02</td>\n",
       "    </tr>\n",
       "    <tr>\n",
       "      <th>Have a vivid imagination</th>\n",
       "      <td>-0.05</td>\n",
       "      <td>0.17</td>\n",
       "      <td>0.11</td>\n",
       "      <td>0.19</td>\n",
       "      <td>0.06</td>\n",
       "    </tr>\n",
       "    <tr>\n",
       "      <th>Am not interested in abstract ideas</th>\n",
       "      <td>0.19</td>\n",
       "      <td>-0.07</td>\n",
       "      <td>-0.01</td>\n",
       "      <td>-0.19</td>\n",
       "      <td>-0.02</td>\n",
       "    </tr>\n",
       "    <tr>\n",
       "      <th>Have excellent ideas</th>\n",
       "      <td>-0.14</td>\n",
       "      <td>0.17</td>\n",
       "      <td>-0.01</td>\n",
       "      <td>0.28</td>\n",
       "      <td>0.13</td>\n",
       "    </tr>\n",
       "    <tr>\n",
       "      <th>Do not have a good imagination</th>\n",
       "      <td>0.10</td>\n",
       "      <td>-0.04</td>\n",
       "      <td>-0.11</td>\n",
       "      <td>-0.17</td>\n",
       "      <td>0.14</td>\n",
       "    </tr>\n",
       "    <tr>\n",
       "      <th>Am quick to understand things</th>\n",
       "      <td>-0.11</td>\n",
       "      <td>0.03</td>\n",
       "      <td>0.06</td>\n",
       "      <td>0.25</td>\n",
       "      <td>0.06</td>\n",
       "    </tr>\n",
       "    <tr>\n",
       "      <th>Use difficult words</th>\n",
       "      <td>-0.02</td>\n",
       "      <td>0.10</td>\n",
       "      <td>-0.04</td>\n",
       "      <td>0.23</td>\n",
       "      <td>0.16</td>\n",
       "    </tr>\n",
       "    <tr>\n",
       "      <th>Spend time reflecting on things</th>\n",
       "      <td>-0.17</td>\n",
       "      <td>0.09</td>\n",
       "      <td>0.21</td>\n",
       "      <td>0.03</td>\n",
       "      <td>0.05</td>\n",
       "    </tr>\n",
       "    <tr>\n",
       "      <th>Am full of ideas</th>\n",
       "      <td>-0.11</td>\n",
       "      <td>0.15</td>\n",
       "      <td>0.00</td>\n",
       "      <td>0.29</td>\n",
       "      <td>0.08</td>\n",
       "    </tr>\n",
       "  </tbody>\n",
       "</table>\n",
       "</div>"
      ],
      "text/plain": [
       "                                                          0     1     2     3     4\n",
       "Am the life of the party                              -0.01  0.27 -0.15 -0.07  0.04\n",
       "Don't talk a lot                                       0.12 -0.13  0.16  0.06  0.27\n",
       "Feel comfortable around people                        -0.21  0.10 -0.20 -0.21  0.07\n",
       "Keep in the background                                 0.14 -0.09  0.20 -0.07  0.28\n",
       "Start conversations                                   -0.16  0.26 -0.20 -0.07 -0.02\n",
       "Have little to say                                     0.17 -0.06  0.07 -0.17  0.24\n",
       "Talk to a lot of different people at parties          -0.05  0.27 -0.19 -0.05  0.13\n",
       "Don't like to draw attention to myself                 0.07 -0.13  0.11  0.09  0.22\n",
       "Don't mind being the center of attention              -0.07  0.25 -0.17 -0.00 -0.09\n",
       "Am quiet around strangers                              0.14 -0.20  0.22  0.13  0.21\n",
       "Feel little concern for others                         0.13  0.02 -0.14  0.10  0.06\n",
       "Am interested in people                               -0.14  0.13  0.01 -0.22  0.14\n",
       "Insult people                                          0.17  0.07 -0.12  0.05 -0.04\n",
       "Sympathize with others' feelings                      -0.15  0.13  0.22 -0.17  0.18\n",
       "Am not interested in other people's problems           0.16 -0.04 -0.21  0.19  0.12\n",
       "Have a soft heart                                     -0.11  0.08  0.15 -0.16  0.18\n",
       "Am not really interested in others                     0.17 -0.08 -0.13  0.20  0.04\n",
       "Take time out for others                              -0.12  0.09  0.06 -0.02  0.11\n",
       "Feel others' emotions                                 -0.16  0.18  0.22 -0.14  0.08\n",
       "Make people feel at ease                              -0.18  0.10  0.00 -0.01  0.24\n",
       "Am always prepared                                    -0.09 -0.00 -0.01  0.17 -0.02\n",
       "Leave my belongings around                             0.10  0.08 -0.13 -0.06  0.25\n",
       "Pay attention to details                              -0.15 -0.06  0.23  0.06  0.04\n",
       "Make a mess of things                                  0.18  0.20 -0.05 -0.05  0.27\n",
       "Get chores done right away                            -0.10  0.05  0.05  0.02 -0.00\n",
       "Often forget to put things back in their proper place  0.15  0.14 -0.18 -0.01  0.16\n",
       "Like order                                            -0.11 -0.07  0.15  0.07  0.05\n",
       "Shirk my duties                                        0.21  0.10 -0.01 -0.08  0.15\n",
       "Follow a schedule                                     -0.17  0.02  0.13  0.01 -0.02\n",
       "Am exacting in my work                                -0.11  0.01  0.06  0.14  0.17\n",
       "Get stressed out easily                                0.11  0.21  0.21 -0.07 -0.14\n",
       "Am relaxed most of the time                           -0.02 -0.07 -0.16  0.04  0.31\n",
       "Worry about things                                     0.04  0.10  0.30 -0.08 -0.13\n",
       "Seldom feel blue                                      -0.00 -0.02 -0.14  0.10  0.08\n",
       "Am easily disturbed                                    0.23  0.10  0.10  0.09 -0.08\n",
       "Get upset easily                                       0.20  0.22  0.13  0.13 -0.14\n",
       "Change my mood a lot                                   0.18  0.28  0.07  0.09 -0.06\n",
       "Have frequent mood swings                              0.22  0.25  0.14  0.02 -0.06\n",
       "Get irritated easily                                   0.18  0.22  0.12  0.16 -0.10\n",
       "Often feel blue                                        0.18  0.15  0.14  0.03  0.10\n",
       "Have a rich vocabulary                                -0.15  0.05  0.01  0.20  0.01\n",
       "Have difficulty understanding abstract ideas           0.11  0.08  0.06 -0.32 -0.02\n",
       "Have a vivid imagination                              -0.05  0.17  0.11  0.19  0.06\n",
       "Am not interested in abstract ideas                    0.19 -0.07 -0.01 -0.19 -0.02\n",
       "Have excellent ideas                                  -0.14  0.17 -0.01  0.28  0.13\n",
       "Do not have a good imagination                         0.10 -0.04 -0.11 -0.17  0.14\n",
       "Am quick to understand things                         -0.11  0.03  0.06  0.25  0.06\n",
       "Use difficult words                                   -0.02  0.10 -0.04  0.23  0.16\n",
       "Spend time reflecting on things                       -0.17  0.09  0.21  0.03  0.05\n",
       "Am full of ideas                                      -0.11  0.15  0.00  0.29  0.08"
      ]
     },
     "execution_count": 33,
     "metadata": {},
     "output_type": "execute_result"
    }
   ],
   "source": [
    "#Showing questions and factors for each component\n",
    "#Transposing pca components\n",
    "factor_loadings_df_big5 = pd.DataFrame(pd.np.transpose(pca_5.components_))\n",
    "\n",
    "\n",
    "#Naming rows as original features\n",
    "factor_loadings_df_big5 = factor_loadings_df_big5.set_index(personality_scaled.columns)\n",
    "\n",
    "\n",
    "#Checking the result\n",
    "factor_loadings_df_big5.round(decimals=2)"
   ]
  },
  {
   "cell_type": "markdown",
   "metadata": {},
   "source": [
    "<strong>Interpreting Principal Components and Persona Development</strong><br>\n"
   ]
  },
  {
   "cell_type": "markdown",
   "metadata": {},
   "source": [
    "Next, we named each Principal Component based on their factor loadings, that would best represent. We did this by identifying groups of customers that have very high or very low factor loadings in any given principal component."
   ]
  },
  {
   "cell_type": "code",
   "execution_count": 34,
   "metadata": {},
   "outputs": [
    {
     "data": {
      "text/html": [
       "<div>\n",
       "<style scoped>\n",
       "    .dataframe tbody tr th:only-of-type {\n",
       "        vertical-align: middle;\n",
       "    }\n",
       "\n",
       "    .dataframe tbody tr th {\n",
       "        vertical-align: top;\n",
       "    }\n",
       "\n",
       "    .dataframe thead th {\n",
       "        text-align: right;\n",
       "    }\n",
       "</style>\n",
       "<table border=\"1\" class=\"dataframe\">\n",
       "  <thead>\n",
       "    <tr style=\"text-align: right;\">\n",
       "      <th></th>\n",
       "      <th>Grumpy Antisocial</th>\n",
       "      <th>Social-bipolar</th>\n",
       "      <th>Emotional-introvert</th>\n",
       "      <th>Geek</th>\n",
       "      <th>Quiet Artistic</th>\n",
       "    </tr>\n",
       "  </thead>\n",
       "  <tbody>\n",
       "    <tr>\n",
       "      <th>Am the life of the party</th>\n",
       "      <td>-0.01</td>\n",
       "      <td>0.27</td>\n",
       "      <td>-0.15</td>\n",
       "      <td>-0.07</td>\n",
       "      <td>0.04</td>\n",
       "    </tr>\n",
       "    <tr>\n",
       "      <th>Don't talk a lot</th>\n",
       "      <td>0.12</td>\n",
       "      <td>-0.13</td>\n",
       "      <td>0.16</td>\n",
       "      <td>0.06</td>\n",
       "      <td>0.27</td>\n",
       "    </tr>\n",
       "    <tr>\n",
       "      <th>Feel comfortable around people</th>\n",
       "      <td>-0.21</td>\n",
       "      <td>0.10</td>\n",
       "      <td>-0.20</td>\n",
       "      <td>-0.21</td>\n",
       "      <td>0.07</td>\n",
       "    </tr>\n",
       "    <tr>\n",
       "      <th>Keep in the background</th>\n",
       "      <td>0.14</td>\n",
       "      <td>-0.09</td>\n",
       "      <td>0.20</td>\n",
       "      <td>-0.07</td>\n",
       "      <td>0.28</td>\n",
       "    </tr>\n",
       "    <tr>\n",
       "      <th>Start conversations</th>\n",
       "      <td>-0.16</td>\n",
       "      <td>0.26</td>\n",
       "      <td>-0.20</td>\n",
       "      <td>-0.07</td>\n",
       "      <td>-0.02</td>\n",
       "    </tr>\n",
       "    <tr>\n",
       "      <th>Have little to say</th>\n",
       "      <td>0.17</td>\n",
       "      <td>-0.06</td>\n",
       "      <td>0.07</td>\n",
       "      <td>-0.17</td>\n",
       "      <td>0.24</td>\n",
       "    </tr>\n",
       "    <tr>\n",
       "      <th>Talk to a lot of different people at parties</th>\n",
       "      <td>-0.05</td>\n",
       "      <td>0.27</td>\n",
       "      <td>-0.19</td>\n",
       "      <td>-0.05</td>\n",
       "      <td>0.13</td>\n",
       "    </tr>\n",
       "    <tr>\n",
       "      <th>Don't like to draw attention to myself</th>\n",
       "      <td>0.07</td>\n",
       "      <td>-0.13</td>\n",
       "      <td>0.11</td>\n",
       "      <td>0.09</td>\n",
       "      <td>0.22</td>\n",
       "    </tr>\n",
       "    <tr>\n",
       "      <th>Don't mind being the center of attention</th>\n",
       "      <td>-0.07</td>\n",
       "      <td>0.25</td>\n",
       "      <td>-0.17</td>\n",
       "      <td>-0.00</td>\n",
       "      <td>-0.09</td>\n",
       "    </tr>\n",
       "    <tr>\n",
       "      <th>Am quiet around strangers</th>\n",
       "      <td>0.14</td>\n",
       "      <td>-0.20</td>\n",
       "      <td>0.22</td>\n",
       "      <td>0.13</td>\n",
       "      <td>0.21</td>\n",
       "    </tr>\n",
       "    <tr>\n",
       "      <th>Feel little concern for others</th>\n",
       "      <td>0.13</td>\n",
       "      <td>0.02</td>\n",
       "      <td>-0.14</td>\n",
       "      <td>0.10</td>\n",
       "      <td>0.06</td>\n",
       "    </tr>\n",
       "    <tr>\n",
       "      <th>Am interested in people</th>\n",
       "      <td>-0.14</td>\n",
       "      <td>0.13</td>\n",
       "      <td>0.01</td>\n",
       "      <td>-0.22</td>\n",
       "      <td>0.14</td>\n",
       "    </tr>\n",
       "    <tr>\n",
       "      <th>Insult people</th>\n",
       "      <td>0.17</td>\n",
       "      <td>0.07</td>\n",
       "      <td>-0.12</td>\n",
       "      <td>0.05</td>\n",
       "      <td>-0.04</td>\n",
       "    </tr>\n",
       "    <tr>\n",
       "      <th>Sympathize with others' feelings</th>\n",
       "      <td>-0.15</td>\n",
       "      <td>0.13</td>\n",
       "      <td>0.22</td>\n",
       "      <td>-0.17</td>\n",
       "      <td>0.18</td>\n",
       "    </tr>\n",
       "    <tr>\n",
       "      <th>Am not interested in other people's problems</th>\n",
       "      <td>0.16</td>\n",
       "      <td>-0.04</td>\n",
       "      <td>-0.21</td>\n",
       "      <td>0.19</td>\n",
       "      <td>0.12</td>\n",
       "    </tr>\n",
       "    <tr>\n",
       "      <th>Have a soft heart</th>\n",
       "      <td>-0.11</td>\n",
       "      <td>0.08</td>\n",
       "      <td>0.15</td>\n",
       "      <td>-0.16</td>\n",
       "      <td>0.18</td>\n",
       "    </tr>\n",
       "    <tr>\n",
       "      <th>Am not really interested in others</th>\n",
       "      <td>0.17</td>\n",
       "      <td>-0.08</td>\n",
       "      <td>-0.13</td>\n",
       "      <td>0.20</td>\n",
       "      <td>0.04</td>\n",
       "    </tr>\n",
       "    <tr>\n",
       "      <th>Take time out for others</th>\n",
       "      <td>-0.12</td>\n",
       "      <td>0.09</td>\n",
       "      <td>0.06</td>\n",
       "      <td>-0.02</td>\n",
       "      <td>0.11</td>\n",
       "    </tr>\n",
       "    <tr>\n",
       "      <th>Feel others' emotions</th>\n",
       "      <td>-0.16</td>\n",
       "      <td>0.18</td>\n",
       "      <td>0.22</td>\n",
       "      <td>-0.14</td>\n",
       "      <td>0.08</td>\n",
       "    </tr>\n",
       "    <tr>\n",
       "      <th>Make people feel at ease</th>\n",
       "      <td>-0.18</td>\n",
       "      <td>0.10</td>\n",
       "      <td>0.00</td>\n",
       "      <td>-0.01</td>\n",
       "      <td>0.24</td>\n",
       "    </tr>\n",
       "    <tr>\n",
       "      <th>Am always prepared</th>\n",
       "      <td>-0.09</td>\n",
       "      <td>-0.00</td>\n",
       "      <td>-0.01</td>\n",
       "      <td>0.17</td>\n",
       "      <td>-0.02</td>\n",
       "    </tr>\n",
       "    <tr>\n",
       "      <th>Leave my belongings around</th>\n",
       "      <td>0.10</td>\n",
       "      <td>0.08</td>\n",
       "      <td>-0.13</td>\n",
       "      <td>-0.06</td>\n",
       "      <td>0.25</td>\n",
       "    </tr>\n",
       "    <tr>\n",
       "      <th>Pay attention to details</th>\n",
       "      <td>-0.15</td>\n",
       "      <td>-0.06</td>\n",
       "      <td>0.23</td>\n",
       "      <td>0.06</td>\n",
       "      <td>0.04</td>\n",
       "    </tr>\n",
       "    <tr>\n",
       "      <th>Make a mess of things</th>\n",
       "      <td>0.18</td>\n",
       "      <td>0.20</td>\n",
       "      <td>-0.05</td>\n",
       "      <td>-0.05</td>\n",
       "      <td>0.27</td>\n",
       "    </tr>\n",
       "    <tr>\n",
       "      <th>Get chores done right away</th>\n",
       "      <td>-0.10</td>\n",
       "      <td>0.05</td>\n",
       "      <td>0.05</td>\n",
       "      <td>0.02</td>\n",
       "      <td>-0.00</td>\n",
       "    </tr>\n",
       "    <tr>\n",
       "      <th>Often forget to put things back in their proper place</th>\n",
       "      <td>0.15</td>\n",
       "      <td>0.14</td>\n",
       "      <td>-0.18</td>\n",
       "      <td>-0.01</td>\n",
       "      <td>0.16</td>\n",
       "    </tr>\n",
       "    <tr>\n",
       "      <th>Like order</th>\n",
       "      <td>-0.11</td>\n",
       "      <td>-0.07</td>\n",
       "      <td>0.15</td>\n",
       "      <td>0.07</td>\n",
       "      <td>0.05</td>\n",
       "    </tr>\n",
       "    <tr>\n",
       "      <th>Shirk my duties</th>\n",
       "      <td>0.21</td>\n",
       "      <td>0.10</td>\n",
       "      <td>-0.01</td>\n",
       "      <td>-0.08</td>\n",
       "      <td>0.15</td>\n",
       "    </tr>\n",
       "    <tr>\n",
       "      <th>Follow a schedule</th>\n",
       "      <td>-0.17</td>\n",
       "      <td>0.02</td>\n",
       "      <td>0.13</td>\n",
       "      <td>0.01</td>\n",
       "      <td>-0.02</td>\n",
       "    </tr>\n",
       "    <tr>\n",
       "      <th>Am exacting in my work</th>\n",
       "      <td>-0.11</td>\n",
       "      <td>0.01</td>\n",
       "      <td>0.06</td>\n",
       "      <td>0.14</td>\n",
       "      <td>0.17</td>\n",
       "    </tr>\n",
       "    <tr>\n",
       "      <th>Get stressed out easily</th>\n",
       "      <td>0.11</td>\n",
       "      <td>0.21</td>\n",
       "      <td>0.21</td>\n",
       "      <td>-0.07</td>\n",
       "      <td>-0.14</td>\n",
       "    </tr>\n",
       "    <tr>\n",
       "      <th>Am relaxed most of the time</th>\n",
       "      <td>-0.02</td>\n",
       "      <td>-0.07</td>\n",
       "      <td>-0.16</td>\n",
       "      <td>0.04</td>\n",
       "      <td>0.31</td>\n",
       "    </tr>\n",
       "    <tr>\n",
       "      <th>Worry about things</th>\n",
       "      <td>0.04</td>\n",
       "      <td>0.10</td>\n",
       "      <td>0.30</td>\n",
       "      <td>-0.08</td>\n",
       "      <td>-0.13</td>\n",
       "    </tr>\n",
       "    <tr>\n",
       "      <th>Seldom feel blue</th>\n",
       "      <td>-0.00</td>\n",
       "      <td>-0.02</td>\n",
       "      <td>-0.14</td>\n",
       "      <td>0.10</td>\n",
       "      <td>0.08</td>\n",
       "    </tr>\n",
       "    <tr>\n",
       "      <th>Am easily disturbed</th>\n",
       "      <td>0.23</td>\n",
       "      <td>0.10</td>\n",
       "      <td>0.10</td>\n",
       "      <td>0.09</td>\n",
       "      <td>-0.08</td>\n",
       "    </tr>\n",
       "    <tr>\n",
       "      <th>Get upset easily</th>\n",
       "      <td>0.20</td>\n",
       "      <td>0.22</td>\n",
       "      <td>0.13</td>\n",
       "      <td>0.13</td>\n",
       "      <td>-0.14</td>\n",
       "    </tr>\n",
       "    <tr>\n",
       "      <th>Change my mood a lot</th>\n",
       "      <td>0.18</td>\n",
       "      <td>0.28</td>\n",
       "      <td>0.07</td>\n",
       "      <td>0.09</td>\n",
       "      <td>-0.06</td>\n",
       "    </tr>\n",
       "    <tr>\n",
       "      <th>Have frequent mood swings</th>\n",
       "      <td>0.22</td>\n",
       "      <td>0.25</td>\n",
       "      <td>0.14</td>\n",
       "      <td>0.02</td>\n",
       "      <td>-0.06</td>\n",
       "    </tr>\n",
       "    <tr>\n",
       "      <th>Get irritated easily</th>\n",
       "      <td>0.18</td>\n",
       "      <td>0.22</td>\n",
       "      <td>0.12</td>\n",
       "      <td>0.16</td>\n",
       "      <td>-0.10</td>\n",
       "    </tr>\n",
       "    <tr>\n",
       "      <th>Often feel blue</th>\n",
       "      <td>0.18</td>\n",
       "      <td>0.15</td>\n",
       "      <td>0.14</td>\n",
       "      <td>0.03</td>\n",
       "      <td>0.10</td>\n",
       "    </tr>\n",
       "    <tr>\n",
       "      <th>Have a rich vocabulary</th>\n",
       "      <td>-0.15</td>\n",
       "      <td>0.05</td>\n",
       "      <td>0.01</td>\n",
       "      <td>0.20</td>\n",
       "      <td>0.01</td>\n",
       "    </tr>\n",
       "    <tr>\n",
       "      <th>Have difficulty understanding abstract ideas</th>\n",
       "      <td>0.11</td>\n",
       "      <td>0.08</td>\n",
       "      <td>0.06</td>\n",
       "      <td>-0.32</td>\n",
       "      <td>-0.02</td>\n",
       "    </tr>\n",
       "    <tr>\n",
       "      <th>Have a vivid imagination</th>\n",
       "      <td>-0.05</td>\n",
       "      <td>0.17</td>\n",
       "      <td>0.11</td>\n",
       "      <td>0.19</td>\n",
       "      <td>0.06</td>\n",
       "    </tr>\n",
       "    <tr>\n",
       "      <th>Am not interested in abstract ideas</th>\n",
       "      <td>0.19</td>\n",
       "      <td>-0.07</td>\n",
       "      <td>-0.01</td>\n",
       "      <td>-0.19</td>\n",
       "      <td>-0.02</td>\n",
       "    </tr>\n",
       "    <tr>\n",
       "      <th>Have excellent ideas</th>\n",
       "      <td>-0.14</td>\n",
       "      <td>0.17</td>\n",
       "      <td>-0.01</td>\n",
       "      <td>0.28</td>\n",
       "      <td>0.13</td>\n",
       "    </tr>\n",
       "    <tr>\n",
       "      <th>Do not have a good imagination</th>\n",
       "      <td>0.10</td>\n",
       "      <td>-0.04</td>\n",
       "      <td>-0.11</td>\n",
       "      <td>-0.17</td>\n",
       "      <td>0.14</td>\n",
       "    </tr>\n",
       "    <tr>\n",
       "      <th>Am quick to understand things</th>\n",
       "      <td>-0.11</td>\n",
       "      <td>0.03</td>\n",
       "      <td>0.06</td>\n",
       "      <td>0.25</td>\n",
       "      <td>0.06</td>\n",
       "    </tr>\n",
       "    <tr>\n",
       "      <th>Use difficult words</th>\n",
       "      <td>-0.02</td>\n",
       "      <td>0.10</td>\n",
       "      <td>-0.04</td>\n",
       "      <td>0.23</td>\n",
       "      <td>0.16</td>\n",
       "    </tr>\n",
       "    <tr>\n",
       "      <th>Spend time reflecting on things</th>\n",
       "      <td>-0.17</td>\n",
       "      <td>0.09</td>\n",
       "      <td>0.21</td>\n",
       "      <td>0.03</td>\n",
       "      <td>0.05</td>\n",
       "    </tr>\n",
       "    <tr>\n",
       "      <th>Am full of ideas</th>\n",
       "      <td>-0.11</td>\n",
       "      <td>0.15</td>\n",
       "      <td>0.00</td>\n",
       "      <td>0.29</td>\n",
       "      <td>0.08</td>\n",
       "    </tr>\n",
       "  </tbody>\n",
       "</table>\n",
       "</div>"
      ],
      "text/plain": [
       "                                                       Grumpy Antisocial  Social-bipolar  Emotional-introvert  Geek  Quiet Artistic\n",
       "Am the life of the party                                           -0.01            0.27                -0.15 -0.07            0.04\n",
       "Don't talk a lot                                                    0.12           -0.13                 0.16  0.06            0.27\n",
       "Feel comfortable around people                                     -0.21            0.10                -0.20 -0.21            0.07\n",
       "Keep in the background                                              0.14           -0.09                 0.20 -0.07            0.28\n",
       "Start conversations                                                -0.16            0.26                -0.20 -0.07           -0.02\n",
       "Have little to say                                                  0.17           -0.06                 0.07 -0.17            0.24\n",
       "Talk to a lot of different people at parties                       -0.05            0.27                -0.19 -0.05            0.13\n",
       "Don't like to draw attention to myself                              0.07           -0.13                 0.11  0.09            0.22\n",
       "Don't mind being the center of attention                           -0.07            0.25                -0.17 -0.00           -0.09\n",
       "Am quiet around strangers                                           0.14           -0.20                 0.22  0.13            0.21\n",
       "Feel little concern for others                                      0.13            0.02                -0.14  0.10            0.06\n",
       "Am interested in people                                            -0.14            0.13                 0.01 -0.22            0.14\n",
       "Insult people                                                       0.17            0.07                -0.12  0.05           -0.04\n",
       "Sympathize with others' feelings                                   -0.15            0.13                 0.22 -0.17            0.18\n",
       "Am not interested in other people's problems                        0.16           -0.04                -0.21  0.19            0.12\n",
       "Have a soft heart                                                  -0.11            0.08                 0.15 -0.16            0.18\n",
       "Am not really interested in others                                  0.17           -0.08                -0.13  0.20            0.04\n",
       "Take time out for others                                           -0.12            0.09                 0.06 -0.02            0.11\n",
       "Feel others' emotions                                              -0.16            0.18                 0.22 -0.14            0.08\n",
       "Make people feel at ease                                           -0.18            0.10                 0.00 -0.01            0.24\n",
       "Am always prepared                                                 -0.09           -0.00                -0.01  0.17           -0.02\n",
       "Leave my belongings around                                          0.10            0.08                -0.13 -0.06            0.25\n",
       "Pay attention to details                                           -0.15           -0.06                 0.23  0.06            0.04\n",
       "Make a mess of things                                               0.18            0.20                -0.05 -0.05            0.27\n",
       "Get chores done right away                                         -0.10            0.05                 0.05  0.02           -0.00\n",
       "Often forget to put things back in their proper place               0.15            0.14                -0.18 -0.01            0.16\n",
       "Like order                                                         -0.11           -0.07                 0.15  0.07            0.05\n",
       "Shirk my duties                                                     0.21            0.10                -0.01 -0.08            0.15\n",
       "Follow a schedule                                                  -0.17            0.02                 0.13  0.01           -0.02\n",
       "Am exacting in my work                                             -0.11            0.01                 0.06  0.14            0.17\n",
       "Get stressed out easily                                             0.11            0.21                 0.21 -0.07           -0.14\n",
       "Am relaxed most of the time                                        -0.02           -0.07                -0.16  0.04            0.31\n",
       "Worry about things                                                  0.04            0.10                 0.30 -0.08           -0.13\n",
       "Seldom feel blue                                                   -0.00           -0.02                -0.14  0.10            0.08\n",
       "Am easily disturbed                                                 0.23            0.10                 0.10  0.09           -0.08\n",
       "Get upset easily                                                    0.20            0.22                 0.13  0.13           -0.14\n",
       "Change my mood a lot                                                0.18            0.28                 0.07  0.09           -0.06\n",
       "Have frequent mood swings                                           0.22            0.25                 0.14  0.02           -0.06\n",
       "Get irritated easily                                                0.18            0.22                 0.12  0.16           -0.10\n",
       "Often feel blue                                                     0.18            0.15                 0.14  0.03            0.10\n",
       "Have a rich vocabulary                                             -0.15            0.05                 0.01  0.20            0.01\n",
       "Have difficulty understanding abstract ideas                        0.11            0.08                 0.06 -0.32           -0.02\n",
       "Have a vivid imagination                                           -0.05            0.17                 0.11  0.19            0.06\n",
       "Am not interested in abstract ideas                                 0.19           -0.07                -0.01 -0.19           -0.02\n",
       "Have excellent ideas                                               -0.14            0.17                -0.01  0.28            0.13\n",
       "Do not have a good imagination                                      0.10           -0.04                -0.11 -0.17            0.14\n",
       "Am quick to understand things                                      -0.11            0.03                 0.06  0.25            0.06\n",
       "Use difficult words                                                -0.02            0.10                -0.04  0.23            0.16\n",
       "Spend time reflecting on things                                    -0.17            0.09                 0.21  0.03            0.05\n",
       "Am full of ideas                                                   -0.11            0.15                 0.00  0.29            0.08"
      ]
     },
     "execution_count": 34,
     "metadata": {},
     "output_type": "execute_result"
    }
   ],
   "source": [
    "# naming each principal component\n",
    "factor_loadings_df_big5.columns = ['Grumpy Antisocial', #Easily distubed, Not comforable around people\n",
    "                                   'Social-bipolar', #Life of the party, Change mood a lot       \n",
    "                                   'Emotional-introvert', #Quiet around strangers, Feel other's emotions\n",
    "                                   'Geek', #Quick understanding things, Full of ideas      \n",
    "                                   'Quiet Artistic'] #Don't talk a lot, Relaxed,        \n",
    "\n",
    "\n",
    "# checking the result\n",
    "factor_loadings_df_big5.round(decimals=2)"
   ]
  },
  {
   "cell_type": "code",
   "execution_count": 35,
   "metadata": {},
   "outputs": [],
   "source": [
    "# Customer analysis\n",
    "X_pca_reduced = pca_5.transform(personality_scaled)\n",
    "\n",
    "\n",
    "# converting to a DataFrame\n",
    "X_pca_df = pd.DataFrame(X_pca_reduced)\n",
    "\n",
    "\n",
    "# renaming columns\n",
    "\n",
    "X_pca_df.columns= ['Grumpy Antisocial',  \n",
    "                   'Social-bipolar',         \n",
    "                   'Emotional-introvert', \n",
    "                   'Geek',            \n",
    "                   'Quiet Artistic']   \n",
    "\n",
    "\n",
    "# checking the results\n",
    "#X_pca_df.round(decimals=2)\n"
   ]
  },
  {
   "cell_type": "markdown",
   "metadata": {},
   "source": [
    "<strong>Clustering</strong><br>\n"
   ]
  },
  {
   "cell_type": "markdown",
   "metadata": {},
   "source": [
    "Now, we will start building an agglomerative clustering model"
   ]
  },
  {
   "cell_type": "code",
   "execution_count": 36,
   "metadata": {},
   "outputs": [
    {
     "data": {
      "text/plain": [
       "Grumpy Antisocial      6.56\n",
       "Social-bipolar         4.22\n",
       "Emotional-introvert    3.74\n",
       "Geek                   3.04\n",
       "Quiet Artistic         2.74\n",
       "dtype: float64"
      ]
     },
     "execution_count": 36,
     "metadata": {},
     "output_type": "execute_result"
    }
   ],
   "source": [
    "#variance of each principal component\n",
    "np.var(X_pca_df).round(decimals=2)"
   ]
  },
  {
   "cell_type": "markdown",
   "metadata": {},
   "source": [
    "Given that the variance is not longer equal, we will rescale it."
   ]
  },
  {
   "cell_type": "code",
   "execution_count": 37,
   "metadata": {},
   "outputs": [
    {
     "name": "stdout",
     "output_type": "stream",
     "text": [
      "Grumpy Antisocial      6.56\n",
      "Social-bipolar         4.22\n",
      "Emotional-introvert    3.74\n",
      "Geek                   3.04\n",
      "Quiet Artistic         2.74\n",
      "dtype: float64 \n",
      "\n",
      "\n",
      "Grumpy Antisocial      1.0\n",
      "Social-bipolar         1.0\n",
      "Emotional-introvert    1.0\n",
      "Geek                   1.0\n",
      "Quiet Artistic         1.0\n",
      "dtype: float64\n"
     ]
    },
    {
     "name": "stderr",
     "output_type": "stream",
     "text": [
      "<ipython-input-37-7f82f32824b2>:26: FutureWarning: The pandas.np module is deprecated and will be removed from pandas in a future version. Import numpy directly instead\n",
      "  print(pd.np.var(X_pca_df).round(decimals=2), '\\n\\n')\n",
      "<ipython-input-37-7f82f32824b2>:27: FutureWarning: The pandas.np module is deprecated and will be removed from pandas in a future version. Import numpy directly instead\n",
      "  print(pd.np.var(pca_scaled).round(decimals=2))\n"
     ]
    }
   ],
   "source": [
    "# rescale to have variance=1\n",
    "# INSTANTIATING a StandardScaler() object\n",
    "scaler = StandardScaler()\n",
    "\n",
    "\n",
    "# FITTING the scaler with the data\n",
    "scaler.fit(X_pca_df)\n",
    "\n",
    "\n",
    "# TRANSFORMING our data after fit\n",
    "X_scaled_pca = scaler.transform(X_pca_df)\n",
    "\n",
    "\n",
    "# converting scaled data into a DataFrame\n",
    "pca_scaled = pd.DataFrame(X_scaled_pca)\n",
    "\n",
    "\n",
    "\n",
    "pca_scaled.columns= ['Grumpy Antisocial',  \n",
    "                     'Social-bipolar',         \n",
    "                     'Emotional-introvert', \n",
    "                     'Geek',            \n",
    "                     'Quiet Artistic']   \n",
    "\n",
    "# checking pre- and post-scaling variance\n",
    "print(pd.np.var(X_pca_df).round(decimals=2), '\\n\\n')\n",
    "print(pd.np.var(pca_scaled).round(decimals=2))"
   ]
  },
  {
   "cell_type": "markdown",
   "metadata": {},
   "source": [
    "<strong>Dendrogram</strong><br>"
   ]
  },
  {
   "cell_type": "code",
   "execution_count": 38,
   "metadata": {},
   "outputs": [
    {
     "data": {
      "image/png": "[encoded data removed]",
      "text/plain": [
       "<Figure size 864x864 with 1 Axes>"
      ]
     },
     "metadata": {
      "needs_background": "light"
     },
     "output_type": "display_data"
    }
   ],
   "source": [
    "# grouping data based on Ward distance\n",
    "standard_mergings_ward = linkage(y = pca_scaled,\n",
    "                                 method = 'ward',\n",
    "                                 optimal_ordering = True)\n",
    "\n",
    "\n",
    "# setting plot size\n",
    "fig, ax = plt.subplots(figsize=(12, 12))\n",
    "\n",
    "# developing a dendrogram\n",
    "dendrogram(Z = standard_mergings_ward,\n",
    "           leaf_rotation = 90,\n",
    "           leaf_font_size = 6)\n",
    "\n",
    "\n",
    "# saving and displaying the plot\n",
    "plt.savefig('./standard_hierarchical_clust_ward_big5.png')\n",
    "plt.show()"
   ]
  },
  {
   "cell_type": "markdown",
   "metadata": {},
   "source": [
    "<strong>Iteria Plot</strong><br>"
   ]
  },
  {
   "cell_type": "code",
   "execution_count": 39,
   "metadata": {},
   "outputs": [
    {
     "data": {
      "image/png": "[encoded data removed]",
      "text/plain": [
       "<Figure size 864x576 with 1 Axes>"
      ]
     },
     "metadata": {
      "needs_background": "light"
     },
     "output_type": "display_data"
    }
   ],
   "source": [
    "# calling the inertia_plot() function\n",
    "interia_plot(data = pca_scaled)"
   ]
  },
  {
   "cell_type": "markdown",
   "metadata": {},
   "source": [
    "Based on the dendogram and intertia plot, where we tested our candidate number of clusters. We decided that the number of clusters that best suits is 4."
   ]
  },
  {
   "cell_type": "code",
   "execution_count": 40,
   "metadata": {},
   "outputs": [
    {
     "name": "stdout",
     "output_type": "stream",
     "text": [
      "2    49\n",
      "3    31\n",
      "1    25\n",
      "0    24\n",
      "Name: Cluster, dtype: int64\n"
     ]
    }
   ],
   "source": [
    "# INSTANTIATING a k-Means object with fourclusters\n",
    "customers_k_pca = KMeans(n_clusters   = 4,\n",
    "                         random_state = 219)\n",
    "\n",
    "\n",
    "# fitting the object to the data\n",
    "customers_k_pca.fit(pca_scaled)\n",
    "\n",
    "\n",
    "# converting the clusters to a DataFrame\n",
    "customers_kmeans_pca = pd.DataFrame({'Cluster': customers_k_pca.labels_})\n",
    "\n",
    "\n",
    "# checking the results\n",
    "print(customers_kmeans_pca.iloc[: , 0].value_counts())"
   ]
  },
  {
   "cell_type": "code",
   "execution_count": 41,
   "metadata": {
    "scrolled": true
   },
   "outputs": [
    {
     "data": {
      "text/html": [
       "<div>\n",
       "<style scoped>\n",
       "    .dataframe tbody tr th:only-of-type {\n",
       "        vertical-align: middle;\n",
       "    }\n",
       "\n",
       "    .dataframe tbody tr th {\n",
       "        vertical-align: top;\n",
       "    }\n",
       "\n",
       "    .dataframe thead th {\n",
       "        text-align: right;\n",
       "    }\n",
       "</style>\n",
       "<table border=\"1\" class=\"dataframe\">\n",
       "  <thead>\n",
       "    <tr style=\"text-align: right;\">\n",
       "      <th></th>\n",
       "      <th>Grumpy Antisocial</th>\n",
       "      <th>Social-bipolar</th>\n",
       "      <th>Emotional-introvert</th>\n",
       "      <th>Geek</th>\n",
       "      <th>Quiet Artistic</th>\n",
       "    </tr>\n",
       "  </thead>\n",
       "  <tbody>\n",
       "    <tr>\n",
       "      <th>0</th>\n",
       "      <td>0.79</td>\n",
       "      <td>0.76</td>\n",
       "      <td>0.48</td>\n",
       "      <td>-0.19</td>\n",
       "      <td>0.88</td>\n",
       "    </tr>\n",
       "    <tr>\n",
       "      <th>1</th>\n",
       "      <td>0.26</td>\n",
       "      <td>-0.95</td>\n",
       "      <td>0.59</td>\n",
       "      <td>0.99</td>\n",
       "      <td>0.31</td>\n",
       "    </tr>\n",
       "    <tr>\n",
       "      <th>2</th>\n",
       "      <td>-0.10</td>\n",
       "      <td>-0.28</td>\n",
       "      <td>-0.05</td>\n",
       "      <td>-0.84</td>\n",
       "      <td>-0.40</td>\n",
       "    </tr>\n",
       "    <tr>\n",
       "      <th>3</th>\n",
       "      <td>-0.67</td>\n",
       "      <td>0.62</td>\n",
       "      <td>-0.77</td>\n",
       "      <td>0.68</td>\n",
       "      <td>-0.30</td>\n",
       "    </tr>\n",
       "  </tbody>\n",
       "</table>\n",
       "</div>"
      ],
      "text/plain": [
       "   Grumpy Antisocial  Social-bipolar  Emotional-introvert  Geek  Quiet Artistic\n",
       "0               0.79            0.76                 0.48 -0.19            0.88\n",
       "1               0.26           -0.95                 0.59  0.99            0.31\n",
       "2              -0.10           -0.28                -0.05 -0.84           -0.40\n",
       "3              -0.67            0.62                -0.77  0.68           -0.30"
      ]
     },
     "execution_count": 41,
     "metadata": {},
     "output_type": "execute_result"
    }
   ],
   "source": [
    "# storing cluster centers means\n",
    "centroids_pca = customers_k_pca.cluster_centers_\n",
    "\n",
    "\n",
    "# converting cluster centers into a DataFrame\n",
    "centroids_pca_df = pd.DataFrame(centroids_pca)\n",
    "\n",
    "\n",
    "# renaming principal components\n",
    "centroids_pca_df.columns = ['Grumpy Antisocial',  \n",
    "                            'Social-bipolar',         \n",
    "                            'Emotional-introvert', \n",
    "                            'Geek',            \n",
    "                            'Quiet Artistic'] \n",
    "\n",
    "\n",
    "# checking results (clusters = rows, pc = columns)\n",
    "centroids_pca_df.round(decimals=2)\n"
   ]
  },
  {
   "cell_type": "markdown",
   "metadata": {},
   "source": [
    "Based on the previous output, we decide to optionally name our clusters and develop back stories for ideal members of each group."
   ]
  },
  {
   "cell_type": "code",
   "execution_count": 42,
   "metadata": {},
   "outputs": [
    {
     "data": {
      "text/html": [
       "<div>\n",
       "<style scoped>\n",
       "    .dataframe tbody tr th:only-of-type {\n",
       "        vertical-align: middle;\n",
       "    }\n",
       "\n",
       "    .dataframe tbody tr th {\n",
       "        vertical-align: top;\n",
       "    }\n",
       "\n",
       "    .dataframe thead th {\n",
       "        text-align: right;\n",
       "    }\n",
       "</style>\n",
       "<table border=\"1\" class=\"dataframe\">\n",
       "  <thead>\n",
       "    <tr style=\"text-align: right;\">\n",
       "      <th></th>\n",
       "      <th>What laptop do you currently have?</th>\n",
       "      <th>What laptop would you buy in next assuming if all laptops cost the same?</th>\n",
       "      <th>What is your nationality?</th>\n",
       "      <th>What program are you in?</th>\n",
       "      <th>What is your ethnicity?</th>\n",
       "      <th>Gender</th>\n",
       "      <th>What is your age?</th>\n",
       "      <th>surveyID</th>\n",
       "      <th>Cluster</th>\n",
       "      <th>Grumpy Antisocial</th>\n",
       "      <th>Social-bipolar</th>\n",
       "      <th>Emotional-introvert</th>\n",
       "      <th>Geek</th>\n",
       "      <th>Quiet Artistic</th>\n",
       "    </tr>\n",
       "  </thead>\n",
       "  <tbody>\n",
       "    <tr>\n",
       "      <th>0</th>\n",
       "      <td>Macbook</td>\n",
       "      <td>Macbook</td>\n",
       "      <td>Ecuadorian</td>\n",
       "      <td>DD (MIB &amp; Business Analytics)</td>\n",
       "      <td>Hispanic / Latino</td>\n",
       "      <td>Female</td>\n",
       "      <td>25.0</td>\n",
       "      <td>10000.0</td>\n",
       "      <td>Life of the Party</td>\n",
       "      <td>0.248952</td>\n",
       "      <td>-0.505081</td>\n",
       "      <td>0.505391</td>\n",
       "      <td>-0.011025</td>\n",
       "      <td>-1.078718</td>\n",
       "    </tr>\n",
       "    <tr>\n",
       "      <th>1</th>\n",
       "      <td>Windows laptop</td>\n",
       "      <td>Windows laptop</td>\n",
       "      <td>Ecuadorian</td>\n",
       "      <td>One year Business Analytics</td>\n",
       "      <td>Hispanic / Latino</td>\n",
       "      <td>Male</td>\n",
       "      <td>27.0</td>\n",
       "      <td>10001.0</td>\n",
       "      <td>Anti-Social Geek</td>\n",
       "      <td>0.845267</td>\n",
       "      <td>-0.591986</td>\n",
       "      <td>1.361889</td>\n",
       "      <td>2.053845</td>\n",
       "      <td>1.107067</td>\n",
       "    </tr>\n",
       "    <tr>\n",
       "      <th>2</th>\n",
       "      <td>Windows laptop</td>\n",
       "      <td>Windows laptop</td>\n",
       "      <td>Indian</td>\n",
       "      <td>One year Business Analytics</td>\n",
       "      <td>West Asian / Indian</td>\n",
       "      <td>Male</td>\n",
       "      <td>25.0</td>\n",
       "      <td>10002.0</td>\n",
       "      <td>Social Networker</td>\n",
       "      <td>1.286857</td>\n",
       "      <td>-2.454765</td>\n",
       "      <td>-4.448054</td>\n",
       "      <td>2.133418</td>\n",
       "      <td>-1.299191</td>\n",
       "    </tr>\n",
       "    <tr>\n",
       "      <th>3</th>\n",
       "      <td>Windows laptop</td>\n",
       "      <td>Windows laptop</td>\n",
       "      <td>Indian</td>\n",
       "      <td>One year Business Analytics</td>\n",
       "      <td>West Asian / Indian</td>\n",
       "      <td>Female</td>\n",
       "      <td>26.0</td>\n",
       "      <td>10003.0</td>\n",
       "      <td>Shy Artists</td>\n",
       "      <td>0.826527</td>\n",
       "      <td>2.600973</td>\n",
       "      <td>1.340038</td>\n",
       "      <td>-0.857590</td>\n",
       "      <td>2.788673</td>\n",
       "    </tr>\n",
       "    <tr>\n",
       "      <th>4</th>\n",
       "      <td>Macbook</td>\n",
       "      <td>Windows laptop</td>\n",
       "      <td>Chinese</td>\n",
       "      <td>DD (MBA &amp; Disruptive innovation)</td>\n",
       "      <td>Far east Asian</td>\n",
       "      <td>Male</td>\n",
       "      <td>27.0</td>\n",
       "      <td>10004.0</td>\n",
       "      <td>Shy Artists</td>\n",
       "      <td>4.040381</td>\n",
       "      <td>1.547018</td>\n",
       "      <td>-0.697926</td>\n",
       "      <td>-0.259725</td>\n",
       "      <td>0.413318</td>\n",
       "    </tr>\n",
       "  </tbody>\n",
       "</table>\n",
       "</div>"
      ],
      "text/plain": [
       "  What laptop do you currently have? What laptop would you buy in next assuming if all laptops cost the same? What is your nationality?           What program are you in? What is your ethnicity?  Gender  What is your age?  surveyID            Cluster  Grumpy Antisocial  Social-bipolar  Emotional-introvert      Geek  Quiet Artistic\n",
       "0                            Macbook                                                                  Macbook                 Ecuadorian     DD (MIB & Business Analytics)       Hispanic / Latino  Female               25.0   10000.0  Life of the Party           0.248952       -0.505081             0.505391 -0.011025       -1.078718\n",
       "1                     Windows laptop                                                           Windows laptop                 Ecuadorian       One year Business Analytics       Hispanic / Latino    Male               27.0   10001.0   Anti-Social Geek           0.845267       -0.591986             1.361889  2.053845        1.107067\n",
       "2                     Windows laptop                                                           Windows laptop                     Indian       One year Business Analytics     West Asian / Indian    Male               25.0   10002.0   Social Networker           1.286857       -2.454765            -4.448054  2.133418       -1.299191\n",
       "3                     Windows laptop                                                           Windows laptop                     Indian       One year Business Analytics     West Asian / Indian  Female               26.0   10003.0        Shy Artists           0.826527        2.600973             1.340038 -0.857590        2.788673\n",
       "4                            Macbook                                                           Windows laptop                    Chinese  DD (MBA & Disruptive innovation)          Far east Asian    Male               27.0   10004.0        Shy Artists           4.040381        1.547018            -0.697926 -0.259725        0.413318"
      ]
     },
     "execution_count": 42,
     "metadata": {},
     "output_type": "execute_result"
    }
   ],
   "source": [
    "# concatenating cluster with principal components\n",
    "clst_pca_df = pd.concat([customers_kmeans_pca,\n",
    "                         X_pca_df],\n",
    "                         axis = 1)\n",
    "\n",
    "\n",
    "# checking results\n",
    "clst_pca_df\n",
    "\n",
    "\n",
    "# concatenating demographic information with pca-clusters\n",
    "final_pca_clust_df = pd.concat([survey.loc[ : , ['What laptop do you currently have?',\n",
    "                                            'What laptop would you buy in next assuming if all laptops cost the same?',\n",
    "                                            'What is your nationality? ',\n",
    "                                            'What program are you in?',\n",
    "                                            'What is your ethnicity?',\n",
    "                                            'Gender',\n",
    "                                            'What is your age?',\n",
    "                                            'surveyID']],\n",
    "                                clst_pca_df],\n",
    "                               axis = 1)\n",
    "\n",
    "# renaming Clusters\n",
    "cluster_names = {0 : 'Shy Artists', #Shy Artists\n",
    "                 1 : 'Anti-Social Geek', # Anti-Social Geek\n",
    "                 2 : 'Life of the Party', #Life of the Party\n",
    "                 3 : 'Social Networker'} #Social Networker\n",
    "\n",
    "final_pca_clust_df['Cluster'].replace(cluster_names, inplace = True)\n",
    "\n",
    "# renaming columns\n",
    "final_pca_clust_df.columns = ['What laptop do you currently have?',\n",
    "                             'What laptop would you buy in next assuming if all laptops cost the same?',\n",
    "                             'What is your nationality? ',\n",
    "                             'What program are you in?',\n",
    "                             'What is your ethnicity?',\n",
    "                                'Gender',\n",
    "                                'What is your age?',\n",
    "                                'surveyID',\n",
    "                                'Cluster',\n",
    "                                'Grumpy Antisocial',  \n",
    "                            'Social-bipolar',         \n",
    "                            'Emotional-introvert', \n",
    "                            'Geek',            \n",
    "                            'Quiet Artistic']\n",
    "\n",
    "\n",
    "# checking the results\n",
    "final_pca_clust_df.head(n = 5)"
   ]
  },
  {
   "cell_type": "markdown",
   "metadata": {},
   "source": [
    "<hr style=\"height:.9px;border:none;color:#333;background-color:#333;\" /><br>\n",
    "<strong>Hult DNA</strong><br>\n"
   ]
  },
  {
   "cell_type": "markdown",
   "metadata": {},
   "source": [
    "Now, we developed a PCA model for the Hult DNA with no limit to principal components. Next, we will decide how many components to retain to build a new model with a limited number of principal components and interpret the results."
   ]
  },
  {
   "cell_type": "code",
   "execution_count": 43,
   "metadata": {},
   "outputs": [
    {
     "name": "stdout",
     "output_type": "stream",
     "text": [
      "Original shape: (129, 18)\n",
      "PCA shape     : (129, 18)\n"
     ]
    }
   ],
   "source": [
    "#Instantiating PCA object with no number of principal components for hult dna\n",
    "hultdna_pca = PCA(n_components = None,\n",
    "         random_state = 802)\n",
    "\n",
    "#Fitting and transforming\n",
    "hult_pca = hultdna_pca.fit_transform(hult)\n",
    "\n",
    "# comparing dimensions of each DataFrame\n",
    "print(\"Original shape:\", hult.shape)\n",
    "print(\"PCA shape     :\",  hult_pca.shape)\n"
   ]
  },
  {
   "cell_type": "markdown",
   "metadata": {},
   "source": [
    "<strong> Scree Plot <strong>"
   ]
  },
  {
   "cell_type": "code",
   "execution_count": 44,
   "metadata": {},
   "outputs": [
    {
     "data": {
      "image/png": "[encoded data removed]",
      "text/plain": [
       "<Figure size 720x576 with 1 Axes>"
      ]
     },
     "metadata": {
      "needs_background": "light"
     },
     "output_type": "display_data"
    }
   ],
   "source": [
    "#Calling scree plot function\n",
    "scree_plot(pca_object = hultdna_pca)"
   ]
  },
  {
   "cell_type": "markdown",
   "metadata": {},
   "source": [
    "Based on the scree plot above, we can see an elbow where the PCA features equals to 3. Therefore, we will proceed to run the code with a reduced number of 3 principal components.\n",
    "\n"
   ]
  },
  {
   "cell_type": "code",
   "execution_count": 45,
   "metadata": {},
   "outputs": [],
   "source": [
    "# INSTANTIATING a new model using the first fourprincipal components\n",
    "pca_3 = PCA(n_components = 3,\n",
    "            random_state = 219)\n",
    "\n",
    "\n",
    "# FITTING and TRANSFORMING the purchases_scaled\n",
    "hult_pca3 = pca_3.fit_transform(hult_scaled)"
   ]
  },
  {
   "cell_type": "markdown",
   "metadata": {},
   "source": [
    "The following code is to show that the explained variance for each principal component does not change after dropping smaller PCs.\n",
    "\n"
   ]
  },
  {
   "cell_type": "code",
   "execution_count": 46,
   "metadata": {},
   "outputs": [
    {
     "name": "stdout",
     "output_type": "stream",
     "text": [
      "\n",
      "MAX Components Factor Loadings\n",
      "------------------------------\n",
      "                                                                              0     1     2     3     4     5     6     7     8     9     10    11    12    13    14    15    16    17\n",
      "See underlying patterns in complex situations                              -0.26 -0.05 -0.08 -0.01  0.09 -0.07  0.12 -0.45 -0.42  0.41 -0.05  0.46  0.11  0.05  0.26 -0.21 -0.09  0.03\n",
      "Don't  generate ideas that are new and different                            0.14  0.42  0.78 -0.19  0.04 -0.10 -0.31 -0.02 -0.01  0.15 -0.04  0.10  0.05 -0.08  0.03 -0.02 -0.11  0.02\n",
      "Demonstrate an awareness of personal strengths and limitations             -0.22  0.15  0.09 -0.04  0.07 -0.35  0.27  0.16 -0.39  0.06  0.43 -0.42  0.25  0.10 -0.09 -0.05  0.20 -0.22\n",
      "Display a growth mindset                                                   -0.26  0.06 -0.07 -0.14 -0.04 -0.24  0.14  0.26 -0.09 -0.04 -0.54  0.15  0.31 -0.39 -0.39  0.14 -0.03  0.12\n",
      "Respond effectively to multiple priorities                                 -0.25  0.07  0.10  0.02  0.15 -0.16  0.22  0.17  0.01  0.02  0.11  0.05 -0.54 -0.24  0.29  0.20  0.24  0.49\n",
      "Take initiative even when circumstances, objectives, or rules aren't clear -0.30  0.08  0.07 -0.25  0.19  0.12  0.28 -0.15  0.44  0.12 -0.36 -0.41 -0.00 -0.00  0.25 -0.29 -0.01 -0.18\n",
      "Encourage direct and open discussions                                      -0.26  0.06  0.03 -0.28 -0.07 -0.07  0.24  0.01  0.18  0.02  0.16  0.27 -0.31  0.34 -0.27  0.36 -0.39 -0.30\n",
      "Listen carefully to others                                                 -0.18  0.21 -0.12  0.23 -0.69 -0.09 -0.16  0.03  0.02  0.35 -0.01 -0.19 -0.29 -0.14 -0.09 -0.23 -0.12 -0.03\n",
      "Don't persuasively sell a vision or idea                                    0.15  0.55 -0.09  0.63  0.20 -0.04  0.31 -0.22  0.16 -0.02 -0.05  0.05  0.07 -0.02 -0.06  0.17 -0.07 -0.07\n",
      "Build cooperative relationships                                            -0.25  0.10  0.02  0.02 -0.14 -0.29 -0.10 -0.11  0.37 -0.31  0.10  0.32  0.13  0.31 -0.13 -0.36  0.41  0.16\n",
      "Work well with people from diverse cultural backgrounds                    -0.25  0.06  0.04  0.07 -0.31 -0.02 -0.11  0.03 -0.06 -0.40 -0.07  0.10  0.15 -0.13  0.60  0.31  0.04 -0.38\n",
      "Effectively negotiate interests, resources, and roles                      -0.26  0.04  0.14  0.05 -0.02  0.24  0.09 -0.19 -0.23 -0.55  0.14 -0.13 -0.04 -0.13 -0.12 -0.28 -0.48  0.27\n",
      "Can't rally people on the team around a common goal                         0.15  0.57 -0.52 -0.52  0.06  0.01 -0.19 -0.12 -0.10 -0.12  0.09 -0.02 -0.07 -0.10  0.07 -0.01  0.05  0.04\n",
      "Translate ideas into plans that are organized and realistic                -0.25 -0.10  0.01  0.13  0.25 -0.16 -0.46 -0.44 -0.16 -0.09 -0.22 -0.25 -0.30  0.02 -0.27  0.22  0.19 -0.17\n",
      "Resolve conflicts constructively                                           -0.26  0.11 -0.05  0.02 -0.11  0.23 -0.18 -0.02  0.04  0.19 -0.03 -0.24  0.35  0.42  0.08  0.41 -0.07  0.49\n",
      "Seek and use feedback from teammates                                       -0.20  0.21 -0.07  0.19  0.28  0.21 -0.20  0.57 -0.25 -0.02 -0.24  0.13 -0.19  0.35  0.06 -0.27 -0.03 -0.14\n",
      "Coach teammates for performance and growth                                 -0.29  0.09  0.07  0.00  0.02  0.65 -0.02 -0.02  0.06  0.14  0.28  0.17  0.08 -0.32 -0.25  0.07  0.37 -0.17\n",
      "Drive for results                                                          -0.24 -0.10 -0.18  0.12  0.35 -0.24 -0.39  0.15  0.34  0.15  0.34  0.04  0.19 -0.29  0.09 -0.05 -0.37 -0.03\n",
      "\n",
      "\n",
      "3 Components Factor Loadings\n",
      "------------------------------\n",
      "                                                                               0     1     2\n",
      "See underlying patterns in complex situations                              -0.25  0.18 -0.06\n",
      "Don't  generate ideas that are new and different                            0.08 -0.36  0.55\n",
      "Demonstrate an awareness of personal strengths and limitations             -0.23 -0.16  0.21\n",
      "Display a growth mindset                                                   -0.27 -0.03  0.00\n",
      "Respond effectively to multiple priorities                                 -0.28 -0.04  0.20\n",
      "Take initiative even when circumstances, objectives, or rules aren't clear -0.27  0.02  0.25\n",
      "Encourage direct and open discussions                                      -0.28 -0.01  0.28\n",
      "Listen carefully to others                                                 -0.18 -0.32 -0.31\n",
      "Don't persuasively sell a vision or idea                                    0.09 -0.55 -0.21\n",
      "Build cooperative relationships                                            -0.27 -0.09 -0.03\n",
      "Work well with people from diverse cultural backgrounds                    -0.28 -0.09 -0.06\n",
      "Effectively negotiate interests, resources, and roles                      -0.28 -0.01  0.18\n",
      "Can't rally people on the team around a common goal                         0.09 -0.42 -0.17\n",
      "Translate ideas into plans that are organized and realistic                -0.23  0.26 -0.17\n",
      "Resolve conflicts constructively                                           -0.29 -0.13 -0.16\n",
      "Seek and use feedback from teammates                                       -0.20 -0.27 -0.24\n",
      "Coach teammates for performance and growth                                 -0.26 -0.06  0.05\n",
      "Drive for results                                                          -0.22  0.22 -0.37\n",
      "\n"
     ]
    },
    {
     "name": "stderr",
     "output_type": "stream",
     "text": [
      "<ipython-input-46-49691a42c12d>:7: FutureWarning: The pandas.np module is deprecated and will be removed from pandas in a future version. Import numpy directly instead\n",
      "  factor_loadings_hult = pd.DataFrame(pd.np.transpose(hultdna_pca.components_))\n",
      "<ipython-input-46-49691a42c12d>:18: FutureWarning: The pandas.np module is deprecated and will be removed from pandas in a future version. Import numpy directly instead\n",
      "  factor_loadings_3_hult = pd.DataFrame(pd.np.transpose(pca_3.components_))\n"
     ]
    }
   ],
   "source": [
    "####################\n",
    "#comparing the variance of the unlimited PCA model with the variance of the reduced PCA model\n",
    "\n",
    "### Max PC Model ###\n",
    "####################\n",
    "# transposing pca components (pc = MAX)\n",
    "factor_loadings_hult = pd.DataFrame(pd.np.transpose(hultdna_pca.components_))\n",
    "\n",
    "\n",
    "# naming rows as original features\n",
    "factor_loadings_hult = factor_loadings_hult.set_index(hult_scaled.columns)\n",
    "\n",
    "\n",
    "##################\n",
    "### 3 PC Model ###\n",
    "##################\n",
    "# transposing pca components (pc = 3)\n",
    "factor_loadings_3_hult = pd.DataFrame(pd.np.transpose(pca_3.components_))\n",
    "\n",
    "\n",
    "# naming rows as original features\n",
    "factor_loadings_3_hult = factor_loadings_3_hult.set_index(hult_scaled.columns)\n",
    "\n",
    "\n",
    "# checking the results\n",
    "print(f\"\"\"\n",
    "MAX Components Factor Loadings\n",
    "------------------------------\n",
    "{factor_loadings_hult.round(2)}\n",
    "\n",
    "\n",
    "3 Components Factor Loadings\n",
    "------------------------------\n",
    "{factor_loadings_3_hult.round(2)}\n",
    "\"\"\")\n"
   ]
  },
  {
   "cell_type": "markdown",
   "metadata": {},
   "source": [
    "<strong>Interpreting Principal Components and Persona Development</strong><br>"
   ]
  },
  {
   "cell_type": "code",
   "execution_count": 47,
   "metadata": {},
   "outputs": [
    {
     "name": "stderr",
     "output_type": "stream",
     "text": [
      "<ipython-input-47-63e758417bad>:3: FutureWarning: The pandas.np module is deprecated and will be removed from pandas in a future version. Import numpy directly instead\n",
      "  factor_loadings_df_hult = pd.DataFrame(pd.np.transpose(pca_3.components_))\n"
     ]
    },
    {
     "data": {
      "text/html": [
       "<div>\n",
       "<style scoped>\n",
       "    .dataframe tbody tr th:only-of-type {\n",
       "        vertical-align: middle;\n",
       "    }\n",
       "\n",
       "    .dataframe tbody tr th {\n",
       "        vertical-align: top;\n",
       "    }\n",
       "\n",
       "    .dataframe thead th {\n",
       "        text-align: right;\n",
       "    }\n",
       "</style>\n",
       "<table border=\"1\" class=\"dataframe\">\n",
       "  <thead>\n",
       "    <tr style=\"text-align: right;\">\n",
       "      <th></th>\n",
       "      <th>0</th>\n",
       "      <th>1</th>\n",
       "      <th>2</th>\n",
       "    </tr>\n",
       "  </thead>\n",
       "  <tbody>\n",
       "    <tr>\n",
       "      <th>See underlying patterns in complex situations</th>\n",
       "      <td>-0.25</td>\n",
       "      <td>0.18</td>\n",
       "      <td>-0.06</td>\n",
       "    </tr>\n",
       "    <tr>\n",
       "      <th>Don't  generate ideas that are new and different</th>\n",
       "      <td>0.08</td>\n",
       "      <td>-0.36</td>\n",
       "      <td>0.55</td>\n",
       "    </tr>\n",
       "    <tr>\n",
       "      <th>Demonstrate an awareness of personal strengths and limitations</th>\n",
       "      <td>-0.23</td>\n",
       "      <td>-0.16</td>\n",
       "      <td>0.21</td>\n",
       "    </tr>\n",
       "    <tr>\n",
       "      <th>Display a growth mindset</th>\n",
       "      <td>-0.27</td>\n",
       "      <td>-0.03</td>\n",
       "      <td>0.00</td>\n",
       "    </tr>\n",
       "    <tr>\n",
       "      <th>Respond effectively to multiple priorities</th>\n",
       "      <td>-0.28</td>\n",
       "      <td>-0.04</td>\n",
       "      <td>0.20</td>\n",
       "    </tr>\n",
       "    <tr>\n",
       "      <th>Take initiative even when circumstances, objectives, or rules aren't clear</th>\n",
       "      <td>-0.27</td>\n",
       "      <td>0.02</td>\n",
       "      <td>0.25</td>\n",
       "    </tr>\n",
       "    <tr>\n",
       "      <th>Encourage direct and open discussions</th>\n",
       "      <td>-0.28</td>\n",
       "      <td>-0.01</td>\n",
       "      <td>0.28</td>\n",
       "    </tr>\n",
       "    <tr>\n",
       "      <th>Listen carefully to others</th>\n",
       "      <td>-0.18</td>\n",
       "      <td>-0.32</td>\n",
       "      <td>-0.31</td>\n",
       "    </tr>\n",
       "    <tr>\n",
       "      <th>Don't persuasively sell a vision or idea</th>\n",
       "      <td>0.09</td>\n",
       "      <td>-0.55</td>\n",
       "      <td>-0.21</td>\n",
       "    </tr>\n",
       "    <tr>\n",
       "      <th>Build cooperative relationships</th>\n",
       "      <td>-0.27</td>\n",
       "      <td>-0.09</td>\n",
       "      <td>-0.03</td>\n",
       "    </tr>\n",
       "    <tr>\n",
       "      <th>Work well with people from diverse cultural backgrounds</th>\n",
       "      <td>-0.28</td>\n",
       "      <td>-0.09</td>\n",
       "      <td>-0.06</td>\n",
       "    </tr>\n",
       "    <tr>\n",
       "      <th>Effectively negotiate interests, resources, and roles</th>\n",
       "      <td>-0.28</td>\n",
       "      <td>-0.01</td>\n",
       "      <td>0.18</td>\n",
       "    </tr>\n",
       "    <tr>\n",
       "      <th>Can't rally people on the team around a common goal</th>\n",
       "      <td>0.09</td>\n",
       "      <td>-0.42</td>\n",
       "      <td>-0.17</td>\n",
       "    </tr>\n",
       "    <tr>\n",
       "      <th>Translate ideas into plans that are organized and realistic</th>\n",
       "      <td>-0.23</td>\n",
       "      <td>0.26</td>\n",
       "      <td>-0.17</td>\n",
       "    </tr>\n",
       "    <tr>\n",
       "      <th>Resolve conflicts constructively</th>\n",
       "      <td>-0.29</td>\n",
       "      <td>-0.13</td>\n",
       "      <td>-0.16</td>\n",
       "    </tr>\n",
       "    <tr>\n",
       "      <th>Seek and use feedback from teammates</th>\n",
       "      <td>-0.20</td>\n",
       "      <td>-0.27</td>\n",
       "      <td>-0.24</td>\n",
       "    </tr>\n",
       "    <tr>\n",
       "      <th>Coach teammates for performance and growth</th>\n",
       "      <td>-0.26</td>\n",
       "      <td>-0.06</td>\n",
       "      <td>0.05</td>\n",
       "    </tr>\n",
       "    <tr>\n",
       "      <th>Drive for results</th>\n",
       "      <td>-0.22</td>\n",
       "      <td>0.22</td>\n",
       "      <td>-0.37</td>\n",
       "    </tr>\n",
       "  </tbody>\n",
       "</table>\n",
       "</div>"
      ],
      "text/plain": [
       "                                                                               0     1     2\n",
       "See underlying patterns in complex situations                              -0.25  0.18 -0.06\n",
       "Don't  generate ideas that are new and different                            0.08 -0.36  0.55\n",
       "Demonstrate an awareness of personal strengths and limitations             -0.23 -0.16  0.21\n",
       "Display a growth mindset                                                   -0.27 -0.03  0.00\n",
       "Respond effectively to multiple priorities                                 -0.28 -0.04  0.20\n",
       "Take initiative even when circumstances, objectives, or rules aren't clear -0.27  0.02  0.25\n",
       "Encourage direct and open discussions                                      -0.28 -0.01  0.28\n",
       "Listen carefully to others                                                 -0.18 -0.32 -0.31\n",
       "Don't persuasively sell a vision or idea                                    0.09 -0.55 -0.21\n",
       "Build cooperative relationships                                            -0.27 -0.09 -0.03\n",
       "Work well with people from diverse cultural backgrounds                    -0.28 -0.09 -0.06\n",
       "Effectively negotiate interests, resources, and roles                      -0.28 -0.01  0.18\n",
       "Can't rally people on the team around a common goal                         0.09 -0.42 -0.17\n",
       "Translate ideas into plans that are organized and realistic                -0.23  0.26 -0.17\n",
       "Resolve conflicts constructively                                           -0.29 -0.13 -0.16\n",
       "Seek and use feedback from teammates                                       -0.20 -0.27 -0.24\n",
       "Coach teammates for performance and growth                                 -0.26 -0.06  0.05\n",
       "Drive for results                                                          -0.22  0.22 -0.37"
      ]
     },
     "execution_count": 47,
     "metadata": {},
     "output_type": "execute_result"
    }
   ],
   "source": [
    "#showing questions and factors for each component\n",
    "# transposing pca components\n",
    "factor_loadings_df_hult = pd.DataFrame(pd.np.transpose(pca_3.components_))\n",
    "\n",
    "\n",
    "# naming rows as original features\n",
    "factor_loadings_df_hult = factor_loadings_df_hult.set_index(hult_scaled.columns)\n",
    "\n",
    "\n",
    "# checking the result\n",
    "factor_loadings_df_hult.round(decimals=2)"
   ]
  },
  {
   "cell_type": "markdown",
   "metadata": {},
   "source": [
    "Next, we named each Principal Component based on their factor loadings, that would best represent. We did this by identifying groups of customers that have very high or very low factor loadings in any given principal component."
   ]
  },
  {
   "cell_type": "code",
   "execution_count": 48,
   "metadata": {},
   "outputs": [
    {
     "data": {
      "text/html": [
       "<div>\n",
       "<style scoped>\n",
       "    .dataframe tbody tr th:only-of-type {\n",
       "        vertical-align: middle;\n",
       "    }\n",
       "\n",
       "    .dataframe tbody tr th {\n",
       "        vertical-align: top;\n",
       "    }\n",
       "\n",
       "    .dataframe thead th {\n",
       "        text-align: right;\n",
       "    }\n",
       "</style>\n",
       "<table border=\"1\" class=\"dataframe\">\n",
       "  <thead>\n",
       "    <tr style=\"text-align: right;\">\n",
       "      <th></th>\n",
       "      <th>Careless/Bad professional</th>\n",
       "      <th>Innovative</th>\n",
       "      <th>Self-aware</th>\n",
       "    </tr>\n",
       "  </thead>\n",
       "  <tbody>\n",
       "    <tr>\n",
       "      <th>See underlying patterns in complex situations</th>\n",
       "      <td>-0.25</td>\n",
       "      <td>0.18</td>\n",
       "      <td>-0.06</td>\n",
       "    </tr>\n",
       "    <tr>\n",
       "      <th>Don't  generate ideas that are new and different</th>\n",
       "      <td>0.08</td>\n",
       "      <td>-0.36</td>\n",
       "      <td>0.55</td>\n",
       "    </tr>\n",
       "    <tr>\n",
       "      <th>Demonstrate an awareness of personal strengths and limitations</th>\n",
       "      <td>-0.23</td>\n",
       "      <td>-0.16</td>\n",
       "      <td>0.21</td>\n",
       "    </tr>\n",
       "    <tr>\n",
       "      <th>Display a growth mindset</th>\n",
       "      <td>-0.27</td>\n",
       "      <td>-0.03</td>\n",
       "      <td>0.00</td>\n",
       "    </tr>\n",
       "    <tr>\n",
       "      <th>Respond effectively to multiple priorities</th>\n",
       "      <td>-0.28</td>\n",
       "      <td>-0.04</td>\n",
       "      <td>0.20</td>\n",
       "    </tr>\n",
       "    <tr>\n",
       "      <th>Take initiative even when circumstances, objectives, or rules aren't clear</th>\n",
       "      <td>-0.27</td>\n",
       "      <td>0.02</td>\n",
       "      <td>0.25</td>\n",
       "    </tr>\n",
       "    <tr>\n",
       "      <th>Encourage direct and open discussions</th>\n",
       "      <td>-0.28</td>\n",
       "      <td>-0.01</td>\n",
       "      <td>0.28</td>\n",
       "    </tr>\n",
       "    <tr>\n",
       "      <th>Listen carefully to others</th>\n",
       "      <td>-0.18</td>\n",
       "      <td>-0.32</td>\n",
       "      <td>-0.31</td>\n",
       "    </tr>\n",
       "    <tr>\n",
       "      <th>Don't persuasively sell a vision or idea</th>\n",
       "      <td>0.09</td>\n",
       "      <td>-0.55</td>\n",
       "      <td>-0.21</td>\n",
       "    </tr>\n",
       "    <tr>\n",
       "      <th>Build cooperative relationships</th>\n",
       "      <td>-0.27</td>\n",
       "      <td>-0.09</td>\n",
       "      <td>-0.03</td>\n",
       "    </tr>\n",
       "    <tr>\n",
       "      <th>Work well with people from diverse cultural backgrounds</th>\n",
       "      <td>-0.28</td>\n",
       "      <td>-0.09</td>\n",
       "      <td>-0.06</td>\n",
       "    </tr>\n",
       "    <tr>\n",
       "      <th>Effectively negotiate interests, resources, and roles</th>\n",
       "      <td>-0.28</td>\n",
       "      <td>-0.01</td>\n",
       "      <td>0.18</td>\n",
       "    </tr>\n",
       "    <tr>\n",
       "      <th>Can't rally people on the team around a common goal</th>\n",
       "      <td>0.09</td>\n",
       "      <td>-0.42</td>\n",
       "      <td>-0.17</td>\n",
       "    </tr>\n",
       "    <tr>\n",
       "      <th>Translate ideas into plans that are organized and realistic</th>\n",
       "      <td>-0.23</td>\n",
       "      <td>0.26</td>\n",
       "      <td>-0.17</td>\n",
       "    </tr>\n",
       "    <tr>\n",
       "      <th>Resolve conflicts constructively</th>\n",
       "      <td>-0.29</td>\n",
       "      <td>-0.13</td>\n",
       "      <td>-0.16</td>\n",
       "    </tr>\n",
       "    <tr>\n",
       "      <th>Seek and use feedback from teammates</th>\n",
       "      <td>-0.20</td>\n",
       "      <td>-0.27</td>\n",
       "      <td>-0.24</td>\n",
       "    </tr>\n",
       "    <tr>\n",
       "      <th>Coach teammates for performance and growth</th>\n",
       "      <td>-0.26</td>\n",
       "      <td>-0.06</td>\n",
       "      <td>0.05</td>\n",
       "    </tr>\n",
       "    <tr>\n",
       "      <th>Drive for results</th>\n",
       "      <td>-0.22</td>\n",
       "      <td>0.22</td>\n",
       "      <td>-0.37</td>\n",
       "    </tr>\n",
       "  </tbody>\n",
       "</table>\n",
       "</div>"
      ],
      "text/plain": [
       "                                                                            Careless/Bad professional  Innovative  Self-aware\n",
       "See underlying patterns in complex situations                                                   -0.25        0.18       -0.06\n",
       "Don't  generate ideas that are new and different                                                 0.08       -0.36        0.55\n",
       "Demonstrate an awareness of personal strengths and limitations                                  -0.23       -0.16        0.21\n",
       "Display a growth mindset                                                                        -0.27       -0.03        0.00\n",
       "Respond effectively to multiple priorities                                                      -0.28       -0.04        0.20\n",
       "Take initiative even when circumstances, objectives, or rules aren't clear                      -0.27        0.02        0.25\n",
       "Encourage direct and open discussions                                                           -0.28       -0.01        0.28\n",
       "Listen carefully to others                                                                      -0.18       -0.32       -0.31\n",
       "Don't persuasively sell a vision or idea                                                         0.09       -0.55       -0.21\n",
       "Build cooperative relationships                                                                 -0.27       -0.09       -0.03\n",
       "Work well with people from diverse cultural backgrounds                                         -0.28       -0.09       -0.06\n",
       "Effectively negotiate interests, resources, and roles                                           -0.28       -0.01        0.18\n",
       "Can't rally people on the team around a common goal                                              0.09       -0.42       -0.17\n",
       "Translate ideas into plans that are organized and realistic                                     -0.23        0.26       -0.17\n",
       "Resolve conflicts constructively                                                                -0.29       -0.13       -0.16\n",
       "Seek and use feedback from teammates                                                            -0.20       -0.27       -0.24\n",
       "Coach teammates for performance and growth                                                      -0.26       -0.06        0.05\n",
       "Drive for results                                                                               -0.22        0.22       -0.37"
      ]
     },
     "execution_count": 48,
     "metadata": {},
     "output_type": "execute_result"
    }
   ],
   "source": [
    "# naming each principal component\n",
    "factor_loadings_df_hult.columns = ['Careless/Bad professional', \n",
    "                              'Innovative',     \n",
    "                              'Self-aware']       \n",
    "\n",
    "\n",
    "# checking the result\n",
    "factor_loadings_df_hult.round(decimals=2)"
   ]
  },
  {
   "cell_type": "code",
   "execution_count": 49,
   "metadata": {},
   "outputs": [],
   "source": [
    "# Customer analysis\n",
    "X_pca_reduced_hult= pca_3.transform(hult_scaled)\n",
    "\n",
    "\n",
    "# converting to a DataFrame\n",
    "X_pca_df_hult = pd.DataFrame(X_pca_reduced_hult)\n",
    "\n",
    "\n",
    "# renaming columns\n",
    "X_pca_df_hult.columns= ['Careless/Bad professional', \n",
    "                        'Innovative',     \n",
    "                        'Self-aware']        \n",
    "  \n",
    "\n",
    "\n",
    "# checking the results\n",
    "#X_pca_df_hult.round(decimals=2)\n",
    "\n"
   ]
  },
  {
   "cell_type": "markdown",
   "metadata": {},
   "source": [
    "<strong>Clustering</strong><br>"
   ]
  },
  {
   "cell_type": "markdown",
   "metadata": {},
   "source": [
    "Now, we will start building an agglomerative clustering model for the Hult DNA."
   ]
  },
  {
   "cell_type": "code",
   "execution_count": 50,
   "metadata": {},
   "outputs": [
    {
     "data": {
      "text/plain": [
       "Careless/Bad professional    6.43\n",
       "Innovative                   1.53\n",
       "Self-aware                   1.25\n",
       "dtype: float64"
      ]
     },
     "execution_count": 50,
     "metadata": {},
     "output_type": "execute_result"
    }
   ],
   "source": [
    "# calculate variance\n",
    "np.var(X_pca_df_hult).round(decimals=2)"
   ]
  },
  {
   "cell_type": "markdown",
   "metadata": {},
   "source": [
    "Given that the variance is not longer equal, we will rescale it."
   ]
  },
  {
   "cell_type": "code",
   "execution_count": 51,
   "metadata": {},
   "outputs": [
    {
     "name": "stdout",
     "output_type": "stream",
     "text": [
      "Careless/Bad professional    6.43\n",
      "Innovative                   1.53\n",
      "Self-aware                   1.25\n",
      "dtype: float64 \n",
      "\n",
      "\n",
      "Careless/Bad professional    1.0\n",
      "Innovative                   1.0\n",
      "Self-aware                   1.0\n",
      "dtype: float64\n"
     ]
    },
    {
     "name": "stderr",
     "output_type": "stream",
     "text": [
      "<ipython-input-51-694e371e7ff7>:24: FutureWarning: The pandas.np module is deprecated and will be removed from pandas in a future version. Import numpy directly instead\n",
      "  print(pd.np.var(X_pca_df_hult).round(decimals=2), '\\n\\n')\n",
      "<ipython-input-51-694e371e7ff7>:25: FutureWarning: The pandas.np module is deprecated and will be removed from pandas in a future version. Import numpy directly instead\n",
      "  print(pd.np.var(pca_scaled_hult).round(decimals=2))\n"
     ]
    }
   ],
   "source": [
    "# rescale variance, we want variance=1\n",
    "#INSTANTIATING a StandardScaler() object\n",
    "scaler = StandardScaler()\n",
    "\n",
    "\n",
    "# FITTING the scaler with the data\n",
    "scaler.fit(X_pca_df_hult)\n",
    "\n",
    "\n",
    "# TRANSFORMING our data after fit\n",
    "X_scaled_pca_hult = scaler.transform(X_pca_df_hult)\n",
    "\n",
    "\n",
    "# converting scaled data into a DataFrame\n",
    "pca_scaled_hult = pd.DataFrame(X_scaled_pca_hult)\n",
    "\n",
    "\n",
    "\n",
    "pca_scaled_hult.columns= ['Careless/Bad professional', \n",
    "                              'Innovative',     \n",
    "                              'Self-aware'] \n",
    "\n",
    "# checking pre- and post-scaling variance\n",
    "print(pd.np.var(X_pca_df_hult).round(decimals=2), '\\n\\n')\n",
    "print(pd.np.var(pca_scaled_hult).round(decimals=2))"
   ]
  },
  {
   "cell_type": "markdown",
   "metadata": {},
   "source": [
    "<strong>Dendrogram<strong>"
   ]
  },
  {
   "cell_type": "code",
   "execution_count": 52,
   "metadata": {},
   "outputs": [
    {
     "data": {
      "image/png": "[encoded data removed]",
      "text/plain": [
       "<Figure size 864x864 with 1 Axes>"
      ]
     },
     "metadata": {
      "needs_background": "light"
     },
     "output_type": "display_data"
    }
   ],
   "source": [
    "# grouping data based on Ward distance\n",
    "standard_mergings_ward = linkage(y = pca_scaled_hult,\n",
    "                                 method = 'ward',\n",
    "                                 optimal_ordering = True)\n",
    "\n",
    "\n",
    "# setting plot size\n",
    "fig, ax = plt.subplots(figsize=(12, 12))\n",
    "\n",
    "# developing a dendrogram\n",
    "dendrogram(Z = standard_mergings_ward,\n",
    "           leaf_rotation = 90,\n",
    "           leaf_font_size = 6)\n",
    "\n",
    "\n",
    "# saving and displaying the plot\n",
    "plt.savefig('./standard_hierarchical_clust_ward_hultdna.png')\n",
    "plt.show()"
   ]
  },
  {
   "cell_type": "markdown",
   "metadata": {},
   "source": [
    "<strong>Inertia Plot<strong>"
   ]
  },
  {
   "cell_type": "code",
   "execution_count": 53,
   "metadata": {},
   "outputs": [
    {
     "data": {
      "image/png": "[encoded data removed]",
      "text/plain": [
       "<Figure size 864x576 with 1 Axes>"
      ]
     },
     "metadata": {
      "needs_background": "light"
     },
     "output_type": "display_data"
    }
   ],
   "source": [
    "interia_plot(data = pca_scaled_hult)"
   ]
  },
  {
   "cell_type": "markdown",
   "metadata": {},
   "source": [
    "Based on the dendogram and intertia plot, where we tested our candidate number of clusters. We decided that the number of clusters that best suits is 3."
   ]
  },
  {
   "cell_type": "code",
   "execution_count": 54,
   "metadata": {},
   "outputs": [
    {
     "name": "stdout",
     "output_type": "stream",
     "text": [
      "2    47\n",
      "1    41\n",
      "0    41\n",
      "Name: Cluster, dtype: int64\n"
     ]
    }
   ],
   "source": [
    "# INSTANTIATING a k-Means object with five clusters\n",
    "customers_k_pca_hult = KMeans(n_clusters   = 3,\n",
    "                         random_state = 219)\n",
    "\n",
    "\n",
    "# fitting the object to the data\n",
    "customers_k_pca_hult.fit(pca_scaled_hult)\n",
    "\n",
    "\n",
    "# converting the clusters to a DataFrame\n",
    "customers_kmeans_pca_hult = pd.DataFrame({'Cluster': customers_k_pca_hult.labels_})\n",
    "\n",
    "\n",
    "# checking the results\n",
    "print(customers_kmeans_pca_hult.iloc[: , 0].value_counts())"
   ]
  },
  {
   "cell_type": "code",
   "execution_count": 55,
   "metadata": {},
   "outputs": [
    {
     "data": {
      "text/html": [
       "<div>\n",
       "<style scoped>\n",
       "    .dataframe tbody tr th:only-of-type {\n",
       "        vertical-align: middle;\n",
       "    }\n",
       "\n",
       "    .dataframe tbody tr th {\n",
       "        vertical-align: top;\n",
       "    }\n",
       "\n",
       "    .dataframe thead th {\n",
       "        text-align: right;\n",
       "    }\n",
       "</style>\n",
       "<table border=\"1\" class=\"dataframe\">\n",
       "  <thead>\n",
       "    <tr style=\"text-align: right;\">\n",
       "      <th></th>\n",
       "      <th>Careless/Bad professional</th>\n",
       "      <th>Innovative</th>\n",
       "      <th>Self-aware</th>\n",
       "    </tr>\n",
       "  </thead>\n",
       "  <tbody>\n",
       "    <tr>\n",
       "      <th>0</th>\n",
       "      <td>-0.04</td>\n",
       "      <td>-0.50</td>\n",
       "      <td>-1.00</td>\n",
       "    </tr>\n",
       "    <tr>\n",
       "      <th>1</th>\n",
       "      <td>0.62</td>\n",
       "      <td>-0.52</td>\n",
       "      <td>0.84</td>\n",
       "    </tr>\n",
       "    <tr>\n",
       "      <th>2</th>\n",
       "      <td>-0.50</td>\n",
       "      <td>0.88</td>\n",
       "      <td>0.14</td>\n",
       "    </tr>\n",
       "  </tbody>\n",
       "</table>\n",
       "</div>"
      ],
      "text/plain": [
       "   Careless/Bad professional  Innovative  Self-aware\n",
       "0                      -0.04       -0.50       -1.00\n",
       "1                       0.62       -0.52        0.84\n",
       "2                      -0.50        0.88        0.14"
      ]
     },
     "execution_count": 55,
     "metadata": {},
     "output_type": "execute_result"
    }
   ],
   "source": [
    "# calculating centers of each cluster\n",
    "centroids_pca_hult = customers_k_pca_hult.cluster_centers_\n",
    "\n",
    "\n",
    "# converting cluster centers into a DataFrame\n",
    "centroids_pca_hult_df = pd.DataFrame(centroids_pca_hult)\n",
    "\n",
    "\n",
    "# renaming principal components\n",
    "centroids_pca_hult_df.columns = ['Careless/Bad professional', \n",
    "                              'Innovative',     \n",
    "                              'Self-aware'] \n",
    "\n",
    "\n",
    "# checking results (clusters = rows, pc = columns)\n",
    "centroids_pca_hult_df.round(decimals=2)"
   ]
  },
  {
   "cell_type": "markdown",
   "metadata": {},
   "source": [
    "Based on the previous output, we decide to optionally name our clusters and develop back stories for ideal members of each group."
   ]
  },
  {
   "cell_type": "code",
   "execution_count": 56,
   "metadata": {},
   "outputs": [
    {
     "data": {
      "text/html": [
       "<div>\n",
       "<style scoped>\n",
       "    .dataframe tbody tr th:only-of-type {\n",
       "        vertical-align: middle;\n",
       "    }\n",
       "\n",
       "    .dataframe tbody tr th {\n",
       "        vertical-align: top;\n",
       "    }\n",
       "\n",
       "    .dataframe thead th {\n",
       "        text-align: right;\n",
       "    }\n",
       "</style>\n",
       "<table border=\"1\" class=\"dataframe\">\n",
       "  <thead>\n",
       "    <tr style=\"text-align: right;\">\n",
       "      <th></th>\n",
       "      <th>What laptop do you currently have?</th>\n",
       "      <th>What laptop would you buy in next assuming if all laptops cost the same?</th>\n",
       "      <th>What is your nationality?</th>\n",
       "      <th>What program are you in?</th>\n",
       "      <th>What is your ethnicity?</th>\n",
       "      <th>Gender</th>\n",
       "      <th>What is your age?</th>\n",
       "      <th>surveyID</th>\n",
       "      <th>Cluster</th>\n",
       "      <th>Careless/Bad professional</th>\n",
       "      <th>Innovative</th>\n",
       "      <th>Self-aware</th>\n",
       "    </tr>\n",
       "  </thead>\n",
       "  <tbody>\n",
       "    <tr>\n",
       "      <th>0</th>\n",
       "      <td>Macbook</td>\n",
       "      <td>Macbook</td>\n",
       "      <td>Ecuadorian</td>\n",
       "      <td>DD (MIB &amp; Business Analytics)</td>\n",
       "      <td>Hispanic / Latino</td>\n",
       "      <td>Female</td>\n",
       "      <td>25.0</td>\n",
       "      <td>10000.0</td>\n",
       "      <td>Star Student</td>\n",
       "      <td>0.084816</td>\n",
       "      <td>0.178131</td>\n",
       "      <td>-0.043549</td>\n",
       "    </tr>\n",
       "    <tr>\n",
       "      <th>1</th>\n",
       "      <td>Windows laptop</td>\n",
       "      <td>Windows laptop</td>\n",
       "      <td>Ecuadorian</td>\n",
       "      <td>One year Business Analytics</td>\n",
       "      <td>Hispanic / Latino</td>\n",
       "      <td>Male</td>\n",
       "      <td>27.0</td>\n",
       "      <td>10001.0</td>\n",
       "      <td>Drop Out</td>\n",
       "      <td>-0.090132</td>\n",
       "      <td>0.144905</td>\n",
       "      <td>-2.047709</td>\n",
       "    </tr>\n",
       "    <tr>\n",
       "      <th>2</th>\n",
       "      <td>Windows laptop</td>\n",
       "      <td>Windows laptop</td>\n",
       "      <td>Indian</td>\n",
       "      <td>One year Business Analytics</td>\n",
       "      <td>West Asian / Indian</td>\n",
       "      <td>Male</td>\n",
       "      <td>25.0</td>\n",
       "      <td>10002.0</td>\n",
       "      <td>Star Student</td>\n",
       "      <td>2.729241</td>\n",
       "      <td>1.794919</td>\n",
       "      <td>0.471327</td>\n",
       "    </tr>\n",
       "    <tr>\n",
       "      <th>3</th>\n",
       "      <td>Windows laptop</td>\n",
       "      <td>Windows laptop</td>\n",
       "      <td>Indian</td>\n",
       "      <td>One year Business Analytics</td>\n",
       "      <td>West Asian / Indian</td>\n",
       "      <td>Female</td>\n",
       "      <td>26.0</td>\n",
       "      <td>10003.0</td>\n",
       "      <td>Drop Out</td>\n",
       "      <td>-1.697471</td>\n",
       "      <td>-2.717918</td>\n",
       "      <td>-1.198568</td>\n",
       "    </tr>\n",
       "    <tr>\n",
       "      <th>4</th>\n",
       "      <td>Macbook</td>\n",
       "      <td>Windows laptop</td>\n",
       "      <td>Chinese</td>\n",
       "      <td>DD (MBA &amp; Disruptive innovation)</td>\n",
       "      <td>Far east Asian</td>\n",
       "      <td>Male</td>\n",
       "      <td>27.0</td>\n",
       "      <td>10004.0</td>\n",
       "      <td>Average Student</td>\n",
       "      <td>3.887516</td>\n",
       "      <td>-1.647937</td>\n",
       "      <td>0.987335</td>\n",
       "    </tr>\n",
       "  </tbody>\n",
       "</table>\n",
       "</div>"
      ],
      "text/plain": [
       "  What laptop do you currently have? What laptop would you buy in next assuming if all laptops cost the same? What is your nationality?           What program are you in? What is your ethnicity?  Gender  What is your age?  surveyID          Cluster  Careless/Bad professional  Innovative  Self-aware\n",
       "0                            Macbook                                                                  Macbook                 Ecuadorian     DD (MIB & Business Analytics)       Hispanic / Latino  Female               25.0   10000.0     Star Student                   0.084816    0.178131   -0.043549\n",
       "1                     Windows laptop                                                           Windows laptop                 Ecuadorian       One year Business Analytics       Hispanic / Latino    Male               27.0   10001.0         Drop Out                  -0.090132    0.144905   -2.047709\n",
       "2                     Windows laptop                                                           Windows laptop                     Indian       One year Business Analytics     West Asian / Indian    Male               25.0   10002.0     Star Student                   2.729241    1.794919    0.471327\n",
       "3                     Windows laptop                                                           Windows laptop                     Indian       One year Business Analytics     West Asian / Indian  Female               26.0   10003.0         Drop Out                  -1.697471   -2.717918   -1.198568\n",
       "4                            Macbook                                                           Windows laptop                    Chinese  DD (MBA & Disruptive innovation)          Far east Asian    Male               27.0   10004.0  Average Student                   3.887516   -1.647937    0.987335"
      ]
     },
     "execution_count": 56,
     "metadata": {},
     "output_type": "execute_result"
    }
   ],
   "source": [
    "\n",
    "# concatenating cluster with principal components\n",
    "clst_pca_df_hult = pd.concat([customers_kmeans_pca_hult,\n",
    "                         X_pca_df_hult],\n",
    "                         axis = 1)\n",
    "\n",
    "# checking results\n",
    "clst_pca_df_hult\n",
    "\n",
    "# renaming Cluster\n",
    "cluster_names = {0 : 'Drop Out', #Drop Out\n",
    "                 1 : 'Average Student', #Average Student\n",
    "                 2 : 'Star Student'} #Star Student\n",
    "\n",
    "\n",
    "clst_pca_df_hult['Cluster'].replace(cluster_names, inplace = True)\n",
    "\n",
    "\n",
    "# concatenating demographic information with pca-clusters\n",
    "final_pca_clust_df_hult = pd.concat([survey.loc[ : , ['What laptop do you currently have?',\n",
    "                                            'What laptop would you buy in next assuming if all laptops cost the same?',\n",
    "                                            'What is your nationality? ',\n",
    "                                            'What program are you in?',\n",
    "                                            'What is your ethnicity?',\n",
    "                                            'Gender',\n",
    "                                            'What is your age?',\n",
    "                                            'surveyID']],\n",
    "                                clst_pca_df_hult ],\n",
    "                               axis = 1)\n",
    "\n",
    "# renaming columns\n",
    "final_pca_clust_df_hult.columns = ['What laptop do you currently have?',\n",
    "                             'What laptop would you buy in next assuming if all laptops cost the same?',\n",
    "                             'What is your nationality? ',\n",
    "                             'What program are you in?',\n",
    "                             'What is your ethnicity?',\n",
    "                                'Gender',\n",
    "                                'What is your age?',\n",
    "                                'surveyID',\n",
    "                                'Cluster',\n",
    "                                'Careless/Bad professional', \n",
    "                              'Innovative',     \n",
    "                              'Self-aware']\n",
    "\n",
    "\n",
    "# checking the results\n",
    "final_pca_clust_df_hult.head(n = 5)"
   ]
  },
  {
   "cell_type": "markdown",
   "metadata": {},
   "source": [
    "<hr style=\"height:.9px;border:none;color:#333;background-color:#333;\" /><br>\n",
    "\n",
    "<h2>Part V: Analyze with Demographics</h2><br>"
   ]
  },
  {
   "cell_type": "markdown",
   "metadata": {},
   "source": [
    "Finally, in order to get some insights we plot results with demographics. We did the following plots:\n",
    "\n",
    "1. What laptop would you buy in next assuming if all laptops cost the same? - Big 5 Personality Tests\n",
    "2. Gender - Big 5 Personality Tests\n",
    "3. What is your ethnicity? - Big 5 Personality Test\n",
    "4. What laptop would you buy in next assuming if all laptops cost the same? - Hult DNA\n",
    "4. Gender - Hult DNA\n",
    "6. What is your ethnicity? - Hult DNA"
   ]
  },
  {
   "cell_type": "markdown",
   "metadata": {},
   "source": [
    "<hr style=\"height:.9px;border:none;color:#333;background-color:#333;\" /><br>\n",
    "<strong>1. What laptop would you buy in next assuming if all laptops cost the same? - Big 5 Personality Test</strong><br>\n"
   ]
  },
  {
   "cell_type": "code",
   "execution_count": 57,
   "metadata": {
    "scrolled": false
   },
   "outputs": [
    {
     "data": {
      "image/png": "[encoded data removed]",
      "text/plain": [
       "<Figure size 864x576 with 1 Axes>"
      ]
     },
     "metadata": {
      "needs_background": "light"
     },
     "output_type": "display_data"
    },
    {
     "data": {
      "image/png": "[encoded data removed]",
      "text/plain": [
       "<Figure size 864x576 with 1 Axes>"
      ]
     },
     "metadata": {
      "needs_background": "light"
     },
     "output_type": "display_data"
    },
    {
     "data": {
      "image/png": "[encoded data removed]",
      "text/plain": [
       "<Figure size 864x576 with 1 Axes>"
      ]
     },
     "metadata": {
      "needs_background": "light"
     },
     "output_type": "display_data"
    },
    {
     "data": {
      "image/png": "[encoded data removed]",
      "text/plain": [
       "<Figure size 864x576 with 1 Axes>"
      ]
     },
     "metadata": {
      "needs_background": "light"
     },
     "output_type": "display_data"
    },
    {
     "data": {
      "image/png": "[encoded data removed]",
      "text/plain": [
       "<Figure size 864x576 with 1 Axes>"
      ]
     },
     "metadata": {
      "needs_background": "light"
     },
     "output_type": "display_data"
    }
   ],
   "source": [
    "###################################################\n",
    "#Which laptop would you buy? - 'Grumpy Antisocial'\n",
    "###################################################\n",
    "\n",
    "fig, ax = plt.subplots(figsize = (12, 8))\n",
    "sns.boxplot(x = 'What laptop would you buy in next assuming if all laptops cost the same?',\n",
    "            y = 'Grumpy Antisocial',\n",
    "            hue = 'Cluster',\n",
    "            data = final_pca_clust_df)\n",
    "\n",
    "\n",
    "# formatting and displaying the plot\n",
    "plt.tight_layout()\n",
    "plt.show()\n",
    "\n",
    "################################################\n",
    "#Which laptop would you buy? - 'Social Bipolar'\n",
    "################################################\n",
    "\n",
    "fig, ax = plt.subplots(figsize = (12, 8))\n",
    "sns.boxplot(x = 'What laptop would you buy in next assuming if all laptops cost the same?',\n",
    "            y = 'Social-bipolar',\n",
    "            hue = 'Cluster',\n",
    "            data = final_pca_clust_df)\n",
    "\n",
    "\n",
    "# formatting and displaying the plot\n",
    "plt.tight_layout()\n",
    "plt.show()\n",
    "\n",
    "####################################################\n",
    "#Which laptop would you buy? - 'Emotional-introvert'\n",
    "####################################################\n",
    "\n",
    "fig, ax = plt.subplots(figsize = (12, 8))\n",
    "sns.boxplot(x = 'What laptop would you buy in next assuming if all laptops cost the same?',\n",
    "            y = 'Emotional-introvert',\n",
    "            hue = 'Cluster',\n",
    "            data = final_pca_clust_df)\n",
    "\n",
    "\n",
    "# formatting and displaying the plot\n",
    "plt.tight_layout()\n",
    "plt.show()\n",
    "\n",
    "#####################################\n",
    "#Which laptop would you buy? - 'Geek'\n",
    "######################################\n",
    "\n",
    "fig, ax = plt.subplots(figsize = (12, 8))\n",
    "sns.boxplot(x = 'What laptop would you buy in next assuming if all laptops cost the same?',\n",
    "            y = 'Geek',\n",
    "            hue = 'Cluster',\n",
    "            data = final_pca_clust_df)\n",
    "\n",
    "\n",
    "# formatting and displaying the plot\n",
    "plt.tight_layout()\n",
    "plt.show()\n",
    "\n",
    "###############################################\n",
    "#Which laptop would you buy? - 'Quiet Artistic'\n",
    "###############################################\n",
    "\n",
    "fig, ax = plt.subplots(figsize = (12, 8))\n",
    "sns.boxplot(x = 'What laptop would you buy in next assuming if all laptops cost the same?',\n",
    "            y = 'Quiet Artistic',\n",
    "            hue = 'Cluster',\n",
    "            data = final_pca_clust_df)\n",
    "\n",
    "\n",
    "# formatting and displaying the plot\n",
    "plt.tight_layout()\n",
    "plt.show()"
   ]
  },
  {
   "cell_type": "markdown",
   "metadata": {},
   "source": [
    "<hr style=\"height:.9px;border:none;color:#333;background-color:#333;\" /><br>\n",
    "<strong>2. Gender - Big 5 Personality Test</strong><br>\n"
   ]
  },
  {
   "cell_type": "code",
   "execution_count": 58,
   "metadata": {
    "scrolled": false
   },
   "outputs": [
    {
     "data": {
      "image/png": "[encoded data removed]",
      "text/plain": [
       "<Figure size 864x576 with 1 Axes>"
      ]
     },
     "metadata": {
      "needs_background": "light"
     },
     "output_type": "display_data"
    },
    {
     "data": {
      "image/png": "[encoded data removed]",
      "text/plain": [
       "<Figure size 864x576 with 1 Axes>"
      ]
     },
     "metadata": {
      "needs_background": "light"
     },
     "output_type": "display_data"
    },
    {
     "data": {
      "image/png": "[encoded data removed]",
      "text/plain": [
       "<Figure size 864x576 with 1 Axes>"
      ]
     },
     "metadata": {
      "needs_background": "light"
     },
     "output_type": "display_data"
    },
    {
     "data": {
      "image/png": "[encoded data removed]",
      "text/plain": [
       "<Figure size 864x576 with 1 Axes>"
      ]
     },
     "metadata": {
      "needs_background": "light"
     },
     "output_type": "display_data"
    },
    {
     "data": {
      "image/png": "[encoded data removed]",
      "text/plain": [
       "<Figure size 864x576 with 1 Axes>"
      ]
     },
     "metadata": {
      "needs_background": "light"
     },
     "output_type": "display_data"
    }
   ],
   "source": [
    "###################################################\n",
    "#Gender - 'Grumpy Antisocial'\n",
    "###################################################\n",
    "\n",
    "fig, ax = plt.subplots(figsize = (12, 8))\n",
    "sns.boxplot(x = 'Gender',\n",
    "            y = 'Grumpy Antisocial',\n",
    "            hue = 'Cluster',\n",
    "            data = final_pca_clust_df)\n",
    "\n",
    "\n",
    "# formatting and displaying the plot\n",
    "plt.tight_layout()\n",
    "plt.show()\n",
    "\n",
    "################################################\n",
    "#Gender - 'Social Bipolar'\n",
    "################################################\n",
    "\n",
    "fig, ax = plt.subplots(figsize = (12, 8))\n",
    "sns.boxplot(x = 'Gender',\n",
    "            y = 'Social-bipolar',\n",
    "            hue = 'Cluster',\n",
    "            data = final_pca_clust_df)\n",
    "\n",
    "\n",
    "# formatting and displaying the plot\n",
    "plt.tight_layout()\n",
    "plt.show()\n",
    "\n",
    "####################################################\n",
    "#Gender - 'Emotional-introvert'\n",
    "####################################################\n",
    "\n",
    "fig, ax = plt.subplots(figsize = (12, 8))\n",
    "sns.boxplot(x = 'Gender',\n",
    "            y = 'Emotional-introvert',\n",
    "            hue = 'Cluster',\n",
    "            data = final_pca_clust_df)\n",
    "\n",
    "\n",
    "# formatting and displaying the plot\n",
    "plt.tight_layout()\n",
    "plt.show()\n",
    "\n",
    "#####################################\n",
    "#Gender - 'Geek'\n",
    "######################################\n",
    "\n",
    "fig, ax = plt.subplots(figsize = (12, 8))\n",
    "sns.boxplot(x = 'Gender',\n",
    "            y = 'Geek',\n",
    "            hue = 'Cluster',\n",
    "            data = final_pca_clust_df)\n",
    "\n",
    "\n",
    "# formatting and displaying the plot\n",
    "plt.tight_layout()\n",
    "plt.show()\n",
    "\n",
    "###############################################\n",
    "#Gender - 'Quiet Artistic'\n",
    "###############################################\n",
    "\n",
    "fig, ax = plt.subplots(figsize = (12, 8))\n",
    "sns.boxplot(x = 'Gender',\n",
    "            y = 'Quiet Artistic',\n",
    "            hue = 'Cluster',\n",
    "            data = final_pca_clust_df)\n",
    "\n",
    "\n",
    "# formatting and displaying the plot\n",
    "plt.tight_layout()\n",
    "plt.show()"
   ]
  },
  {
   "cell_type": "markdown",
   "metadata": {},
   "source": [
    "<hr style=\"height:.9px;border:none;color:#333;background-color:#333;\" /><br>\n",
    "<strong>3. What is your ethnicity? - Big 5 Personality Test</strong><br>\n"
   ]
  },
  {
   "cell_type": "code",
   "execution_count": 59,
   "metadata": {},
   "outputs": [
    {
     "data": {
      "image/png": "[encoded data removed]",
      "text/plain": [
       "<Figure size 864x576 with 1 Axes>"
      ]
     },
     "metadata": {
      "needs_background": "light"
     },
     "output_type": "display_data"
    },
    {
     "data": {
      "image/png": "[encoded data removed]",
      "text/plain": [
       "<Figure size 864x576 with 1 Axes>"
      ]
     },
     "metadata": {
      "needs_background": "light"
     },
     "output_type": "display_data"
    },
    {
     "data": {
      "image/png": "[encoded data removed]",
      "text/plain": [
       "<Figure size 864x576 with 1 Axes>"
      ]
     },
     "metadata": {
      "needs_background": "light"
     },
     "output_type": "display_data"
    },
    {
     "data": {
      "image/png": "[encoded data removed]",
      "text/plain": [
       "<Figure size 864x576 with 1 Axes>"
      ]
     },
     "metadata": {
      "needs_background": "light"
     },
     "output_type": "display_data"
    },
    {
     "data": {
      "image/png": "[encoded data removed]",
      "text/plain": [
       "<Figure size 864x576 with 1 Axes>"
      ]
     },
     "metadata": {
      "needs_background": "light"
     },
     "output_type": "display_data"
    }
   ],
   "source": [
    "###################################################\n",
    "#What is your ethnicity? - 'Grumpy Antisocial'\n",
    "###################################################\n",
    "\n",
    "fig, ax = plt.subplots(figsize = (12, 8))\n",
    "sns.boxplot(x = 'What is your ethnicity?',\n",
    "            y = 'Grumpy Antisocial',\n",
    "            hue = 'Cluster',\n",
    "            data = final_pca_clust_df)\n",
    "\n",
    "\n",
    "# formatting and displaying the plot\n",
    "plt.tight_layout()\n",
    "plt.show()\n",
    "\n",
    "################################################\n",
    "#What is your ethnicity? - 'Social Bipolar'\n",
    "################################################\n",
    "\n",
    "fig, ax = plt.subplots(figsize = (12, 8))\n",
    "sns.boxplot(x = 'What is your ethnicity?',\n",
    "            y = 'Social-bipolar',\n",
    "            hue = 'Cluster',\n",
    "            data = final_pca_clust_df)\n",
    "\n",
    "\n",
    "# formatting and displaying the plot\n",
    "plt.tight_layout()\n",
    "plt.show()\n",
    "\n",
    "####################################################\n",
    "#What is your ethnicity? - 'Emotional-introvert'\n",
    "####################################################\n",
    "\n",
    "fig, ax = plt.subplots(figsize = (12, 8))\n",
    "sns.boxplot(x = 'What is your ethnicity?',\n",
    "            y = 'Emotional-introvert',\n",
    "            hue = 'Cluster',\n",
    "            data = final_pca_clust_df)\n",
    "\n",
    "\n",
    "# formatting and displaying the plot\n",
    "plt.tight_layout()\n",
    "plt.show()\n",
    "\n",
    "#####################################\n",
    "#What is your ethnicity? - 'Geek'\n",
    "######################################\n",
    "\n",
    "fig, ax = plt.subplots(figsize = (12, 8))\n",
    "sns.boxplot(x = 'What is your ethnicity?',\n",
    "            y = 'Geek',\n",
    "            hue = 'Cluster',\n",
    "            data = final_pca_clust_df)\n",
    "\n",
    "\n",
    "# formatting and displaying the plot\n",
    "plt.tight_layout()\n",
    "plt.show()\n",
    "\n",
    "###############################################\n",
    "#What is your ethnicity? - 'Quiet Artistic'\n",
    "###############################################\n",
    "\n",
    "fig, ax = plt.subplots(figsize = (12, 8))\n",
    "sns.boxplot(x = 'What is your ethnicity?',\n",
    "            y = 'Quiet Artistic',\n",
    "            hue = 'Cluster',\n",
    "            data = final_pca_clust_df)\n",
    "\n",
    "\n",
    "# formatting and displaying the plot\n",
    "plt.tight_layout()\n",
    "plt.show()"
   ]
  },
  {
   "cell_type": "markdown",
   "metadata": {},
   "source": [
    "<hr style=\"height:.9px;border:none;color:#333;background-color:#333;\" /><br>\n",
    "<strong>3. What laptop would you buy in next assuming if all laptops cost the same? - Hult DNA</strong><br>\n"
   ]
  },
  {
   "cell_type": "code",
   "execution_count": 60,
   "metadata": {},
   "outputs": [
    {
     "data": {
      "image/png": "[encoded data removed]",
      "text/plain": [
       "<Figure size 864x576 with 1 Axes>"
      ]
     },
     "metadata": {
      "needs_background": "light"
     },
     "output_type": "display_data"
    },
    {
     "data": {
      "image/png": "[encoded data removed]",
      "text/plain": [
       "<Figure size 864x576 with 1 Axes>"
      ]
     },
     "metadata": {
      "needs_background": "light"
     },
     "output_type": "display_data"
    },
    {
     "data": {
      "image/png": "[encoded data removed]",
      "text/plain": [
       "<Figure size 864x576 with 1 Axes>"
      ]
     },
     "metadata": {
      "needs_background": "light"
     },
     "output_type": "display_data"
    }
   ],
   "source": [
    "#################################################################\n",
    "#Which laptop would you buy? - Hult DNA Careless/Bad professional\n",
    "#################################################################\n",
    "\n",
    "fig, ax = plt.subplots(figsize = (12, 8))\n",
    "sns.boxplot(x = 'What laptop would you buy in next assuming if all laptops cost the same?',\n",
    "            y = 'Careless/Bad professional',\n",
    "            hue = 'Cluster',\n",
    "            data = final_pca_clust_df_hult)\n",
    "\n",
    "\n",
    "# formatting and displaying the plot\n",
    "plt.tight_layout()\n",
    "plt.show()\n",
    "\n",
    "##################################################\n",
    "#Which laptop would you buy? - Hult DNA Innovative\n",
    "##################################################\n",
    "\n",
    "\n",
    "fig, ax = plt.subplots(figsize = (12, 8))\n",
    "sns.boxplot(x = 'What laptop would you buy in next assuming if all laptops cost the same?',\n",
    "            y = 'Innovative',\n",
    "            hue = 'Cluster',\n",
    "            data = final_pca_clust_df_hult)\n",
    "\n",
    "\n",
    "# formatting and displaying the plot\n",
    "plt.tight_layout()\n",
    "plt.show()\n",
    "\n",
    "##################################################\n",
    "#Which laptop would you buy? - Hult DNA Self-aware\n",
    "##################################################\n",
    "\n",
    "\n",
    "                              \n",
    "fig, ax = plt.subplots(figsize = (12, 8))\n",
    "sns.boxplot(x = 'What laptop would you buy in next assuming if all laptops cost the same?',\n",
    "            y = 'Self-aware',\n",
    "            hue = 'Cluster',\n",
    "            data = final_pca_clust_df_hult)\n",
    "\n",
    "\n",
    "# formatting and displaying the plot\n",
    "plt.tight_layout()\n",
    "plt.show()"
   ]
  },
  {
   "cell_type": "markdown",
   "metadata": {},
   "source": [
    "<hr style=\"height:.9px;border:none;color:#333;background-color:#333;\" /><br>\n",
    "<strong>Gender - Hult DNA</strong><br>"
   ]
  },
  {
   "cell_type": "code",
   "execution_count": 61,
   "metadata": {},
   "outputs": [
    {
     "data": {
      "image/png": "[encoded data removed]",
      "text/plain": [
       "<Figure size 864x576 with 1 Axes>"
      ]
     },
     "metadata": {
      "needs_background": "light"
     },
     "output_type": "display_data"
    },
    {
     "data": {
      "image/png": "[encoded data removed]",
      "text/plain": [
       "<Figure size 864x576 with 1 Axes>"
      ]
     },
     "metadata": {
      "needs_background": "light"
     },
     "output_type": "display_data"
    },
    {
     "data": {
      "image/png": "[encoded data removed]",
      "text/plain": [
       "<Figure size 864x576 with 1 Axes>"
      ]
     },
     "metadata": {
      "needs_background": "light"
     },
     "output_type": "display_data"
    }
   ],
   "source": [
    "#################################################################\n",
    "#Gender - Hult DNA Careless/Bad professional\n",
    "#################################################################\n",
    "\n",
    "fig, ax = plt.subplots(figsize = (12, 8))\n",
    "sns.boxplot(x = 'Gender',\n",
    "            y = 'Careless/Bad professional',\n",
    "            hue = 'Cluster',\n",
    "            data = final_pca_clust_df_hult)\n",
    "\n",
    "\n",
    "# formatting and displaying the plot\n",
    "plt.tight_layout()\n",
    "plt.show()\n",
    "\n",
    "##################################################\n",
    "#Gender - Hult DNA Innovative\n",
    "##################################################\n",
    "\n",
    "\n",
    "fig, ax = plt.subplots(figsize = (12, 8))\n",
    "sns.boxplot(x = 'Gender',\n",
    "            y = 'Innovative',\n",
    "            hue = 'Cluster',\n",
    "            data = final_pca_clust_df_hult)\n",
    "\n",
    "\n",
    "# formatting and displaying the plot\n",
    "plt.tight_layout()\n",
    "plt.show()\n",
    "\n",
    "##################################################\n",
    "#Gender - Hult DNA Self-aware\n",
    "##################################################\n",
    "\n",
    "\n",
    "                              \n",
    "fig, ax = plt.subplots(figsize = (12, 8))\n",
    "sns.boxplot(x = 'Gender',\n",
    "            y = 'Self-aware',\n",
    "            hue = 'Cluster',\n",
    "            data = final_pca_clust_df_hult)\n",
    "\n",
    "\n",
    "# formatting and displaying the plot\n",
    "plt.tight_layout()\n",
    "plt.show()"
   ]
  },
  {
   "cell_type": "markdown",
   "metadata": {},
   "source": [
    "<hr style=\"height:.9px;border:none;color:#333;background-color:#333;\" /><br>\n",
    "<strong>6. What is your ethnicity? - Hult DNA</strong><br>"
   ]
  },
  {
   "cell_type": "code",
   "execution_count": 62,
   "metadata": {},
   "outputs": [
    {
     "data": {
      "image/png": "[encoded data removed]",
      "text/plain": [
       "<Figure size 864x576 with 1 Axes>"
      ]
     },
     "metadata": {
      "needs_background": "light"
     },
     "output_type": "display_data"
    },
    {
     "data": {
      "image/png": "[encoded data removed]",
      "text/plain": [
       "<Figure size 864x576 with 1 Axes>"
      ]
     },
     "metadata": {
      "needs_background": "light"
     },
     "output_type": "display_data"
    },
    {
     "data": {
      "image/png": "[encoded data removed]",
      "text/plain": [
       "<Figure size 864x576 with 1 Axes>"
      ]
     },
     "metadata": {
      "needs_background": "light"
     },
     "output_type": "display_data"
    }
   ],
   "source": [
    "#################################################################\n",
    "#What is your ethnicity? - Hult DNA Careless/Bad professional\n",
    "#################################################################\n",
    "\n",
    "fig, ax = plt.subplots(figsize = (12, 8))\n",
    "sns.boxplot(x = 'What is your ethnicity?',\n",
    "            y = 'Careless/Bad professional',\n",
    "            hue = 'Cluster',\n",
    "            data = final_pca_clust_df_hult)\n",
    "\n",
    "\n",
    "# formatting and displaying the plot\n",
    "plt.tight_layout()\n",
    "plt.show()\n",
    "\n",
    "##################################################\n",
    "#What is your ethnicity? - Hult DNA Innovative\n",
    "##################################################\n",
    "\n",
    "\n",
    "fig, ax = plt.subplots(figsize = (12, 8))\n",
    "sns.boxplot(x = 'What is your ethnicity?',\n",
    "            y = 'Innovative',\n",
    "            hue = 'Cluster',\n",
    "            data = final_pca_clust_df_hult)\n",
    "\n",
    "\n",
    "# formatting and displaying the plot\n",
    "plt.tight_layout()\n",
    "plt.show()\n",
    "\n",
    "##################################################\n",
    "#What is your ethnicity? - Hult DNA Self-aware\n",
    "##################################################\n",
    "\n",
    "\n",
    "                              \n",
    "fig, ax = plt.subplots(figsize = (12, 8))\n",
    "sns.boxplot(x = 'What is your ethnicity?',\n",
    "            y = 'Self-aware',\n",
    "            hue = 'Cluster',\n",
    "            data = final_pca_clust_df_hult)\n",
    "\n",
    "\n",
    "# formatting and displaying the plot\n",
    "plt.tight_layout()\n",
    "plt.show()"
   ]
  },
  {
   "cell_type": "markdown",
   "metadata": {},
   "source": [
    "<hr style=\"height:.9px;border:none;color:#333;background-color:#333;\" /><br>\n",
    "\n",
    "<h2>Insights</h2><br>"
   ]
  },
  {
   "cell_type": "markdown",
   "metadata": {},
   "source": [
    "<strong>Big 5 Personality Test</strong><br>"
   ]
  },
  {
   "cell_type": "markdown",
   "metadata": {},
   "source": [
    "In our first data exploration, we found that the majority of the responders in the survey wanted to buy a Macbook next which is a great insight to start for Apple. From the plots of the Big 5 Personality Test, we came as a group to the conclusion that students who tend to be creative or artistic and tend to have a quiet and shy personality are more prone to buy a Macbook. Additionally, it seems that females are more likely to buy a Macbook than males. Although there is no much difference betweeen both genders. When exploring the ethnicities which students respond in the survey, the plots showed that White/caucasian and Asians are the group ethnicities that are more likely to buy a Macbook. "
   ]
  },
  {
   "cell_type": "markdown",
   "metadata": {},
   "source": [
    "<strong>Hult DNA</strong><br>"
   ]
  },
  {
   "cell_type": "markdown",
   "metadata": {},
   "source": [
    "Based on our analysis from the Hult DNA, we found that the type of personality that is more likely to buy a Macbook from the Hult Students are students who are Innovative and tend to be the type of \"Star Students\". Once again, similarly to the Big 5 Personality test analsysis, it seems that females are more likely to buy a Macbook than males. When exploring the ethnicities which students respond in the survey, the plots showed that White/caucasian and Hispanic/Latinos are the group ethnicities that are more likely to buy a Macbook. "
   ]
  },
  {
   "cell_type": "markdown",
   "metadata": {},
   "source": [
    "<hr style=\"height:.9px;border:none;color:#333;background-color:#333;\" /><br>\n",
    "\n",
    "<h2>Recommendations</h2><br>"
   ]
  },
  {
   "cell_type": "markdown",
   "metadata": {},
   "source": [
    "Based on the findings and insights of the Big 5 Personality Test, Apple should target students who are more creative and innovative. According to Rocket yard, “next generation job seekers see Mac as more intuitive, more modern and more easily integrated with their other devices. This leaves them free to be more productive, creative and collaborative” (Mark, 2019). In order to better target this type of students, Apple could collaborate with Adobe, so that its programs can come free for Apple customers. Adobe programs such as Photoshop, Ilustrator and Acrobat are often used by creative and innovative people.\n",
    "\n",
    "Given our findings of the Hult DNA, we recommend Apple to create a discount package for students that comes with a mouse, AirPods. This would be a perfect package for a \"Star Student\", given that this type of student would like to have all the necessary  to be prepared and ready to have classes. Given, that in today's world online classes are more common this would be a great way to target this type of students who will need to have this accessories to perform better with their online classes.\n",
    "\n",
    "It seemed clear that females were more prone to buy a Macbook. According to a study done by Chris Howard, \n",
    "\"women are the ideal customers for Macs\"(Howard, n.d.) and it should take advantage of this. Therefore, Apple should target more to females by allowing purchasers to personalize the design of their computers by allowing them to change colors, add their names, etc; given that females look more design rather than functionality when looking for a laptop.\n"
   ]
  },
  {
   "cell_type": "markdown",
   "metadata": {},
   "source": [
    "<hr style=\"height:.9px;border:none;color:#333;background-color:#333;\" /><br>\n",
    "\n",
    "<h2>References</h2><br>"
   ]
  },
  {
   "cell_type": "markdown",
   "metadata": {},
   "source": [
    "Howard, C. (n.d.). Men are from PCs, women are from Macs. Retrieved 31st January, 2020 from: http://www.applematters.com/article/men_are_from_pcs_women_are_from_macs/index.html\n",
    "\n",
    "Hult DNA Development Guide 2020-2021. (n.d.). Hult International Business School.\n",
    "\n",
    "Mark, C. (2019). WHAT PERCENT OF PEOPLE PREFER MAC OVER PC?. Retrieved 31st January, 2020 from: https://eshop.macsales.com/blog/48820-what-percent-of-people-prefer-mac-over-pc/\n",
    "\n",
    "The Big Five Personality Test. (n.d.).Open Psychometrics. Retrieved 31st January, 2020 from: https://openpsychometrics.org/printable/big-five-personality-test.pdf"
   ]
  }
 ],
 "metadata": {
  "kernelspec": {
   "display_name": "Python 3",
   "language": "python",
   "name": "python3"
  },
  "language_info": {
   "codemirror_mode": {
    "name": "ipython",
    "version": 3
   },
   "file_extension": ".py",
   "mimetype": "text/x-python",
   "name": "python",
   "nbconvert_exporter": "python",
   "pygments_lexer": "ipython3",
   "version": "3.8.3"
  },
  "toc": {
   "base_numbering": 1,
   "nav_menu": {},
   "number_sections": true,
   "sideBar": true,
   "skip_h1_title": false,
   "title_cell": "Table of Contents",
   "title_sidebar": "Contents",
   "toc_cell": false,
   "toc_position": {},
   "toc_section_display": true,
   "toc_window_display": false
  },
  "varInspector": {
   "cols": {
    "lenName": 16,
    "lenType": 16,
    "lenVar": 40
   },
   "kernels_config": {
    "python": {
     "delete_cmd_postfix": "",
     "delete_cmd_prefix": "del ",
     "library": "var_list.py",
     "varRefreshCmd": "print(var_dic_list())"
    },
    "r": {
     "delete_cmd_postfix": ") ",
     "delete_cmd_prefix": "rm(",
     "library": "var_list.r",
     "varRefreshCmd": "cat(var_dic_list()) "
    }
   },
   "types_to_exclude": [
    "module",
    "function",
    "builtin_function_or_method",
    "instance",
    "_Feature"
   ],
   "window_display": false
  }
 },
 "nbformat": 4,
 "nbformat_minor": 4
}
